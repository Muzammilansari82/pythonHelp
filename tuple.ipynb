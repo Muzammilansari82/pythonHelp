{
  "nbformat": 4,
  "nbformat_minor": 0,
  "metadata": {
    "colab": {
      "provenance": []
    },
    "kernelspec": {
      "name": "python3",
      "display_name": "Python 3"
    },
    "language_info": {
      "name": "python"
    }
  },
  "cells": [
    {
      "cell_type": "code",
      "execution_count": null,
      "metadata": {
        "id": "911ApOs794aN"
      },
      "outputs": [],
      "source": [
        "# Write a Python program to unpack a tuple in several\n",
        "# variables.\n",
        "list=[\"Savera\",\"ansari\",\"Aslam\"]\n",
        "tuple1 = (list,9,23,56,3435,\"name\",\"fathername\",\"class\" ,23.423,0,123)\n",
        "print(\"This is tuple 1\",tuple1)\n",
        "\n",
        "\n",
        "(a,b,c,d,e,f,g,h,i,j,k) = tuple1\n",
        "print(\"This is tuple 2\",tuple1)"
      ]
    },
    {
      "cell_type": "code",
      "source": [
        "#repeated items\n",
        "my_tuple = (1, 2, 3, 2, 4, 5, 1, 2, 6)\n",
        "repeated_items = set()\n",
        "\n",
        "for item in my_tuple:\n",
        "    if my_tuple.count(item) > 1:\n",
        "        repeated_items.add(item)\n",
        "\n",
        "print(\"Repeated items in the tuple:\")\n",
        "for item in repeated_items:\n",
        "    print(item)"
      ],
      "metadata": {
        "id": "dLhNl64f-bUY"
      },
      "execution_count": null,
      "outputs": []
    },
    {
      "cell_type": "code",
      "source": [
        "#return the number of times it appears in the tuple.\n",
        "tuplex = 2, 4, 5, 6, 2, 3, 4, 4, 7\n",
        "print(tuplex)\n",
        "\n",
        "count = tuplex.count(4)\n",
        "print(count)"
      ],
      "metadata": {
        "id": "XmnBSVNy-jhI"
      },
      "execution_count": null,
      "outputs": []
    },
    {
      "cell_type": "code",
      "source": [
        "# Write a Python program to remove an empty tuple(s) from\n",
        "# a list of tuples.\n",
        "tuple_list = [(1, 2), (), (3, 4), (), (5, 6, 7), ()]\n",
        "\n",
        "# Using a loop to remove empty tuples\n",
        "i = 0\n",
        "while i < len(tuple_list):\n",
        "    if not tuple_list[i]:\n",
        "        tuple_list.pop(i)\n",
        "    else:\n",
        "        i += 1\n",
        "\n",
        "print(\"List after removing empty tuples:\", tuple_list)\n"
      ],
      "metadata": {
        "id": "LTnqZDUx-5O3"
      },
      "execution_count": null,
      "outputs": []
    },
    {
      "cell_type": "code",
      "source": [
        "# Write a Python program to create an intersection, union difference\n",
        "# and symmetric difference of two sets.\n",
        "\n",
        "a = {12,234,543,12,45,65,4,3}\n",
        "b = {21,345,21, 12,23,324,276}\n",
        "c= a.union(b)\n",
        "d = a.intersection(b)\n",
        "e = a.difference(b)\n",
        "f = a.symmetric_difference(b)"
      ],
      "metadata": {
        "id": "N1lmOvAQ-6ld"
      },
      "execution_count": null,
      "outputs": []
    },
    {
      "cell_type": "code",
      "source": [],
      "metadata": {
        "id": "9DrvF4Sa-5MX"
      },
      "execution_count": null,
      "outputs": []
    }
  ]
}