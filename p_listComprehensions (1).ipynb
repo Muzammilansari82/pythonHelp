{
 "cells": [
  {
   "cell_type": "markdown",
   "metadata": {
    "id": "E7wCUgUkJuCY"
   },
   "source": [
    "# List **Comprehension**\n",
    "List Comprehension offers the shortest syntax for looping through lists:\n",
    "\n",
    "A short hand for loop that will print all items in a list:\n",
    "\n",
    "**Syntax**\n",
    "newlist = [expression for item in iterable if condition == True]\n"
   ]
  },
  {
   "cell_type": "markdown",
   "metadata": {
    "id": "WAUfsmH3R8R9"
   },
   "source": [
    "### **Syntax **\n",
    "newlist = [expression for item in iterable if condition == True]"
   ]
  },
  {
   "cell_type": "code",
   "execution_count": 1,
   "metadata": {
    "id": "YyeeiOj1R5s1"
   },
   "outputs": [
    {
     "name": "stdout",
     "output_type": "stream",
     "text": [
      "apple\n",
      "banana\n",
      "cherry\n"
     ]
    },
    {
     "data": {
      "text/plain": [
       "[None, None, None]"
      ]
     },
     "execution_count": 1,
     "metadata": {},
     "output_type": "execute_result"
    }
   ],
   "source": [
    "thislist = [\"apple\", \"banana\", \"cherry\"]\n",
    "[print(x) for x in thislist]"
   ]
  },
  {
   "cell_type": "code",
   "execution_count": 3,
   "metadata": {
    "colab": {
     "base_uri": "https://localhost:8080/"
    },
    "id": "4rlUGTj2KPwA",
    "outputId": "b18ec3bf-6687-49bd-c631-13300aea20a9"
   },
   "outputs": [
    {
     "name": "stdout",
     "output_type": "stream",
     "text": [
      "['apple', 'banana', 'mango']\n"
     ]
    }
   ],
   "source": [
    "# Based on a list of fruits, you want a new list, containing only the fruits with the letter \"a\" in the name.\n",
    "\n",
    "# Without list comprehension you will have to write a for statement with a conditional test inside:\n",
    "\n",
    "fruits = [\"apple\", \"banana\", \"cherry\", \"kiwi\", \"mango\"]\n",
    "newlist = []\n",
    "\n",
    "for x in fruits:\n",
    "    if \"a\" in x:\n",
    "        newlist.append(x)\n",
    "\n",
    "print(newlist)"
   ]
  },
  {
   "cell_type": "markdown",
   "metadata": {
    "id": "yB8gx9a4KX9g"
   },
   "source": [
    "With list comprehension you can do all that with only one line of code"
   ]
  },
  {
   "cell_type": "code",
   "execution_count": 4,
   "metadata": {
    "colab": {
     "base_uri": "https://localhost:8080/"
    },
    "id": "s8_tn_Z5KbE-",
    "outputId": "b1b0b345-314e-4d28-c189-b15725c74b91"
   },
   "outputs": [
    {
     "name": "stdout",
     "output_type": "stream",
     "text": [
      "['apple', 'banana', 'mango']\n"
     ]
    }
   ],
   "source": [
    "fruits = [\"apple\", \"banana\", \"cherry\", \"kiwi\", \"mango\"]\n",
    "\n",
    "newlist = [x for x in fruits if \"a\" in x]\n",
    "\n",
    "print(newlist)"
   ]
  },
  {
   "cell_type": "markdown",
   "metadata": {
    "id": "LKR0UQHPKrm8"
   },
   "source": [
    "Condition\n",
    "The condition is like a filter that only accepts the items that valuate to True."
   ]
  },
  {
   "cell_type": "code",
   "execution_count": null,
   "metadata": {
    "id": "p8y0wBD-KdgR"
   },
   "outputs": [],
   "source": [
    "# Only accept items that are not \"apple\":\n",
    "newlist = [x for x in fruits if x != \"apple\"]"
   ]
  },
  {
   "cell_type": "markdown",
   "metadata": {
    "id": "hqEc4uKEK4BM"
   },
   "source": [
    "The condition is optional and can be omitted:\n",
    "\n",
    "Example\n",
    "With no if statement:"
   ]
  },
  {
   "cell_type": "code",
   "execution_count": null,
   "metadata": {
    "id": "k9Z_qPgMKx_p"
   },
   "outputs": [],
   "source": [
    "newlist = [x for x in fruits]"
   ]
  },
  {
   "cell_type": "markdown",
   "metadata": {
    "id": "SsFEKbw3K6ho"
   },
   "source": [
    "**Iterable**"
   ]
  },
  {
   "cell_type": "code",
   "execution_count": null,
   "metadata": {
    "id": "zBJ6WDXlLCqi"
   },
   "outputs": [],
   "source": [
    "newlist = [x for x in range(10)]\n"
   ]
  },
  {
   "cell_type": "code",
   "execution_count": null,
   "metadata": {
    "id": "7qGDtGI8LHcN"
   },
   "outputs": [],
   "source": [
    "# Accept only numbers lower than 5:\n",
    "newlist = [x for x in range(10) if x < 5]"
   ]
  },
  {
   "cell_type": "markdown",
   "metadata": {
    "id": "itsVL4c9Narz"
   },
   "source": [
    "Expression\n",
    "The expression is the current item in the iteration, but it is also the outcome, which you can manipulate before it ends up like a list item in the new list:\n",
    "\n",
    "Example\n",
    "Set the values in the new list to upper case:\n",
    "\n",
    "newlist = [x.upper() for x in fruits]"
   ]
  },
  {
   "cell_type": "code",
   "execution_count": null,
   "metadata": {
    "id": "T--wU_SVNhYi"
   },
   "outputs": [],
   "source": []
  },
  {
   "cell_type": "markdown",
   "metadata": {
    "id": "RMfGeA2tNglR"
   },
   "source": [
    "Set all values in the new list to 'hello':\n",
    "\n"
   ]
  },
  {
   "cell_type": "code",
   "execution_count": null,
   "metadata": {
    "id": "TUy-6vJNNhjU"
   },
   "outputs": [],
   "source": [
    "newlist = ['hello' for x in fruits]"
   ]
  },
  {
   "cell_type": "code",
   "execution_count": null,
   "metadata": {
    "id": "ayz5hLXzLIcx"
   },
   "outputs": [],
   "source": [
    "# The expression in the example above says:\n",
    "\n",
    "# \"Return the item if it is not is banana return  banana, if itorange\".\n",
    "newlist = [x if x != \"banana\" else \"orange\" for x in fruits]"
   ]
  },
  {
   "cell_type": "markdown",
   "metadata": {
    "id": "RpQ5Pa0dNsaC"
   },
   "source": [
    "# **Sort**"
   ]
  },
  {
   "cell_type": "markdown",
   "metadata": {
    "id": "f-tpc80DODSD"
   },
   "source": [
    "sort() both alp, num\n",
    "sort descending\n",
    "case insensitive sort in both upper and lower\n",
    "reverse"
   ]
  },
  {
   "cell_type": "code",
   "execution_count": 4,
   "metadata": {
    "id": "Y_fBMVL8OhiM"
   },
   "outputs": [
    {
     "data": {
      "text/plain": [
       "['__add__',\n",
       " '__class__',\n",
       " '__class_getitem__',\n",
       " '__contains__',\n",
       " '__delattr__',\n",
       " '__delitem__',\n",
       " '__dir__',\n",
       " '__doc__',\n",
       " '__eq__',\n",
       " '__format__',\n",
       " '__ge__',\n",
       " '__getattribute__',\n",
       " '__getitem__',\n",
       " '__getstate__',\n",
       " '__gt__',\n",
       " '__hash__',\n",
       " '__iadd__',\n",
       " '__imul__',\n",
       " '__init__',\n",
       " '__init_subclass__',\n",
       " '__iter__',\n",
       " '__le__',\n",
       " '__len__',\n",
       " '__lt__',\n",
       " '__mul__',\n",
       " '__ne__',\n",
       " '__new__',\n",
       " '__reduce__',\n",
       " '__reduce_ex__',\n",
       " '__repr__',\n",
       " '__reversed__',\n",
       " '__rmul__',\n",
       " '__setattr__',\n",
       " '__setitem__',\n",
       " '__sizeof__',\n",
       " '__str__',\n",
       " '__subclasshook__',\n",
       " 'append',\n",
       " 'clear',\n",
       " 'copy',\n",
       " 'count',\n",
       " 'extend',\n",
       " 'index',\n",
       " 'insert',\n",
       " 'pop',\n",
       " 'remove',\n",
       " 'reverse',\n",
       " 'sort']"
      ]
     },
     "execution_count": 4,
     "metadata": {},
     "output_type": "execute_result"
    }
   ],
   "source": [
    "dir(list)"
   ]
  },
  {
   "cell_type": "markdown",
   "metadata": {
    "id": "0yFYTosmOiGl"
   },
   "source": [
    "# **Copy list**"
   ]
  },
  {
   "cell_type": "markdown",
   "metadata": {
    "id": "qRE4E-OvO05r"
   },
   "source": [
    "# **Join List**"
   ]
  },
  {
   "cell_type": "code",
   "execution_count": null,
   "metadata": {
    "id": "W5Df5g9NOhsR"
   },
   "outputs": [],
   "source": []
  },
  {
   "cell_type": "code",
   "execution_count": null,
   "metadata": {
    "id": "IOLSlQ1yPZwi"
   },
   "outputs": [],
   "source": [
    "list = []\n",
    "for x in range(5):\n",
    "    a = input(\"User enter\")\n",
    "    list.append(a)\n",
    "print(list)"
   ]
  },
  {
   "cell_type": "code",
   "execution_count": null,
   "metadata": {
    "id": "UrgHgGTjPaju"
   },
   "outputs": [],
   "source": [
    "x= fruits.count(\" \")\n",
    "x"
   ]
  },
  {
   "cell_type": "code",
   "execution_count": null,
   "metadata": {
    "id": "DTJwC6UxPgB_"
   },
   "outputs": [],
   "source": [
    "fruits.index(\"mango\")\n"
   ]
  },
  {
   "cell_type": "code",
   "execution_count": null,
   "metadata": {
    "id": "PJupyQENPlX6"
   },
   "outputs": [],
   "source": [
    "pop()"
   ]
  },
  {
   "cell_type": "code",
   "execution_count": null,
   "metadata": {
    "id": "AAtvsIhFPmkP"
   },
   "outputs": [],
   "source": []
  },
  {
   "cell_type": "markdown",
   "metadata": {
    "id": "Pic1fsGzQP0s"
   },
   "source": []
  },
  {
   "cell_type": "markdown",
   "metadata": {
    "id": "qdpxD0-EQLje"
   },
   "source": [
    "# **Practice Questions**\n",
    "\n",
    "\n",
    "What is a Python list?\n",
    "How do you create an empty list in Python?\n",
    "How do you create a list with initial values in Python?\n",
    "How do you access an element in a list by its index?\n",
    "How do you add an element to the end of a list in Python?\n",
    "How do you remove an element from a list in Python?\n",
    "How do you check if an element is present in a list?\n",
    "How do you find the length of a list in Python?\n",
    "How do you sort a list in ascending order in Python?\n",
    "How do you reverse the order of elements in a list?"
   ]
  }
 ],
 "metadata": {
  "colab": {
   "provenance": []
  },
  "kernelspec": {
   "display_name": "Python 3 (ipykernel)",
   "language": "python",
   "name": "python3"
  },
  "language_info": {
   "codemirror_mode": {
    "name": "ipython",
    "version": 3
   },
   "file_extension": ".py",
   "mimetype": "text/x-python",
   "name": "python",
   "nbconvert_exporter": "python",
   "pygments_lexer": "ipython3",
   "version": "3.11.4"
  }
 },
 "nbformat": 4,
 "nbformat_minor": 1
}
