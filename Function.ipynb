{
  "cells": [
    {
      "cell_type": "raw",
      "id": "413e1970",
      "metadata": {
        "id": "413e1970"
      },
      "source": [
        "CLASSES AND OBJECT"
      ]
    },
    {
      "cell_type": "code",
      "execution_count": null,
      "id": "d8f1c6a2",
      "metadata": {
        "id": "d8f1c6a2"
      },
      "outputs": [],
      "source": [
        "class  Data:\n",
        "    def __init__(self,f,l):\n",
        "        self.f = f\n",
        "        self.l = l\n",
        "    def display(self):\n",
        "        print(self.f)\n",
        "        print(self.l)\n",
        "\n",
        ""
      ]
    },
    {
      "cell_type": "code",
      "execution_count": null,
      "id": "79d8a603",
      "metadata": {
        "id": "79d8a603",
        "outputId": "3ea3b031-7d50-4036-ffcd-dc02f8d24ff4"
      },
      "outputs": [
        {
          "name": "stdout",
          "output_type": "stream",
          "text": [
            "Savera\n",
            "Ansari\n"
          ]
        }
      ],
      "source": [
        "dataa = Data(\"Savera\",\"Ansari\")\n",
        "dataa.display()"
      ]
    },
    {
      "cell_type": "code",
      "execution_count": null,
      "id": "83de8551",
      "metadata": {
        "id": "83de8551"
      },
      "outputs": [],
      "source": [
        "class Bio:\n",
        "    def __init__(self,name,classs):\n",
        "        self.n = name\n",
        "        self.c = classs\n",
        "    def displayBio(self):\n",
        "        print(self.n)\n",
        "        print(self.c)\n",
        ""
      ]
    },
    {
      "cell_type": "code",
      "execution_count": null,
      "id": "d6e8c8c6",
      "metadata": {
        "id": "d6e8c8c6"
      },
      "outputs": [],
      "source": []
    },
    {
      "cell_type": "code",
      "execution_count": null,
      "id": "36d47dd6",
      "metadata": {
        "id": "36d47dd6",
        "outputId": "e867cf15-39eb-452a-a352-ce47fa7963a7"
      },
      "outputs": [
        {
          "name": "stdout",
          "output_type": "stream",
          "text": [
            "SAvera\n",
            "BSC\n"
          ]
        }
      ],
      "source": [
        "BioData = Bio(\"SAvera\",\"BSC\")\n",
        "BioData.displayBio()"
      ]
    },
    {
      "cell_type": "raw",
      "id": "7695024d",
      "metadata": {
        "id": "7695024d"
      },
      "source": [
        "Constructor\n",
        "def__init__(self,para1,para2):\n",
        "    self.para1_newNAme = para_original name\n",
        "    self.para1_newNAme = para_original name\n",
        "\n",
        " object_name = class_name(\"value of parameter\")\n",
        "print(object_name.parameter_name)"
      ]
    },
    {
      "cell_type": "code",
      "execution_count": null,
      "id": "64ff5b21",
      "metadata": {
        "id": "64ff5b21",
        "outputId": "f02ff533-8619-4340-c925-ed7a15bbfc85"
      },
      "outputs": [
        {
          "name": "stdout",
          "output_type": "stream",
          "text": [
            "Savera\n",
            "50\n"
          ]
        }
      ],
      "source": [
        "class Data:\n",
        "#     Constructor\n",
        "    def __init__(self,name,age):\n",
        "        self.name = name\n",
        "        self.age = age\n",
        "\n",
        "\n",
        "biodata = Data(\"Savera\",\"50\")\n",
        "print(biodata.name)\n",
        "print(biodata.age)\n",
        ""
      ]
    },
    {
      "cell_type": "code",
      "execution_count": null,
      "id": "42c58909",
      "metadata": {
        "id": "42c58909",
        "outputId": "29dda7f4-a1d4-4c7e-fb3b-5a1c4fe084ee"
      },
      "outputs": [
        {
          "name": "stdout",
          "output_type": "stream",
          "text": [
            "<__main__.Data object at 0x000002273EB3E350>\n"
          ]
        }
      ],
      "source": [
        "# print without functiomns\n",
        "\n",
        "class Data:\n",
        "    def __init__(self,grade,percentage):\n",
        "        self.g = grade\n",
        "        self.p = percentage\n",
        "d1 = Data(\"A\",23)\n",
        "print(d1)"
      ]
    },
    {
      "cell_type": "code",
      "execution_count": null,
      "id": "9dfaac75",
      "metadata": {
        "id": "9dfaac75",
        "outputId": "2df519e2-a745-4d5f-c8da-b9c4dd0b0bf7"
      },
      "outputs": [
        {
          "name": "stdout",
          "output_type": "stream",
          "text": [
            "My name is :Savera\n"
          ]
        }
      ],
      "source": [
        "class Data:\n",
        "    def __init__(self,name,age):\n",
        "        self.name = name\n",
        "        self.age = age\n",
        "    def myfunc(self):\n",
        "        print(\"My name is :\"+self.name)\n",
        "d1 = Data(\"Savera\",90)\n",
        "d1.myfunc()"
      ]
    },
    {
      "cell_type": "code",
      "execution_count": null,
      "id": "6ddc8200",
      "metadata": {
        "id": "6ddc8200",
        "outputId": "37f74f76-c2df-4e0c-e63b-5041d20909d4"
      },
      "outputs": [
        {
          "name": "stdout",
          "output_type": "stream",
          "text": [
            "My name is: Savera\n",
            " My MArks is: 100\n",
            " My percentage is: 90\n"
          ]
        }
      ],
      "source": [
        "class Result :\n",
        "    def __init__(myResult,name,marks,percentage):\n",
        "        myResult.name = name\n",
        "        myResult.marks = marks\n",
        "        myResult.percentage = percentage\n",
        "    def myfunc(myResult):\n",
        "        print(\"My name is: \"+myResult.name +\"\\n My MArks is: \"+myResult.marks+\"\\n My percentage is: \"+myResult.percentage)\n",
        "r = Result(\"Savera\",\"89\",\"90\")\n",
        "# r.myfunc()\n",
        "r.marks =\"100\"   #we can upgrade a value\n",
        "r.myfunc()"
      ]
    },
    {
      "cell_type": "code",
      "execution_count": null,
      "id": "7ce6aa4e",
      "metadata": {
        "id": "7ce6aa4e",
        "outputId": "75aac3ee-2ac4-4f9e-bd51-de302f4295d7"
      },
      "outputs": [
        {
          "name": "stdout",
          "output_type": "stream",
          "text": [
            "Enter a Id: 2010\n",
            "Enter a password: savera\n",
            "Successfully Login\n"
          ]
        }
      ],
      "source": [
        "class logIn:\n",
        "    def __init__(self,identity,password):\n",
        "        self.i = identity\n",
        "        self.p = password\n",
        "    def authority(self):\n",
        "        if (self.i == 2010 and self.p == \"savera\"):\n",
        "            print(\"Successfully Login\")\n",
        "        else:\n",
        "            print(\"Invalid\")\n",
        "\n",
        "a = int(input(\"Enter a Id: \"))\n",
        "b= input(\"Enter a password: \")\n",
        "login = logIn(a,b)\n",
        "login.authority()"
      ]
    },
    {
      "cell_type": "code",
      "execution_count": null,
      "id": "6a399d6f",
      "metadata": {
        "id": "6a399d6f",
        "outputId": "671e1740-5b48-4606-9dfe-6eb4888ccb5d"
      },
      "outputs": [
        {
          "name": "stdout",
          "output_type": "stream",
          "text": [
            "Enter a Id: 2010\n",
            "Enter a password: savera\n",
            "Successfully Login\n"
          ]
        }
      ],
      "source": [
        "class logIn:\n",
        "    def __init__(self,identity,password):\n",
        "        self.i = identity\n",
        "        self.p = password\n",
        "    def authority(self):\n",
        "        if (self.i == 2010 and self.p == \"savera\"):\n",
        "            print(\"Successfully Login\")\n",
        "        else:\n",
        "            print(\"Invalid\")\n",
        "\n",
        "\n",
        "a = int(input(\"Enter a Id: \"))\n",
        "b= input(\"Enter a password: \")\n",
        "login = logIn(a,b)\n",
        "login.authority()"
      ]
    },
    {
      "cell_type": "code",
      "execution_count": null,
      "id": "500127c3",
      "metadata": {
        "id": "500127c3",
        "outputId": "5805fbd1-5919-4b63-d5f8-622755f563d5"
      },
      "outputs": [
        {
          "name": "stdout",
          "output_type": "stream",
          "text": [
            "name  Mountain Bike gear is  19\n"
          ]
        }
      ],
      "source": [
        "# Without Constructor\n",
        "class Bike:\n",
        "    name = \"\"\n",
        "    gear = 0\n",
        "b = Bike()\n",
        "b.name = \"Mountain Bike\"\n",
        "b.gear  =19\n",
        "print(\"name \",b.name,\"gear is \",b.gear)"
      ]
    },
    {
      "cell_type": "code",
      "execution_count": null,
      "id": "d2b93dce",
      "metadata": {
        "id": "d2b93dce",
        "outputId": "d8148a95-4d45-4630-df74-2f451a4ba9b2"
      },
      "outputs": [
        {
          "name": "stdout",
          "output_type": "stream",
          "text": [
            "MY bike name isL:  Moiuntain Bike \n",
            " MY Bike gear is:  12\n"
          ]
        }
      ],
      "source": [
        "class Bike:\n",
        "    def __init__(self,name,gear):\n",
        "        self.name = name\n",
        "        self.gear = gear\n",
        "    def func(self):\n",
        "        print(\"MY bike name isL: \",self.name,\"\\n MY Bike gear is: \",self.gear)\n",
        "\n",
        "b = Bike(\"Moiuntain Bike\",12)\n",
        "b.func()\n"
      ]
    },
    {
      "cell_type": "code",
      "execution_count": null,
      "id": "1dd6ca94",
      "metadata": {
        "id": "1dd6ca94",
        "outputId": "a9ea60ad-6036-4e81-8524-8991c3c4e319"
      },
      "outputs": [
        {
          "name": "stdout",
          "output_type": "stream",
          "text": [
            "Employee id:  12\n",
            "Employee id:  10\n"
          ]
        }
      ],
      "source": [
        "class Employee:\n",
        "    employee_id = 0\n",
        "#object\n",
        "emp1 = Employee()\n",
        "emp2 = Employee()\n",
        "emp1.employee_id = 12\n",
        "emp2.employee_id = 10\n",
        "\n",
        "print(\"Employee id: \",emp1.employee_id)\n",
        "print(\"Employee id: \",emp2.employee_id)\n"
      ]
    },
    {
      "cell_type": "code",
      "execution_count": null,
      "id": "90ddd925",
      "metadata": {
        "id": "90ddd925",
        "outputId": "6c5bd9f9-8434-4845-ef1f-778cc21b64bb"
      },
      "outputs": [
        {
          "name": "stdout",
          "output_type": "stream",
          "text": [
            "According to given length:  42.5 \n",
            " According to given breadth:  30.8 \n",
            " then the total area is:  1309.0\n"
          ]
        }
      ],
      "source": [
        "class Room:\n",
        "    def __init__(self,length,breadth):\n",
        "        self.l = length\n",
        "        self.b = breadth\n",
        "    def calculateArea(self):\n",
        "        print(\"According to given length: \",self.l,\"\\n According to given breadth: \",self.b ,\"\\n then the total area is: \",(self.l *self.b))\n",
        "r = Room(42.5,30.8)\n",
        "r.calculateArea()\n",
        ""
      ]
    },
    {
      "cell_type": "code",
      "execution_count": null,
      "id": "8f500cc4",
      "metadata": {
        "id": "8f500cc4",
        "outputId": "a56e35be-c0d4-4490-a3ab-cc1a609213f9"
      },
      "outputs": [
        {
          "name": "stdout",
          "output_type": "stream",
          "text": [
            "Employee id:  12\n",
            "Employee id:  10\n"
          ]
        }
      ],
      "source": [
        "class Employee:\n",
        "    employee_id = 0\n",
        "\n",
        "emp1 = Employee()\n",
        "emp2 = Employee()\n",
        "emp1.employee_id = 12\n",
        "emp2.employee_id = 10\n",
        "\n",
        "print(\"Employee id: \",emp1.employee_id)\n",
        "print(\"Employee id: \",emp2.employee_id)"
      ]
    },
    {
      "cell_type": "code",
      "execution_count": null,
      "id": "66967daa",
      "metadata": {
        "id": "66967daa",
        "outputId": "272c923c-02a9-44d2-df98-dc2f3e526a80"
      },
      "outputs": [
        {
          "name": "stdout",
          "output_type": "stream",
          "text": [
            "name  Mountain Bike gear is  19\n"
          ]
        }
      ],
      "source": [
        "class Bike:\n",
        "    name = \"\"\n",
        "    gear = 0\n",
        "b = Bike()\n",
        "b.name = \"Mountain Bike\"\n",
        "b.gear  =19\n",
        "print(\"name \",b.name,\"gear is \",b.gear)"
      ]
    },
    {
      "cell_type": "code",
      "execution_count": null,
      "id": "3267de05",
      "metadata": {
        "id": "3267de05",
        "outputId": "e8c2c51a-8d52-49fc-ec5f-69c55626c9cf"
      },
      "outputs": [
        {
          "ename": "AttributeError",
          "evalue": "'Bio' object has no attribute 'BioData'",
          "output_type": "error",
          "traceback": [
            "\u001b[1;31m---------------------------------------------------------------------------\u001b[0m",
            "\u001b[1;31mAttributeError\u001b[0m                            Traceback (most recent call last)",
            "Cell \u001b[1;32mIn[68], line 14\u001b[0m\n\u001b[0;32m     11\u001b[0m b\u001b[38;5;241m.\u001b[39mage \u001b[38;5;241m=\u001b[39m \u001b[38;5;124m\"\u001b[39m\u001b[38;5;124m60\u001b[39m\u001b[38;5;124m\"\u001b[39m\n\u001b[0;32m     12\u001b[0m b\u001b[38;5;241m.\u001b[39mclasss \u001b[38;5;241m=\u001b[39m \u001b[38;5;124m\"\u001b[39m\u001b[38;5;124mBSCS\u001b[39m\u001b[38;5;124m\"\u001b[39m\n\u001b[1;32m---> 14\u001b[0m \u001b[43mb\u001b[49m\u001b[38;5;241;43m.\u001b[39;49m\u001b[43mBioData\u001b[49m()\n\u001b[0;32m     15\u001b[0m b\u001b[38;5;241m.\u001b[39mclasss()\n",
            "\u001b[1;31mAttributeError\u001b[0m: 'Bio' object has no attribute 'BioData'"
          ]
        }
      ],
      "source": [
        "class Bio :\n",
        "    name = \"\"\n",
        "    age = 0\n",
        "    classs = \"\"\n",
        "def BioData():\n",
        "    print(\"name is: \",name,\"\\n age is: \",age )\n",
        "def classs():\n",
        "    print(\"I am in class: \",classs)\n",
        "b = Bio()\n",
        "b.getname = \"Savera\"\n",
        "b.age = \"60\"\n",
        "b.classs = \"BSCS\"\n",
        "\n",
        "b.BioData()\n",
        "b.classs()\n"
      ]
    },
    {
      "cell_type": "code",
      "execution_count": null,
      "id": "86d79d8f",
      "metadata": {
        "id": "86d79d8f",
        "outputId": "c64bf0d1-664a-43da-b48c-da70aa4727bd"
      },
      "outputs": [
        {
          "ename": "AttributeError",
          "evalue": "'Bio' object has no attribute 'BioData'",
          "output_type": "error",
          "traceback": [
            "\u001b[1;31m---------------------------------------------------------------------------\u001b[0m",
            "\u001b[1;31mAttributeError\u001b[0m                            Traceback (most recent call last)",
            "Cell \u001b[1;32mIn[64], line 1\u001b[0m\n\u001b[1;32m----> 1\u001b[0m \u001b[43mb\u001b[49m\u001b[38;5;241;43m.\u001b[39;49m\u001b[43mBioData\u001b[49m()\n",
            "\u001b[1;31mAttributeError\u001b[0m: 'Bio' object has no attribute 'BioData'"
          ]
        }
      ],
      "source": [
        "b.BioData()"
      ]
    }
  ],
  "metadata": {
    "kernelspec": {
      "display_name": "Python 3 (ipykernel)",
      "language": "python",
      "name": "python3"
    },
    "language_info": {
      "codemirror_mode": {
        "name": "ipython",
        "version": 3
      },
      "file_extension": ".py",
      "mimetype": "text/x-python",
      "name": "python",
      "nbconvert_exporter": "python",
      "pygments_lexer": "ipython3",
      "version": "3.10.9"
    },
    "colab": {
      "provenance": []
    }
  },
  "nbformat": 4,
  "nbformat_minor": 5
}