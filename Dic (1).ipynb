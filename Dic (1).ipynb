{
 "cells": [
  {
   "cell_type": "code",
   "execution_count": null,
   "id": "423dac13",
   "metadata": {
    "id": "423dac13"
   },
   "outputs": [],
   "source": [
    "#dICTIONARY\n",
    "# dECLARARTION\n",
    "dic = {'A':12,'B':324,'C':34,'D':65}\n",
    "\n",
    "# OR\n",
    "a = dict({'W':7,'X':3,'Y':2,'Z':1})"
   ]
  },
  {
   "cell_type": "code",
   "execution_count": null,
   "id": "0c5893f8",
   "metadata": {
    "id": "0c5893f8",
    "outputId": "f928b5c7-49f8-4b59-fc97-49097f4284b7"
   },
   "outputs": [
    {
     "data": {
      "text/plain": [
       "{'W': 7, 'X': 3, 'Y': 2, 'Z': 1}"
      ]
     },
     "execution_count": 24,
     "metadata": {},
     "output_type": "execute_result"
    }
   ],
   "source": [
    "a"
   ]
  },
  {
   "cell_type": "code",
   "execution_count": null,
   "id": "99d054af",
   "metadata": {
    "id": "99d054af",
    "outputId": "314fee2d-ef0e-449e-ef5e-dd884852c68f"
   },
   "outputs": [
    {
     "data": {
      "text/plain": [
       "dict_items([('A', 12), ('B', 324), ('C', 34), ('D', 65)])"
      ]
     },
     "execution_count": 44,
     "metadata": {},
     "output_type": "execute_result"
    }
   ],
   "source": [
    "dic = {'A':12,'B':324,'C':34,'D':65}\n",
    "x = dic.items()\n",
    "x"
   ]
  },
  {
   "cell_type": "code",
   "execution_count": null,
   "id": "abb10d1c",
   "metadata": {
    "id": "abb10d1c",
    "outputId": "c3fb9eee-8fea-492c-c8fe-8de6527a4aea"
   },
   "outputs": [
    {
     "data": {
      "text/plain": [
       "dict_values([12, 324, 34, 65])"
      ]
     },
     "execution_count": 45,
     "metadata": {},
     "output_type": "execute_result"
    }
   ],
   "source": [
    "dic = {'A':12,'B':324,'C':34,'D':65}\n",
    "x = dic.values()\n",
    "x"
   ]
  },
  {
   "cell_type": "code",
   "execution_count": null,
   "id": "5a788374",
   "metadata": {
    "id": "5a788374",
    "outputId": "a4a08d16-23a7-4d97-9a63-7f4ed47f5f55"
   },
   "outputs": [
    {
     "data": {
      "text/plain": [
       "dict_keys(['A', 'B', 'C', 'D'])"
      ]
     },
     "execution_count": 46,
     "metadata": {},
     "output_type": "execute_result"
    }
   ],
   "source": [
    "dic = {'A':12,'B':324,'C':34,'D':65}\n",
    "x = dic.keys()\n",
    "x"
   ]
  },
  {
   "cell_type": "code",
   "execution_count": null,
   "id": "6803940b",
   "metadata": {
    "id": "6803940b",
    "outputId": "ceb7b349-2f0e-4569-8a28-7c7071814556"
   },
   "outputs": [
    {
     "data": {
      "text/plain": [
       "'Invalid'"
      ]
     },
     "execution_count": 40,
     "metadata": {},
     "output_type": "execute_result"
    }
   ],
   "source": [
    "# dictionary.pop(keyname, defaultvalue)\n",
    "dic = {'A':12,'B':324,'C':34,'D':65}\n",
    "dic['A'] == 12\n",
    "x = dic.get('Bob',\"Invalid\")\n",
    "x"
   ]
  },
  {
   "cell_type": "code",
   "execution_count": null,
   "id": "e5ed705e",
   "metadata": {
    "id": "e5ed705e",
    "outputId": "0582ff36-9983-4731-e3ba-a011864c2e18"
   },
   "outputs": [
    {
     "data": {
      "text/plain": [
       "{'A': 17, 'B': 324, 'C': 34, 'D': 65}"
      ]
     },
     "execution_count": 49,
     "metadata": {},
     "output_type": "execute_result"
    }
   ],
   "source": [
    "# youy are using update() when we update the whole dic with keys and values also\n",
    "# when we are just update the value of any key then we use assignment operator also can update only one record\n",
    "dic = {'A':12,'B':324,'C':34,'D':65}\n",
    "dic['A'] = 17\n",
    "dic"
   ]
  },
  {
   "cell_type": "code",
   "execution_count": null,
   "id": "f229d962",
   "metadata": {
    "id": "f229d962",
    "outputId": "d10d7398-3667-4f31-f805-b8d7b8f8ea49"
   },
   "outputs": [
    {
     "data": {
      "text/plain": [
       "{'A': 17, 'B': 67, 'C': 34, 'D': 65}"
      ]
     },
     "execution_count": 51,
     "metadata": {},
     "output_type": "execute_result"
    }
   ],
   "source": [
    "dictionaryy = dic\n",
    "dic['B'] = 67\n",
    "\n",
    "dictionaryy\n"
   ]
  },
  {
   "cell_type": "code",
   "execution_count": null,
   "id": "2f875618",
   "metadata": {
    "id": "2f875618",
    "outputId": "8cd66929-b672-4816-a698-1a6bd1c92ffb"
   },
   "outputs": [
    {
     "data": {
      "text/plain": [
       "{'A': 17, 'B': 67, 'C': 34, 'D': 65, 'J': 309}"
      ]
     },
     "execution_count": 52,
     "metadata": {},
     "output_type": "execute_result"
    }
   ],
   "source": [
    "dic['J'] = 309\n",
    "dic"
   ]
  },
  {
   "cell_type": "code",
   "execution_count": null,
   "id": "3a839f60",
   "metadata": {
    "id": "3a839f60",
    "outputId": "31f93339-a85c-45a0-9fff-6a02ff4ee555"
   },
   "outputs": [
    {
     "data": {
      "text/plain": [
       "{'A': 17, 'B': 67, 'C': 34, 'D': 65, 'J': 309, 'R': 13, 'T': 89}"
      ]
     },
     "execution_count": 53,
     "metadata": {},
     "output_type": "execute_result"
    }
   ],
   "source": [
    "dic.update({'R': 13,'T':89})\n",
    "dic"
   ]
  },
  {
   "cell_type": "code",
   "execution_count": null,
   "id": "707dcd1f",
   "metadata": {
    "id": "707dcd1f",
    "outputId": "f049ff97-6847-419d-e6cf-25a8e8556fe3"
   },
   "outputs": [
    {
     "data": {
      "text/plain": [
       "('R', 13)"
      ]
     },
     "execution_count": 55,
     "metadata": {},
     "output_type": "execute_result"
    }
   ],
   "source": [
    "dic.popitem() # pop out every time different record\n"
   ]
  },
  {
   "cell_type": "code",
   "execution_count": null,
   "id": "08ef61a5",
   "metadata": {
    "id": "08ef61a5",
    "outputId": "27f0a170-bf30-41ee-dece-b5c94c0cacac"
   },
   "outputs": [
    {
     "data": {
      "text/plain": [
       "17"
      ]
     },
     "execution_count": 56,
     "metadata": {},
     "output_type": "execute_result"
    }
   ],
   "source": [
    "dic.pop('A')"
   ]
  },
  {
   "cell_type": "code",
   "execution_count": null,
   "id": "883daa11",
   "metadata": {
    "id": "883daa11",
    "outputId": "9f05ab07-bdc4-48a3-a370-42137f8f0d12"
   },
   "outputs": [
    {
     "data": {
      "text/plain": [
       "{'B': 67, 'C': 34, 'D': 65, 'J': 309}"
      ]
     },
     "execution_count": 58,
     "metadata": {},
     "output_type": "execute_result"
    }
   ],
   "source": [
    "dic"
   ]
  },
  {
   "cell_type": "code",
   "execution_count": null,
   "id": "cc1f63cd",
   "metadata": {
    "id": "cc1f63cd"
   },
   "outputs": [],
   "source": [
    "del dic['B']"
   ]
  },
  {
   "cell_type": "code",
   "execution_count": null,
   "id": "0e060937",
   "metadata": {
    "id": "0e060937",
    "outputId": "8418ab6b-3997-4d66-99c3-7021f1393ad6"
   },
   "outputs": [
    {
     "data": {
      "text/plain": [
       "{'C': 34, 'D': 65, 'J': 309}"
      ]
     },
     "execution_count": 60,
     "metadata": {},
     "output_type": "execute_result"
    }
   ],
   "source": [
    "dic"
   ]
  },
  {
   "cell_type": "code",
   "execution_count": null,
   "id": "1e76771f",
   "metadata": {
    "id": "1e76771f"
   },
   "outputs": [],
   "source": [
    "# del dic['A'] # shows error bcz this is already de3leted"
   ]
  },
  {
   "cell_type": "code",
   "execution_count": null,
   "id": "05b84a48",
   "metadata": {
    "id": "05b84a48",
    "outputId": "c11c9047-cc77-4abc-9dbb-50be14801bc3"
   },
   "outputs": [
    {
     "data": {
      "text/plain": [
       "{'C': 34, 'D': 65, 'J': 309}"
      ]
     },
     "execution_count": 63,
     "metadata": {},
     "output_type": "execute_result"
    }
   ],
   "source": [
    "a = (dic.copy())\n",
    "a"
   ]
  },
  {
   "cell_type": "code",
   "execution_count": null,
   "id": "ff5c40ad",
   "metadata": {
    "id": "ff5c40ad",
    "outputId": "1a62f00b-d8ec-4d5c-b5ba-844eb6c91042"
   },
   "outputs": [
    {
     "data": {
      "text/plain": [
       "'out of range'"
      ]
     },
     "execution_count": 66,
     "metadata": {},
     "output_type": "execute_result"
    }
   ],
   "source": [
    "dic.pop('A', \"out of range\")"
   ]
  },
  {
   "cell_type": "code",
   "execution_count": null,
   "id": "1f94a611",
   "metadata": {
    "id": "1f94a611",
    "outputId": "6b8ada5c-6eb3-492f-cc29-05eb56672b7e"
   },
   "outputs": [
    {
     "name": "stdout",
     "output_type": "stream",
     "text": [
      "A  ,  12\n",
      "B  ,  324\n",
      "C  ,  34\n",
      "D  ,  65\n"
     ]
    }
   ],
   "source": [
    "dic = {'A':12,'B':324,'C':34,'D':65}\n",
    "for key,value in dic.items():\n",
    "    print(key,\" , \",value)"
   ]
  },
  {
   "cell_type": "code",
   "execution_count": 2,
   "id": "yw1UULiyMOFc",
   "metadata": {
    "colab": {
     "base_uri": "https://localhost:8080/"
    },
    "id": "yw1UULiyMOFc",
    "outputId": "b3571e4c-7595-4f56-987a-938f68d916ad"
   },
   "outputs": [
    {
     "name": "stdout",
     "output_type": "stream",
     "text": [
      "A , 12\n",
      "B , 324\n",
      "C , 34\n",
      "D , 65\n"
     ]
    }
   ],
   "source": [
    "dic = {'A':12,'B':324,'C':34,'D':65}\n",
    "for key,value in dic.items():\n",
    "  print(key,\",\",value)"
   ]
  },
  {
   "cell_type": "code",
   "execution_count": null,
   "id": "37c3cc51",
   "metadata": {
    "id": "37c3cc51",
    "outputId": "66e88f95-2d84-4c29-8efc-1a0b677c9c5c"
   },
   "outputs": [
    {
     "name": "stdout",
     "output_type": "stream",
     "text": [
      "A\n",
      "B\n",
      "C\n",
      "D\n"
     ]
    }
   ],
   "source": [
    "for key in dic.keys():\n",
    "    print(key)"
   ]
  },
  {
   "cell_type": "code",
   "execution_count": null,
   "id": "c71cb485",
   "metadata": {
    "id": "c71cb485",
    "outputId": "170b46a6-3404-4886-94fb-6a0e663887e3"
   },
   "outputs": [
    {
     "name": "stdout",
     "output_type": "stream",
     "text": [
      "12\n",
      "324\n",
      "34\n",
      "65\n"
     ]
    }
   ],
   "source": [
    "for key in dic.values():\n",
    "    print(key)"
   ]
  },
  {
   "cell_type": "code",
   "execution_count": 4,
   "id": "d16b5f77",
   "metadata": {
    "colab": {
     "base_uri": "https://localhost:8080/"
    },
    "id": "d16b5f77",
    "outputId": "0d48e61e-089d-48e9-d46f-1042b37e6a66"
   },
   "outputs": [
    {
     "name": "stdout",
     "output_type": "stream",
     "text": [
      "Enter a string: sdsds\n",
      "['sdsds']\n"
     ]
    }
   ],
   "source": [
    "count = dic\n",
    "words = input(\"Enter a string: \")\n",
    "split_Words = words.split()\n",
    "print(split_Words)"
   ]
  },
  {
   "cell_type": "code",
   "execution_count": null,
   "id": "9f9889f3",
   "metadata": {
    "colab": {
     "base_uri": "https://localhost:8080/",
     "height": 131
    },
    "id": "9f9889f3",
    "outputId": "3a0ac2b8-cf86-4594-9b9f-4fc99f64a0e2"
   },
   "outputs": [
    {
     "ename": "IndentationError",
     "evalue": "ignored",
     "output_type": "error",
     "traceback": [
      "\u001b[0;36m  File \u001b[0;32m\"<tokenize>\"\u001b[0;36m, line \u001b[0;32m4\u001b[0m\n\u001b[0;31m    print('count',count)\u001b[0m\n\u001b[0m    ^\u001b[0m\n\u001b[0;31mIndentationError\u001b[0m\u001b[0;31m:\u001b[0m unindent does not match any outer indentation level\n"
     ]
    }
   ],
   "source": [
    "# counting\n",
    "for i in split_Words:\n",
    "    count[words] = count.get(words,0) +1\n",
    "  print('count',count)"
   ]
  },
  {
   "cell_type": "code",
   "execution_count": null,
   "id": "424380e0",
   "metadata": {
    "id": "424380e0",
    "outputId": "83d98bb4-1fc2-4bd4-e94a-3ed4d0a134c8"
   },
   "outputs": [
    {
     "ename": "IndentationError",
     "evalue": "expected an indented block after 'for' statement on line 6 (931173372.py, line 7)",
     "output_type": "error",
     "traceback": [
      "\u001b[1;36m  Cell \u001b[1;32mIn[82], line 7\u001b[1;36m\u001b[0m\n\u001b[1;33m    counts[letter] = counts.get(letter, 0) + 1\u001b[0m\n\u001b[1;37m    ^\u001b[0m\n\u001b[1;31mIndentationError\u001b[0m\u001b[1;31m:\u001b[0m expected an indented block after 'for' statement on line 6\n"
     ]
    }
   ],
   "source": [
    "counts = dict()\n",
    "text = input('Enter a line of text:')\n",
    "\n",
    "print('Counting...')\n",
    "\n",
    "for letter in text:\n",
    "counts[letter] = counts.get(letter, 0) + 1\n",
    "\n",
    "print('Counts', counts)"
   ]
  },
  {
   "cell_type": "code",
   "execution_count": null,
   "id": "618314f0",
   "metadata": {
    "id": "618314f0",
    "outputId": "717b03c4-c145-4aa0-f47b-24bf22cce03e"
   },
   "outputs": [
    {
     "name": "stdout",
     "output_type": "stream",
     "text": [
      "Enter line:savera ansari\n"
     ]
    }
   ],
   "source": [
    "count = dict()\n",
    "text = input(\"Enter line:\")"
   ]
  },
  {
   "cell_type": "code",
   "execution_count": null,
   "id": "a739d526",
   "metadata": {
    "id": "a739d526",
    "outputId": "e605f4e1-2c6d-4f38-a4c2-ed88c31b141c"
   },
   "outputs": [
    {
     "name": "stdout",
     "output_type": "stream",
     "text": [
      "Enter line:thius is SMALL line\n"
     ]
    },
    {
     "data": {
      "text/plain": [
       "'thius is small line'"
      ]
     },
     "execution_count": 87,
     "metadata": {},
     "output_type": "execute_result"
    }
   ],
   "source": [
    "count = dict()\n",
    "text = input(\"Enter line:\")\n",
    "a = text.casefold()\n",
    "a"
   ]
  },
  {
   "cell_type": "code",
   "execution_count": null,
   "id": "9d7143bf",
   "metadata": {
    "id": "9d7143bf",
    "outputId": "7d8e18a8-cc6e-4a9e-a168-6ee8919156f0"
   },
   "outputs": [
    {
     "name": "stdout",
     "output_type": "stream",
     "text": [
      "count {'t': 1}\n",
      "count {'t': 1, 'h': 1}\n",
      "count {'t': 1, 'h': 1, 'i': 1}\n",
      "count {'t': 1, 'h': 1, 'i': 1, 'u': 1}\n",
      "count {'t': 1, 'h': 1, 'i': 1, 'u': 1, 's': 1}\n",
      "count {'t': 1, 'h': 1, 'i': 1, 'u': 1, 's': 1, ' ': 1}\n",
      "count {'t': 1, 'h': 1, 'i': 2, 'u': 1, 's': 1, ' ': 1}\n",
      "count {'t': 1, 'h': 1, 'i': 2, 'u': 1, 's': 2, ' ': 1}\n",
      "count {'t': 1, 'h': 1, 'i': 2, 'u': 1, 's': 2, ' ': 2}\n",
      "count {'t': 1, 'h': 1, 'i': 2, 'u': 1, 's': 2, ' ': 2, 'S': 1}\n",
      "count {'t': 1, 'h': 1, 'i': 2, 'u': 1, 's': 2, ' ': 2, 'S': 1, 'M': 1}\n",
      "count {'t': 1, 'h': 1, 'i': 2, 'u': 1, 's': 2, ' ': 2, 'S': 1, 'M': 1, 'A': 1}\n",
      "count {'t': 1, 'h': 1, 'i': 2, 'u': 1, 's': 2, ' ': 2, 'S': 1, 'M': 1, 'A': 1, 'L': 1}\n",
      "count {'t': 1, 'h': 1, 'i': 2, 'u': 1, 's': 2, ' ': 2, 'S': 1, 'M': 1, 'A': 1, 'L': 2}\n",
      "count {'t': 1, 'h': 1, 'i': 2, 'u': 1, 's': 2, ' ': 3, 'S': 1, 'M': 1, 'A': 1, 'L': 2}\n",
      "count {'t': 1, 'h': 1, 'i': 2, 'u': 1, 's': 2, ' ': 3, 'S': 1, 'M': 1, 'A': 1, 'L': 2, 'l': 1}\n",
      "count {'t': 1, 'h': 1, 'i': 3, 'u': 1, 's': 2, ' ': 3, 'S': 1, 'M': 1, 'A': 1, 'L': 2, 'l': 1}\n",
      "count {'t': 1, 'h': 1, 'i': 3, 'u': 1, 's': 2, ' ': 3, 'S': 1, 'M': 1, 'A': 1, 'L': 2, 'l': 1, 'n': 1}\n",
      "count {'t': 1, 'h': 1, 'i': 3, 'u': 1, 's': 2, ' ': 3, 'S': 1, 'M': 1, 'A': 1, 'L': 2, 'l': 1, 'n': 1, 'e': 1}\n"
     ]
    }
   ],
   "source": [
    "for i in text:\n",
    "    count[i] = count.get(i,0)+1\n",
    "    print('count',count)"
   ]
  },
  {
   "cell_type": "code",
   "execution_count": null,
   "id": "36d6d139",
   "metadata": {
    "id": "36d6d139",
    "outputId": "56eb0b95-dce1-47c0-a798-2bc9a288f50a"
   },
   "outputs": [
    {
     "name": "stdout",
     "output_type": "stream",
     "text": [
      "count {'s': 1}\n",
      "count {'s': 1, 'a': 1}\n",
      "count {'s': 1, 'a': 1, 'v': 1}\n",
      "count {'s': 1, 'a': 1, 'v': 1, 'e': 1}\n",
      "count {'s': 1, 'a': 1, 'v': 1, 'e': 1, 'r': 1}\n",
      "count {'s': 1, 'a': 2, 'v': 1, 'e': 1, 'r': 1}\n",
      "count {'s': 1, 'a': 2, 'v': 1, 'e': 1, 'r': 1, ' ': 1}\n",
      "count {'s': 1, 'a': 3, 'v': 1, 'e': 1, 'r': 1, ' ': 1}\n",
      "count {'s': 1, 'a': 3, 'v': 1, 'e': 1, 'r': 1, ' ': 1, 'n': 1}\n",
      "count {'s': 2, 'a': 3, 'v': 1, 'e': 1, 'r': 1, ' ': 1, 'n': 1}\n",
      "count {'s': 2, 'a': 4, 'v': 1, 'e': 1, 'r': 1, ' ': 1, 'n': 1}\n",
      "count {'s': 2, 'a': 4, 'v': 1, 'e': 1, 'r': 2, ' ': 1, 'n': 1}\n",
      "count {'s': 2, 'a': 4, 'v': 1, 'e': 1, 'r': 2, ' ': 1, 'n': 1, 'i': 1}\n"
     ]
    }
   ],
   "source": [
    "for alphabets in text:\n",
    "    count[alphabets] = count.get(alphabets,0)+1\n",
    "    print('count',count)"
   ]
  },
  {
   "cell_type": "code",
   "execution_count": null,
   "id": "f3a98b88",
   "metadata": {
    "id": "f3a98b88"
   },
   "outputs": [],
   "source": [
    "List1 = []\n",
    "for a in counts.keys():\n",
    "if a.isalpha() == False:"
   ]
  },
  {
   "cell_type": "code",
   "execution_count": null,
   "id": "858375ce",
   "metadata": {
    "id": "858375ce"
   },
   "outputs": [],
   "source": []
  },
  {
   "cell_type": "code",
   "execution_count": null,
   "id": "63acaccb",
   "metadata": {
    "id": "63acaccb"
   },
   "outputs": [],
   "source": []
  },
  {
   "cell_type": "code",
   "execution_count": null,
   "id": "aca5f29d",
   "metadata": {
    "id": "aca5f29d"
   },
   "outputs": [],
   "source": []
  },
  {
   "cell_type": "code",
   "execution_count": null,
   "id": "519b1d84",
   "metadata": {
    "id": "519b1d84",
    "outputId": "011eaddd-3043-4fac-a2dc-d503dbef4779"
   },
   "outputs": [
    {
     "name": "stdout",
     "output_type": "stream",
     "text": [
      "Ascending Order Dictionary=  ['A', 'B', 'C', 'D']\n",
      "Descending Order Dictionary=  ['D', 'C', 'B', 'A']\n"
     ]
    }
   ],
   "source": [
    "# Write a Python script to sort (ascending and descending) a\n",
    "# dictionary by value.\n",
    "dictionaryy = {'A':12,'B':324,'C':34,'D':65}\n",
    "# a = dict({'W':7,'X':3,'Y':2,'Z':1})\n",
    "\n",
    "\n",
    "ascending = sorted(dic)\n",
    "print(\"Ascending Order Dictionary= \",ascending)\n",
    "descending= sorted(dic, reverse = True)\n",
    "print(\"Descending Order Dictionary= \",descending)\n"
   ]
  },
  {
   "cell_type": "code",
   "execution_count": null,
   "id": "cf034a92",
   "metadata": {
    "id": "cf034a92"
   },
   "outputs": [],
   "source": []
  },
  {
   "cell_type": "code",
   "execution_count": null,
   "id": "0dd43cfe",
   "metadata": {
    "id": "0dd43cfe",
    "outputId": "42cc70d4-452d-46ad-a814-17fa2d6cb626"
   },
   "outputs": [
    {
     "name": "stdout",
     "output_type": "stream",
     "text": [
      "{'A': 12, 'B': 324, 'C': 34, 'D': 65, 'W': 7, 'X': 3, 'Y': 2, 'Z': 1, 'k': 12, 'L': 345, 'M': 4, 'N': 7, 'O': 9, 'P': 34, 'Q': 2}\n"
     ]
    }
   ],
   "source": [
    "\n",
    "# • Write a Python script to concatenate three dictionaries to create a\n",
    "# new one.\n",
    "\n",
    "\n",
    "\n",
    "dic = {'A':12,'B':324,'C':34,'D':65}\n",
    "dic2 = dict({'W':7,'X':3,'Y':2,'Z':1})\n",
    "dic3= {'k':12,'L':345,'M':4,'N':7,'O':9,'P':34,'Q':2}\n",
    "\n",
    "dic.update(dic2)\n",
    "dic.update(dic3)\n",
    "final_dic = dic\n",
    "print(final_dic)\n",
    "\n",
    "\n",
    "# final_dic = dic+dic3+dic2\n",
    "# final_dic"
   ]
  },
  {
   "cell_type": "code",
   "execution_count": 5,
   "id": "0ac3a791",
   "metadata": {
    "colab": {
     "base_uri": "https://localhost:8080/"
    },
    "id": "0ac3a791",
    "outputId": "7d4fca9b-d264-4065-c997-d96b081ff3ab"
   },
   "outputs": [
    {
     "data": {
      "text/plain": [
       "{'A': 'W', 'B': 'X', 'C': 'Y', 'D': 'Z'}"
      ]
     },
     "execution_count": 5,
     "metadata": {},
     "output_type": "execute_result"
    }
   ],
   "source": [
    "# Write a Python script to merge two Python dictionaries.\n",
    "dic = {'A':12,'B':324,'C':34,'D':65}\n",
    "dic2 = dict({'W':7,'X':3,'Y':2,'Z':1})\n",
    "\n",
    "a= dict(zip(dic,dic2))\n",
    "a\n",
    "\n",
    "# >>> dict(zip(A, B))\n",
    "# But, What happens when one of the list has one extra elements The\n",
    "# extra element will be discarded.\n",
    "\n",
    "# dic = {'A':12,'B':324,'C':34,'D':65,'E':90}\n",
    "# dic2 = dict({'W':7,'X':3,'Y':2,'Z':1})\n",
    "\n",
    "# a= dict(zip(dic,dic2))\n",
    "# a"
   ]
  },
  {
   "cell_type": "code",
   "execution_count": null,
   "id": "40af8e8c",
   "metadata": {
    "id": "40af8e8c"
   },
   "outputs": [],
   "source": [
    "# Write a Python script to create a dictionary where the keys are\n",
    "# numbers between 1 and 15 (both included) and the values are\n",
    "# square of keys.\n",
    "\n",
    "keys = dict()\n",
    "for i in keys(1:15):\n",
    "\n",
    "\n"
   ]
  },
  {
   "cell_type": "code",
   "execution_count": null,
   "id": "208485cd",
   "metadata": {
    "id": "208485cd"
   },
   "outputs": [],
   "source": []
  }
 ],
 "metadata": {
  "colab": {
   "provenance": []
  },
  "kernelspec": {
   "display_name": "Python 3 (ipykernel)",
   "language": "python",
   "name": "python3"
  },
  "language_info": {
   "codemirror_mode": {
    "name": "ipython",
    "version": 3
   },
   "file_extension": ".py",
   "mimetype": "text/x-python",
   "name": "python",
   "nbconvert_exporter": "python",
   "pygments_lexer": "ipython3",
   "version": "3.11.4"
  }
 },
 "nbformat": 4,
 "nbformat_minor": 5
}
