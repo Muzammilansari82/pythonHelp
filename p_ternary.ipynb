{
  "cells": [
    {
      "cell_type": "code",
      "execution_count": null,
      "id": "72012c44",
      "metadata": {
        "id": "72012c44",
        "outputId": "94fcb4fb-2172-42f1-e6ef-371509be16f7"
      },
      "outputs": [
        {
          "name": "stdout",
          "output_type": "stream",
          "text": [
            "a is lesser thab b\n",
            "b is greater than c\n"
          ]
        }
      ],
      "source": [
        "a = 9\n",
        "b = 10\n",
        "c = 8\n",
        "if a<b:\n",
        "    print(\"a is lesser thab b\")\n",
        "    if b<c:\n",
        "        print(\"b is lesser than c\")\n",
        "    else:\n",
        "        print(\"b is greater than c\")\n",
        "else:\n",
        "    print(\" a is greater\")"
      ]
    },
    {
      "cell_type": "code",
      "source": [
        "a= int(input())\n",
        "b = int(input())\n",
        "if a>b:\n",
        "  print(\"a is grrater\")"
      ],
      "metadata": {
        "colab": {
          "base_uri": "https://localhost:8080/"
        },
        "id": "vsePp2a_3-dl",
        "outputId": "4cb191ba-3354-4cb6-f74d-a1546977eaa0"
      },
      "id": "vsePp2a_3-dl",
      "execution_count": 1,
      "outputs": [
        {
          "output_type": "stream",
          "name": "stdout",
          "text": [
            "23\n",
            "3\n",
            "a is grrater\n"
          ]
        }
      ]
    },
    {
      "cell_type": "code",
      "execution_count": null,
      "id": "0092d95e",
      "metadata": {
        "id": "0092d95e"
      },
      "outputs": [],
      "source": [
        "#ternanry Operator\n",
        "true_expression if condition else expression"
      ]
    },
    {
      "cell_type": "code",
      "execution_count": null,
      "id": "c68a9362",
      "metadata": {
        "id": "c68a9362"
      },
      "outputs": [],
      "source": [
        "a,b = 10,20\n",
        "print(a) if a>b else print(b)"
      ]
    },
    {
      "cell_type": "code",
      "execution_count": null,
      "id": "cd046cb4",
      "metadata": {
        "id": "cd046cb4",
        "outputId": "772173a1-5e21-4609-ed84-cd0422ebbc13"
      },
      "outputs": [
        {
          "name": "stdout",
          "output_type": "stream",
          "text": [
            "a is greater \n"
          ]
        }
      ],
      "source": [
        "c,b,a = 9,10,24\n",
        "print(\"a is greater \") if a>b>c else print (\"a is lesser\")"
      ]
    },
    {
      "cell_type": "code",
      "execution_count": null,
      "id": "aa0c745d",
      "metadata": {
        "id": "aa0c745d",
        "outputId": "4a69f34f-f31e-49f6-aa3c-63e50d826792"
      },
      "outputs": [
        {
          "name": "stdout",
          "output_type": "stream",
          "text": [
            "a is greater \n"
          ]
        }
      ],
      "source": [
        "a,b,c,d,e = 9,10,24,78,78\n",
        "print(\"a is greater \") if a<b<c<d>a else print (\"d is lesser\")"
      ]
    },
    {
      "cell_type": "code",
      "execution_count": null,
      "id": "390de9de",
      "metadata": {
        "id": "390de9de",
        "outputId": "da134f27-56d2-4a9b-95c0-3be99aced5a1"
      },
      "outputs": [
        {
          "data": {
            "text/plain": [
              "'a is greater '"
            ]
          },
          "execution_count": 25,
          "metadata": {},
          "output_type": "execute_result"
        }
      ],
      "source": [
        "a,b,c,d,e = 9,10,24,78,7\n",
        "\"a is greater \" if a<b<c<d>a else \"d is lesser\""
      ]
    },
    {
      "cell_type": "code",
      "execution_count": null,
      "id": "c17ce6a2",
      "metadata": {
        "id": "c17ce6a2",
        "outputId": "ac93ad84-c1d0-497e-eb66-6f03ff2135e6"
      },
      "outputs": [
        {
          "name": "stdout",
          "output_type": "stream",
          "text": [
            "a is lesser thab b\n",
            "greater\n"
          ]
        }
      ],
      "source": [
        "a,b,c = 9,10,8\n",
        "greater = print(\"a is lesser thab b\") if a<b else print(\" a is greater\")\n"
      ]
    },
    {
      "cell_type": "code",
      "execution_count": null,
      "id": "3ebc347f",
      "metadata": {
        "id": "3ebc347f",
        "outputId": "490de2ff-722a-41b0-dac9-55e53b268f65"
      },
      "outputs": [
        {
          "name": "stdout",
          "output_type": "stream",
          "text": [
            "a and b is not equal \n",
            "b and c is not equal\n"
          ]
        }
      ],
      "source": [
        "a = 8\n",
        "b = 10\n",
        "c = 8\n",
        "if a !=b:\n",
        "    print(\"a and b is not equal \")\n",
        "    if b !=c:\n",
        "        print(\"b and c is not equal\")\n",
        "    else:\n",
        "        print(\"b and c is equal\")\n",
        "else:\n",
        "    print(\" a and b is equal\")"
      ]
    },
    {
      "cell_type": "code",
      "execution_count": null,
      "id": "903c4920",
      "metadata": {
        "id": "903c4920",
        "outputId": "a8359097-02c2-4941-cd13-e4f9a8d9c857"
      },
      "outputs": [
        {
          "name": "stdout",
          "output_type": "stream",
          "text": [
            "Congratulation You clear in all subjects\n"
          ]
        }
      ],
      "source": [
        "computer = 89\n",
        "science = 80.8\n",
        "maths = 39\n",
        "\n",
        "if computer<=34:\n",
        "    print(\"You Are fail in Computer\")\n",
        "if science<=34:\n",
        "    print(\"You Are fail in science\")\n",
        "if maths<=34:\n",
        "    print(\"You Are fail in maths\")\n",
        "else:\n",
        "    print(\"Congratulation You clear in all subjects\")"
      ]
    },
    {
      "cell_type": "code",
      "execution_count": null,
      "id": "bc40452c",
      "metadata": {
        "id": "bc40452c",
        "outputId": "3ddecc54-53a7-4972-e49a-6dc403c406a9"
      },
      "outputs": [
        {
          "data": {
            "text/plain": [
              "'you are pass in maths'"
            ]
          },
          "execution_count": 27,
          "metadata": {},
          "output_type": "execute_result"
        }
      ],
      "source": [
        "maths =35\n",
        "\"You are fail in maths\" if maths<=34 else \"you are pass in maths\""
      ]
    },
    {
      "cell_type": "code",
      "execution_count": null,
      "id": "441ae545",
      "metadata": {
        "id": "441ae545",
        "outputId": "472bff45-6c8d-4117-e1b8-93b0d8e66820"
      },
      "outputs": [
        {
          "name": "stdout",
          "output_type": "stream",
          "text": [
            "0\n",
            "1\n",
            "2\n"
          ]
        }
      ],
      "source": [
        "i =0\n",
        "while i<3:\n",
        "    print(i)\n",
        "    i = i+1"
      ]
    },
    {
      "cell_type": "code",
      "execution_count": null,
      "id": "a6ed0e2a",
      "metadata": {
        "id": "a6ed0e2a",
        "outputId": "025583c6-3cb0-4ce3-95cd-32a7bbee1d6e"
      },
      "outputs": [
        {
          "name": "stdout",
          "output_type": "stream",
          "text": [
            "0\n",
            "1\n",
            "2\n",
            "3\n"
          ]
        }
      ],
      "source": [
        "i =0\n",
        "while i<=3:\n",
        "    print(i)\n",
        "    i = i+1"
      ]
    },
    {
      "cell_type": "code",
      "execution_count": null,
      "id": "46f5fb7e",
      "metadata": {
        "id": "46f5fb7e",
        "outputId": "cec5d94d-070a-41c6-888d-40a1d859de18"
      },
      "outputs": [
        {
          "name": "stdout",
          "output_type": "stream",
          "text": [
            "COunting  1\n",
            "COunting  2\n",
            "COunting  3\n",
            "COunting  4\n",
            "COunting  5\n",
            "COunting  6\n",
            "COunting  7\n",
            "COunting  8\n",
            "COunting  9\n",
            "COunting  10\n"
          ]
        }
      ],
      "source": [
        "i = 1\n",
        "while i <= 10:\n",
        "    print(\"COunting \",i)\n",
        "    i = i+1"
      ]
    },
    {
      "cell_type": "code",
      "execution_count": null,
      "id": "a86d32dc",
      "metadata": {
        "id": "a86d32dc",
        "outputId": "2581b057-cf68-4bd8-c569-3b04f51de473"
      },
      "outputs": [
        {
          "name": "stdout",
          "output_type": "stream",
          "text": [
            "2  *  1  =  2\n",
            "2  *  2  =  4\n",
            "2  *  3  =  6\n",
            "2  *  4  =  8\n",
            "2  *  5  =  10\n",
            "2  *  6  =  12\n",
            "2  *  7  =  14\n",
            "2  *  8  =  16\n",
            "2  *  9  =  18\n",
            "2  *  10  =  20\n"
          ]
        }
      ],
      "source": [
        "i = 1\n",
        "while i <= 10:\n",
        "    print(\"2  * \",i,\" = \",2*i)\n",
        "    i = i+1\n"
      ]
    },
    {
      "cell_type": "code",
      "execution_count": null,
      "id": "2e75c3ee",
      "metadata": {
        "id": "2e75c3ee",
        "outputId": "b330ab17-0ac8-47b1-aff0-a8045b555b58"
      },
      "outputs": [
        {
          "name": "stdout",
          "output_type": "stream",
          "text": [
            "2\n",
            "4\n",
            "6\n",
            "8\n",
            "10\n",
            "12\n",
            "14\n",
            "16\n",
            "18\n",
            "20\n"
          ]
        }
      ],
      "source": [
        "i = 2\n",
        "while i <= 20:\n",
        "    if (i % 2 ==0):\n",
        "        print(i)\n",
        "    i = i+1\n",
        "\n",
        "# even numbers = 2,4,6,8,10"
      ]
    },
    {
      "cell_type": "code",
      "execution_count": null,
      "id": "cd695692",
      "metadata": {
        "id": "cd695692",
        "outputId": "453e1a61-1bdb-4d86-c47b-4a3fbedcf2b2"
      },
      "outputs": [
        {
          "name": "stdout",
          "output_type": "stream",
          "text": [
            "1\n",
            "3\n",
            "5\n",
            "7\n",
            "9\n",
            "11\n",
            "13\n",
            "15\n",
            "17\n",
            "19\n"
          ]
        }
      ],
      "source": [
        "i = 1\n",
        "while i <= 20:\n",
        "    if (i % 2 !=0):\n",
        "        print(i)\n",
        "    i = i+1\n",
        ""
      ]
    },
    {
      "cell_type": "code",
      "execution_count": null,
      "id": "c2adc611",
      "metadata": {
        "id": "c2adc611",
        "outputId": "9ab3dccc-368b-49b9-f6dc-f586c5164c79"
      },
      "outputs": [
        {
          "name": "stdout",
          "output_type": "stream",
          "text": [
            "9  *  10  =  90\n",
            "9  *  9  =  81\n",
            "9  *  8  =  72\n",
            "9  *  7  =  63\n",
            "9  *  6  =  54\n",
            "9  *  5  =  45\n",
            "9  *  4  =  36\n",
            "9  *  3  =  27\n",
            "9  *  2  =  18\n",
            "9  *  1  =  9\n"
          ]
        }
      ],
      "source": [
        "i = 10\n",
        "table  =9\n",
        "while i >= 1:\n",
        "    print(table,\" * \",i,\" = \",table*i)\n",
        "    i = i-1\n"
      ]
    },
    {
      "cell_type": "code",
      "execution_count": null,
      "id": "cb94d779",
      "metadata": {
        "id": "cb94d779",
        "outputId": "2d526a25-9fd5-469a-e372-43db20ae756f"
      },
      "outputs": [
        {
          "name": "stdout",
          "output_type": "stream",
          "text": [
            "20\n",
            "18\n",
            "16\n",
            "14\n",
            "12\n",
            "10\n",
            "8\n",
            "6\n",
            "4\n",
            "2\n"
          ]
        }
      ],
      "source": [
        "i = 20\n",
        "while i >= 2:\n",
        "    if (i % 2 ==0):\n",
        "        print(i)\n",
        "    i = i-1\n",
        "\n",
        "# even numbers = 2,4,6,8,10"
      ]
    },
    {
      "cell_type": "code",
      "execution_count": null,
      "id": "790c434c",
      "metadata": {
        "id": "790c434c",
        "outputId": "e0a5633b-397c-461c-ac89-a2f4d52d9b56"
      },
      "outputs": [
        {
          "name": "stdout",
          "output_type": "stream",
          "text": [
            "19\n",
            "17\n",
            "15\n",
            "13\n",
            "11\n",
            "9\n",
            "7\n",
            "5\n",
            "3\n",
            "1\n"
          ]
        }
      ],
      "source": [
        "i = 20\n",
        "while i >= 1:\n",
        "    if (i % 2 != 0):\n",
        "        print(i)\n",
        "    i = i-1\n",
        ""
      ]
    },
    {
      "cell_type": "code",
      "execution_count": null,
      "id": "e1c3829e",
      "metadata": {
        "id": "e1c3829e",
        "outputId": "806581a0-ff40-498a-9581-6d97bfe6a041"
      },
      "outputs": [
        {
          "name": "stdout",
          "output_type": "stream",
          "text": [
            "10\n",
            "20\n",
            "30\n",
            "40\n",
            "50\n",
            "60\n",
            "70\n",
            "80\n",
            "90\n",
            "100\n"
          ]
        }
      ],
      "source": [
        "#print series 10,20,30,40\n",
        "i = 10\n",
        "while i <= 100:\n",
        "    if (i % 10 ==0):\n",
        "        print(i)\n",
        "    i = i+1\n",
        "\n"
      ]
    },
    {
      "cell_type": "code",
      "execution_count": 2,
      "id": "f8dd30eb",
      "metadata": {
        "colab": {
          "base_uri": "https://localhost:8080/"
        },
        "id": "f8dd30eb",
        "outputId": "729c6777-7818-4bc6-f86d-aafb52fe507f"
      },
      "outputs": [
        {
          "output_type": "stream",
          "name": "stdout",
          "text": [
            "7\n",
            "14\n",
            "21\n",
            "28\n",
            "35\n",
            "42\n",
            "49\n",
            "56\n",
            "63\n",
            "70\n",
            "77\n",
            "84\n",
            "91\n",
            "98\n",
            "105\n"
          ]
        }
      ],
      "source": [
        "#105,98,91...7\n",
        "i = 7\n",
        "while i <= 105:\n",
        "    if (i % 7 ==0):\n",
        "        print(i)\n",
        "    i = i+1\n",
        ""
      ]
    },
    {
      "cell_type": "code",
      "execution_count": null,
      "id": "7f72d0a9",
      "metadata": {
        "id": "7f72d0a9",
        "outputId": "a065ac0a-372b-4a0b-e173-e4ff0dd8e6ac"
      },
      "outputs": [
        {
          "name": "stdout",
          "output_type": "stream",
          "text": [
            "10\n",
            "9\n",
            "8\n",
            "7\n",
            "6\n",
            "5\n",
            "4\n",
            "3\n",
            "2\n",
            "1\n"
          ]
        }
      ],
      "source": [
        "#natural numbers in reverese order\n",
        "i =10\n",
        "while i>=1:\n",
        "    print(i)\n",
        "    i = i-1"
      ]
    },
    {
      "cell_type": "code",
      "execution_count": null,
      "id": "13381a00",
      "metadata": {
        "id": "13381a00",
        "outputId": "8dd6a81a-e947-4349-9b80-b22e702b92c5"
      },
      "outputs": [
        {
          "name": "stdout",
          "output_type": "stream",
          "text": [
            "2\n",
            "4\n",
            "6\n",
            "8\n",
            "10\n"
          ]
        }
      ],
      "source": [
        "#sum of first ten even numbers\n",
        "i = 2\n",
        "sum = 0\n",
        "while i <= 10:\n",
        "    if (i % 2 ==0):\n",
        "        print(i)\n",
        "        sum = sum+i\n",
        "    i = i+1\n",
        "\n"
      ]
    },
    {
      "cell_type": "code",
      "execution_count": null,
      "id": "993ebfef",
      "metadata": {
        "id": "993ebfef",
        "outputId": "ef9de3e3-796a-44b3-9f8b-e8bea3f956a2"
      },
      "outputs": [
        {
          "name": "stdout",
          "output_type": "stream",
          "text": [
            "2\n",
            "4\n",
            "6\n",
            "8\n",
            "10\n",
            "The total sum is  30\n"
          ]
        }
      ],
      "source": [
        "i = 2\n",
        "sum = 0\n",
        "while i <=10:\n",
        "    if(i %2 ==0):\n",
        "        print(i)\n",
        "        sum = sum+i\n",
        "    i = i+1\n",
        "print(\"The total sum is \",sum)"
      ]
    },
    {
      "cell_type": "code",
      "execution_count": 5,
      "id": "8e1f8a30",
      "metadata": {
        "colab": {
          "base_uri": "https://localhost:8080/"
        },
        "id": "8e1f8a30",
        "outputId": "0923bb6a-5596-4f82-fa46-61a9571de933"
      },
      "outputs": [
        {
          "output_type": "stream",
          "name": "stdout",
          "text": [
            "Enter a number: 10\n",
            "10 is not a prime number\n"
          ]
        }
      ],
      "source": [
        "#prime number or not\n",
        "num = int(input(\"Enter a number: \"))\n",
        "flag = False\n",
        "\n",
        "if num == 1:\n",
        "    print(num, \"is not a prime number\")\n",
        "elif num > 1:\n",
        "    for i in range(2, num):\n",
        "        if (num % i) == 0:\n",
        "            flag = True\n",
        "            break\n",
        "    if flag:\n",
        "        print(num, \"is not a prime number\")\n",
        "    else:\n",
        "        print(num, \"is a prime number\")"
      ]
    },
    {
      "cell_type": "code",
      "source": [
        "#factorial\n",
        "num = int(input(\"Enter a number: \"))\n",
        "factorial = 1\n",
        "\n",
        "if num < 0:\n",
        "   print(\"Sorry, factorial does not exist for negative numbers\")\n",
        "elif num == 0:\n",
        "   print(\"The factorial of 0 is 1\")\n",
        "else:\n",
        "   for i in range(1,num + 1):\n",
        "       factorial = factorial*i\n",
        "   print(\"The factorial of\",num,\"is\",factorial)"
      ],
      "metadata": {
        "colab": {
          "base_uri": "https://localhost:8080/"
        },
        "id": "9x5VCCS86Xm0",
        "outputId": "fa6cfe87-3085-477b-cf6a-48214c83ebe0"
      },
      "id": "9x5VCCS86Xm0",
      "execution_count": 6,
      "outputs": [
        {
          "output_type": "stream",
          "name": "stdout",
          "text": [
            "Enter a number: 5\n",
            "The factorial of 5 is 120\n"
          ]
        }
      ]
    }
  ],
  "metadata": {
    "kernelspec": {
      "display_name": "Python 3 (ipykernel)",
      "language": "python",
      "name": "python3"
    },
    "language_info": {
      "codemirror_mode": {
        "name": "ipython",
        "version": 3
      },
      "file_extension": ".py",
      "mimetype": "text/x-python",
      "name": "python",
      "nbconvert_exporter": "python",
      "pygments_lexer": "ipython3",
      "version": "3.10.9"
    },
    "colab": {
      "provenance": []
    }
  },
  "nbformat": 4,
  "nbformat_minor": 5
}