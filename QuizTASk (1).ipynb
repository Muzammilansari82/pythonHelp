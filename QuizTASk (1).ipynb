{
  "cells": [
    {
      "cell_type": "code",
      "execution_count": null,
      "id": "88b21bda",
      "metadata": {
        "id": "88b21bda",
        "outputId": "3f126030-2516-4fd5-da19-1492db6d5d23",
        "colab": {
          "base_uri": "https://localhost:8080/"
        }
      },
      "outputs": [
        {
          "output_type": "stream",
          "name": "stdout",
          "text": [
            "Please Enter a Number of subjects you want 2\n",
            "Please Enter a Subjects name COMPUTER\n",
            "Please Enter a Subjects name SA\n",
            "['COMPUTER', 'SA']\n"
          ]
        }
      ],
      "source": [
        "\n",
        "list = []\n",
        "quiz_num = int(input(\"Please Enter a Number of subjects you want \"))\n",
        "\n",
        "for x in range(quiz_num):\n",
        "    subject = str(input(\"Please Enter a Subjects name \"))\n",
        "    list.append(subject)\n",
        "print(list)\n",
        "\n",
        "\n",
        "\n",
        "# just append subjects in the list\n",
        "\n"
      ]
    },
    {
      "cell_type": "code",
      "execution_count": null,
      "id": "2857e906",
      "metadata": {
        "id": "2857e906",
        "outputId": "28399ea8-46c8-466c-9500-b4a4d6b633c7"
      },
      "outputs": [
        {
          "name": "stdout",
          "output_type": "stream",
          "text": [
            "1 sava\n",
            "2 ddfa\n",
            "3 fefe\n",
            "4 efe\n"
          ]
        }
      ],
      "source": [
        "\n",
        "# enumerate(iterable, start=0)\n",
        "\n",
        "# for ele in enumerate(list):\n",
        "#     print (ele)\n",
        "\n",
        "for i, subject in enumerate(list,1):\n",
        "    print (i, subject)\n",
        ""
      ]
    },
    {
      "cell_type": "code",
      "execution_count": null,
      "id": "e735d434",
      "metadata": {
        "id": "e735d434",
        "outputId": "fd97dd03-96f1-41ff-e29b-f0c9a3ce30c4"
      },
      "outputs": [
        {
          "name": "stdout",
          "output_type": "stream",
          "text": [
            "\n",
            "Select a subject with respect to given number: 1\n"
          ]
        }
      ],
      "source": [
        "# select subject number\n",
        "\n",
        "selected_subject = int(input(\"\\nSelect a subject with respect to given number: \"))\n",
        "subject_name = list[selected_subject -1]"
      ]
    },
    {
      "cell_type": "code",
      "execution_count": null,
      "id": "bb14279f",
      "metadata": {
        "id": "bb14279f",
        "outputId": "9d6e21e1-c93a-462f-e77e-79b903947119"
      },
      "outputs": [
        {
          "name": "stdout",
          "output_type": "stream",
          "text": [
            "How many questions do you want ? 3\n",
            "dfaf\n",
            "dvscs\n",
            "vssvs\n"
          ]
        }
      ],
      "source": [
        "# no of questions they want\n",
        "\n",
        "num_questions = int(input(\"How many questions do you want ? \"))\n",
        "for i in range(num_questions):\n",
        "    quiz_Question = input(\"\")"
      ]
    },
    {
      "cell_type": "code",
      "execution_count": null,
      "id": "7c98a2b0",
      "metadata": {
        "id": "7c98a2b0"
      },
      "outputs": [],
      "source": [
        "\n",
        "for i in list:\n",
        "    selected_subject = int(input(\"\\nSelect a subject with respect to given number: \"))\n",
        "    subject_name = list[selected_subject -1]\n",
        "    num_questions = int(input(\"How many questions do you want ? \"))\n",
        "    for i in range(num_questions):\n",
        "        quiz_Question = input(\"\")"
      ]
    },
    {
      "cell_type": "code",
      "execution_count": null,
      "id": "3d308062",
      "metadata": {
        "id": "3d308062",
        "outputId": "37d51ac5-880e-4c5e-938d-91095ca12676"
      },
      "outputs": [
        {
          "name": "stdout",
          "output_type": "stream",
          "text": [
            "Enter a number which subjects you wants: 1\n",
            "Enter a  subjects you wants: sqsda\n",
            "['sqsda']\n",
            "Subjects: \n",
            "1 sqsda\n",
            "\n",
            "Select a subject with respect to given number: 1\n",
            "How many questions do you want ? 2\n",
            "dfsd\n",
            "sdfs\n",
            "Congratulation Miss Savera You create your first quiz form\n"
          ]
        }
      ],
      "source": [
        "#complete code\n",
        "\n",
        "\n",
        "list = []\n",
        "quiz_num = int(input(\"Enter a number which subjects you wants: \"))\n",
        "for x in range(quiz_num ):\n",
        "    a = str(input(\"Enter a  subjects you wants: \"))\n",
        "    list.append(a)\n",
        "print(list)\n",
        "print(\"Subjects: \")\n",
        "\n",
        "for i, a in enumerate(list,1):\n",
        "    print (i, a)\n",
        "\n",
        "\n",
        "for i in list:\n",
        "    selected_subject = int(input(\"\\nSelect a subject with respect to given number: \"))\n",
        "    subject_name = list[selected_subject -1]\n",
        "    num_questions = int(input(\"How many questions do you want ? \"))\n",
        "    for i in range(num_questions):\n",
        "        quiz_Question = input(\"\")\n",
        "\n",
        "\n",
        "\n",
        "print(\"Congratulation Miss Savera You create your first quiz form\")"
      ]
    },
    {
      "cell_type": "code",
      "execution_count": null,
      "id": "9fd30f74",
      "metadata": {
        "id": "9fd30f74"
      },
      "outputs": [],
      "source": []
    }
  ],
  "metadata": {
    "kernelspec": {
      "display_name": "Python 3 (ipykernel)",
      "language": "python",
      "name": "python3"
    },
    "language_info": {
      "codemirror_mode": {
        "name": "ipython",
        "version": 3
      },
      "file_extension": ".py",
      "mimetype": "text/x-python",
      "name": "python",
      "nbconvert_exporter": "python",
      "pygments_lexer": "ipython3",
      "version": "3.10.9"
    },
    "colab": {
      "provenance": []
    }
  },
  "nbformat": 4,
  "nbformat_minor": 5
}