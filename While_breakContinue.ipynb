{
  "cells": [
    {
      "cell_type": "code",
      "execution_count": null,
      "id": "c9128f23",
      "metadata": {
        "id": "c9128f23",
        "outputId": "6cd1ded5-10d8-4be1-cb37-039696b15a9e"
      },
      "outputs": [
        {
          "name": "stdout",
          "output_type": "stream",
          "text": [
            "0\n",
            "1\n",
            "2\n",
            "3\n"
          ]
        }
      ],
      "source": [
        "i = 0\n",
        "while i<=3:\n",
        "    print(i)\n",
        "    i = i+1\n"
      ]
    },
    {
      "cell_type": "code",
      "execution_count": null,
      "id": "893ff45b",
      "metadata": {
        "id": "893ff45b",
        "outputId": "068e7507-b689-42a8-d25c-33d02a449327"
      },
      "outputs": [
        {
          "name": "stdout",
          "output_type": "stream",
          "text": [
            "o\n",
            "h\n",
            "i\n",
            "o\n"
          ]
        }
      ],
      "source": [
        "state = \"ohio\"\n",
        "for i in state:\n",
        "    print(i)"
      ]
    },
    {
      "cell_type": "code",
      "execution_count": null,
      "id": "f57ebf21",
      "metadata": {
        "id": "f57ebf21",
        "outputId": "65730a6d-516f-421d-a078-466541999d49"
      },
      "outputs": [
        {
          "name": "stdout",
          "output_type": "stream",
          "text": [
            "5\n",
            "4\n",
            "3\n",
            "2\n",
            "1\n",
            "blast\n",
            "0\n"
          ]
        }
      ],
      "source": [
        "n = 5\n",
        "while n>0:\n",
        "    print(n)\n",
        "    n = n-1\n",
        "print(\"blast\")\n",
        "print(n)\n"
      ]
    },
    {
      "cell_type": "code",
      "execution_count": null,
      "id": "cdb7af43",
      "metadata": {
        "id": "cdb7af43"
      },
      "outputs": [],
      "source": [
        "n = 5\n",
        "\n",
        "while n > 0 :\n",
        "\n",
        "print('Lather')\n",
        "\n",
        "print('Rinse')\n",
        "\n",
        "print('Dry off!')"
      ]
    },
    {
      "cell_type": "code",
      "execution_count": null,
      "id": "1f2e3b75",
      "metadata": {
        "id": "1f2e3b75"
      },
      "outputs": [],
      "source": [
        "#There is no inrement no decrement every time they checks n = 5\n",
        "n = 5\n",
        "while n>0:\n",
        "    print(\"LAther\")\n",
        "    print(\"Rinse\")\n",
        "print(\"Dry ff\")"
      ]
    },
    {
      "cell_type": "code",
      "execution_count": null,
      "id": "c995b0d7",
      "metadata": {
        "id": "c995b0d7",
        "outputId": "8fd6d10d-8913-41e0-f386-800b5e6ddb82"
      },
      "outputs": [
        {
          "name": "stdout",
          "output_type": "stream",
          "text": [
            "Dry ff\n"
          ]
        }
      ],
      "source": [
        "n = 0\n",
        "while n>0:\n",
        "    print(\"LAther\")\n",
        "    print(\"Rinse\")\n",
        "print(\"Dry ff\")"
      ]
    },
    {
      "cell_type": "code",
      "execution_count": null,
      "id": "4e280c37",
      "metadata": {
        "id": "4e280c37",
        "outputId": "dd8f7ad6-a353-4a4d-ccc1-75f2405bb5c3"
      },
      "outputs": [
        {
          "name": "stdout",
          "output_type": "stream",
          "text": [
            " dsaafs\n",
            " gjkhds\n",
            " sfhisdg\n",
            " sfbiksdls\n",
            " fgesrl\n",
            " \n",
            " done\n"
          ]
        }
      ],
      "source": [
        "while True:\n",
        "    String = input(\" \")\n",
        "    if String == \"done\":\n",
        "        break\n",
        "        print(\"Complete\")"
      ]
    },
    {
      "cell_type": "code",
      "execution_count": null,
      "id": "17ed9fea",
      "metadata": {
        "id": "17ed9fea",
        "outputId": "5c260b3f-5748-4bb6-9cfe-164488082185"
      },
      "outputs": [
        {
          "name": "stdout",
          "output_type": "stream",
          "text": [
            " > saveraasad\n",
            " > asdasdad\n",
            " > afghdfhd\n",
            " > sukiskbfs\n",
            " > sadlsdfh\n",
            " > done\n",
            "Done\n"
          ]
        }
      ],
      "source": [
        "while True:\n",
        "    line = input(\" > \")\n",
        "    if line == \"done\":\n",
        "        break\n",
        "        print(\"Complete\")\n",
        "print(\"Done\")"
      ]
    },
    {
      "cell_type": "code",
      "execution_count": null,
      "id": "d0b24e2f",
      "metadata": {
        "id": "d0b24e2f"
      },
      "outputs": [],
      "source": [
        "while True:\n",
        "    line = input(\" \")\n",
        "    if line[0] == \";\":\n",
        "        continue\n",
        "    if line == \"done\":\n",
        "        break\n",
        "    print(line)"
      ]
    },
    {
      "cell_type": "code",
      "execution_count": null,
      "id": "f2dc0e95",
      "metadata": {
        "id": "f2dc0e95"
      },
      "outputs": [],
      "source": [
        "while True:\n",
        "\n",
        "line = input('> ')\n",
        "\n",
        "if line[0] == '#' :\n",
        "\n",
        "continue\n",
        "\n",
        "if line == 'done' :\n",
        "\n",
        "break\n",
        "\n",
        "print(line)\n",
        "\n",
        "print('Done!')"
      ]
    },
    {
      "cell_type": "code",
      "execution_count": null,
      "id": "88aa137b",
      "metadata": {
        "id": "88aa137b",
        "outputId": "2554a19f-52fb-40be-a9c3-0cccddb6e363"
      },
      "outputs": [
        {
          "name": "stdout",
          "output_type": "stream",
          "text": [
            "This is tuple 1 (['Savera', 'ansari', 'Aslam'], 9, 23, 56, 3435, 'name', 'fathername', 'class', 23.423, 0, 123)\n",
            "This is tuple 2 (['Savera', 'ansari', 'Aslam'], 9, 23, 56, 3435, 'name', 'fathername', 'class', 23.423, 0, 123)\n"
          ]
        }
      ],
      "source": [
        "# Write a Python program to unpack a tuple in several\n",
        "# variables.\n",
        "list=[\"Savera\",\"ansari\",\"Aslam\"]\n",
        "tuple1 = (list,9,23,56,3435,\"name\",\"fathername\",\"class\" ,23.423,0,123)\n",
        "print(\"This is tuple 1\",tuple1)\n",
        "\n",
        "\n",
        "(a,b,c,d,e,f,g,h,i,j,k) = tuple1\n",
        "print(\"This is tuple 2\",tuple1)"
      ]
    },
    {
      "cell_type": "code",
      "execution_count": null,
      "id": "53998ec1",
      "metadata": {
        "id": "53998ec1",
        "outputId": "c71f39b0-8d21-4642-a72d-fc6858208dbb"
      },
      "outputs": [
        {
          "name": "stdout",
          "output_type": "stream",
          "text": [
            "This is tuple 1 (9, 23, 56, 56, 9, 0, 3435, 23.423, 0, 123)\n",
            "[0, 0, 9, 9, 23, 23.423, 56, 56, 123, 3435]\n",
            "9 0\n",
            "9 1\n",
            "9 2\n",
            "9 3\n",
            "9 4\n",
            "9 5\n",
            "9 6\n",
            "9 7\n",
            "9 8\n",
            "9 9\n",
            "10 9\n"
          ]
        },
        {
          "ename": "IndexError",
          "evalue": "tuple index out of range",
          "output_type": "error",
          "traceback": [
            "\u001b[1;31m---------------------------------------------------------------------------\u001b[0m",
            "\u001b[1;31mIndexError\u001b[0m                                Traceback (most recent call last)",
            "Cell \u001b[1;32mIn[59], line 17\u001b[0m\n\u001b[0;32m     15\u001b[0m \u001b[38;5;28;01mfor\u001b[39;00m i \u001b[38;5;129;01min\u001b[39;00m tuple1:\n\u001b[0;32m     16\u001b[0m     \u001b[38;5;28;01mfor\u001b[39;00m j \u001b[38;5;129;01min\u001b[39;00m \u001b[38;5;28mrange\u001b[39m(\u001b[38;5;28mlen\u001b[39m(tuple1)):\n\u001b[1;32m---> 17\u001b[0m         \u001b[38;5;28;01mif\u001b[39;00m \u001b[43mtuple1\u001b[49m\u001b[43m[\u001b[49m\u001b[43mi\u001b[49m\u001b[43m]\u001b[49m \u001b[38;5;241m==\u001b[39m tuple1[j]:\n\u001b[0;32m     18\u001b[0m             \u001b[38;5;28mprint\u001b[39m(i,j)\n\u001b[0;32m     19\u001b[0m             i\u001b[38;5;241m=\u001b[39mi\u001b[38;5;241m+\u001b[39m\u001b[38;5;241m1\u001b[39m\n",
            "\u001b[1;31mIndexError\u001b[0m: tuple index out of range"
          ]
        }
      ],
      "source": [
        "# Write a Python program to find the repeated items of a\n",
        "# tuple.\n",
        "# list=[\"Savera\",\"ansari\",\"Aslam\"]\n",
        "\n",
        "\n",
        "\n",
        "tuple1 = (9,23,56,56,9,0,3435,23.423,0,123)\n",
        "print(\"This is tuple 1\",tuple1)\n",
        "a =sorted(tuple1)\n",
        "print(a)\n",
        "\n",
        "\n",
        "# b= tuple1.count(5)\n",
        "# b\n",
        "for i in tuple1:\n",
        "    for j in range(len(tuple1)):\n",
        "        if tuple1[i] == tuple1[j]:\n",
        "            print(i,j)\n",
        "            i=i+1\n",
        "        print(i,j)\n",
        "\n",
        "for i in tuple1:\n",
        "    while True:\n",
        "        if tuple1"
      ]
    },
    {
      "cell_type": "code",
      "execution_count": null,
      "id": "2e009748",
      "metadata": {
        "id": "2e009748",
        "outputId": "95d9d5cb-54cb-4f9a-8ad8-0756119cecc0"
      },
      "outputs": [
        {
          "name": "stdout",
          "output_type": "stream",
          "text": [
            "Enter a number whose index you want to find: 3435\n",
            "This is the index of 23 6\n"
          ]
        }
      ],
      "source": [
        "# Write a Python program to find the index of an item of a\n",
        "# tuple.\n",
        "\n",
        "num = int(input(\"Enter a number whose index you want to find: \"))\n",
        "tuple1 = (9,23,56,56,9,0,3435,23.423,0,123)\n",
        "ind = tuple1.index(num)\n",
        "print(\"This is the index of 23\",ind )\n"
      ]
    },
    {
      "cell_type": "code",
      "execution_count": null,
      "id": "06fd9301",
      "metadata": {
        "id": "06fd9301",
        "outputId": "7e567df8-a5a3-4869-9b90-622609df144e"
      },
      "outputs": [
        {
          "ename": "TypeError",
          "evalue": "'int' object is not subscriptable",
          "output_type": "error",
          "traceback": [
            "\u001b[1;31m---------------------------------------------------------------------------\u001b[0m",
            "\u001b[1;31mTypeError\u001b[0m                                 Traceback (most recent call last)",
            "Cell \u001b[1;32mIn[42], line 4\u001b[0m\n\u001b[0;32m      1\u001b[0m \u001b[38;5;66;03m# Write a Python program to remove an empty tuple(s) from\u001b[39;00m\n\u001b[0;32m      2\u001b[0m \u001b[38;5;66;03m# a list of tuples.\u001b[39;00m\n\u001b[0;32m      3\u001b[0m tuple1 \u001b[38;5;241m=\u001b[39m (\u001b[38;5;241m9\u001b[39m,\u001b[38;5;241m23\u001b[39m,\u001b[38;5;241m56\u001b[39m,\u001b[38;5;241m56\u001b[39m,\u001b[38;5;241m9\u001b[39m,(\u001b[38;5;241m0\u001b[39m,(),\u001b[38;5;241m3435\u001b[39m),\u001b[38;5;241m23.423\u001b[39m,\u001b[38;5;241m0\u001b[39m,\u001b[38;5;241m123\u001b[39m)\n\u001b[1;32m----> 4\u001b[0m tup \u001b[38;5;241m=\u001b[39m \u001b[43mtuple1\u001b[49m\u001b[43m[\u001b[49m\u001b[38;5;241;43m1\u001b[39;49m\u001b[43m]\u001b[49m\u001b[43m[\u001b[49m\u001b[38;5;241;43m1\u001b[39;49m\u001b[43m]\u001b[49m\n\u001b[0;32m      5\u001b[0m \u001b[38;5;28;01mdel\u001b[39;00m(tup)\n",
            "\u001b[1;31mTypeError\u001b[0m: 'int' object is not subscriptable"
          ]
        }
      ],
      "source": [
        "# Write a Python program to remove an empty tuple(s) from\n",
        "# a list of tuples.\n",
        "tuple1 = (9,23,56,56,9,(0,(),3435),23.423,0,123)\n",
        "tup = tuple1[1][1]\n",
        "del(tup)\n"
      ]
    },
    {
      "cell_type": "code",
      "execution_count": null,
      "id": "27faeab6",
      "metadata": {
        "id": "27faeab6"
      },
      "outputs": [],
      "source": []
    },
    {
      "cell_type": "code",
      "execution_count": null,
      "id": "1a721661",
      "metadata": {
        "id": "1a721661"
      },
      "outputs": [],
      "source": []
    }
  ],
  "metadata": {
    "kernelspec": {
      "display_name": "Python 3 (ipykernel)",
      "language": "python",
      "name": "python3"
    },
    "language_info": {
      "codemirror_mode": {
        "name": "ipython",
        "version": 3
      },
      "file_extension": ".py",
      "mimetype": "text/x-python",
      "name": "python",
      "nbconvert_exporter": "python",
      "pygments_lexer": "ipython3",
      "version": "3.10.9"
    },
    "colab": {
      "provenance": []
    }
  },
  "nbformat": 4,
  "nbformat_minor": 5
}