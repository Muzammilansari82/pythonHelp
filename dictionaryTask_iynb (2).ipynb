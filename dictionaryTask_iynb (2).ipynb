{
  "nbformat": 4,
  "nbformat_minor": 0,
  "metadata": {
    "colab": {
      "provenance": []
    },
    "kernelspec": {
      "name": "python3",
      "display_name": "Python 3"
    },
    "language_info": {
      "name": "python"
    }
  },
  "cells": [
    {
      "cell_type": "code",
      "execution_count": null,
      "metadata": {
        "colab": {
          "base_uri": "https://localhost:8080/"
        },
        "id": "e7JbkBQKOSKu",
        "outputId": "f46d6180-b295-4bee-aa05-b5315f80d529"
      },
      "outputs": [
        {
          "output_type": "stream",
          "name": "stdout",
          "text": [
            "Ascending Order Dictionary=  ['A', 'B', 'C', 'D']\n",
            "Descending Order Dictionary=  ['D', 'C', 'B', 'A']\n"
          ]
        }
      ],
      "source": [
        "# Write a Python script to sort (ascending and descending) a\n",
        "# dictionary by value.\n",
        "dic = {'A':12,'B':324,'C':34,'D':65}\n",
        "# a = dict({'W':7,'X':3,'Y':2,'Z':1})\n",
        "\n",
        "ascending = sorted(dic)\n",
        "print(\"Ascending Order Dictionary= \",ascending)\n",
        "descending= sorted(dic, reverse = True)\n",
        "print(\"Descending Order Dictionary= \",descending)\n"
      ]
    },
    {
      "cell_type": "code",
      "source": [],
      "metadata": {
        "id": "jfYBRoEHHWCU"
      },
      "execution_count": null,
      "outputs": []
    },
    {
      "cell_type": "markdown",
      "source": [
        "Dictionary Task\n"
      ],
      "metadata": {
        "id": "R4851rql7_tU"
      }
    },
    {
      "cell_type": "code",
      "execution_count": null,
      "metadata": {
        "colab": {
          "base_uri": "https://localhost:8080/"
        },
        "id": "1b_CEIwhuBFv",
        "outputId": "43f7eab5-c39f-424b-8840-b341038eda6b"
      },
      "outputs": [
        {
          "output_type": "stream",
          "name": "stdout",
          "text": [
            "dict_items([('1', {'course': 'python', 'time': '9-11'}), ('2', {'course': 'php', 'time': '11-1', 'key1': {'date': '24/4/2023'}})])\n",
            "1 course python\n",
            "1 time 9-11\n",
            "2 course php\n",
            "2 time 11-1\n",
            "2 key1 {'date': '24/4/2023'}\n",
            "date 24/4/2023\n"
          ]
        }
      ],
      "source": [
        "dic1={'1':{'course':'python','time':'9-11'},'2':{'course':'php','time':'11-1','key1':{'date':'24/4/2023'}}}\n",
        "print(dic1.items())\n",
        "for a,b in dic1.items():\n",
        "  for c,d in b.items():\n",
        "    print(a,c,d)\n",
        "    if type(d) == dict:\n",
        "      for e,f in d.items():\n",
        "        print(e,f)"
      ]
    },
    {
      "cell_type": "code",
      "source": [
        "# • Write a Python script to concatenate three dictionaries to create a\n",
        "# new one.\n",
        "\n",
        "\n",
        "dic1 = {'A':12,'B':324,'C':34,'D':65}\n",
        "dic2 = dict({'W':7,'X':3,'Y':2,'Z':1})\n",
        "dic3= {'k':12,'L':345,'M':4,'N':7,'O':9,'P':34,'Q':2}\n",
        "\n",
        "dic1.update(dic2)\n",
        "dic1.update(dic3)\n",
        "final_dic = dic1\n",
        "print(\"New Dictionary is: \",final_dic)\n",
        "print(\"Sorted New Dictionary is : \" ,sorted(final_dic))\n"
      ],
      "metadata": {
        "colab": {
          "base_uri": "https://localhost:8080/"
        },
        "id": "ukxte9mmOcCW",
        "outputId": "04c6ea96-6b27-4f13-f666-5008e2c8d4ea"
      },
      "execution_count": null,
      "outputs": [
        {
          "output_type": "stream",
          "name": "stdout",
          "text": [
            "New Dictionary is:  {'A': 12, 'B': 324, 'C': 34, 'D': 65, 'W': 7, 'X': 3, 'Y': 2, 'Z': 1, 'k': 12, 'L': 345, 'M': 4, 'N': 7, 'O': 9, 'P': 34, 'Q': 2}\n",
            "Sorted New Dictionary is :  ['A', 'B', 'C', 'D', 'L', 'M', 'N', 'O', 'P', 'Q', 'W', 'X', 'Y', 'Z', 'k']\n"
          ]
        }
      ]
    },
    {
      "cell_type": "code",
      "source": [
        "# Write a Python script to merge two Python dictionaries.\n",
        "dic = {'A':12,'B':324,'C':34,'D':65}\n",
        "dic2 = dict({'W':7,'X':3,'Y':2,'Z':1})\n",
        "\n",
        "a= dict(zip(dic,dic2))\n",
        "a"
      ],
      "metadata": {
        "colab": {
          "base_uri": "https://localhost:8080/"
        },
        "id": "FCBcwVlIOcHW",
        "outputId": "7eb4ee59-8fdd-46b8-83ef-b04d4c89e0d0"
      },
      "execution_count": null,
      "outputs": [
        {
          "output_type": "execute_result",
          "data": {
            "text/plain": [
              "{'A': 'W', 'B': 'X', 'C': 'Y', 'D': 'Z'}"
            ]
          },
          "metadata": {},
          "execution_count": 7
        }
      ]
    },
    {
      "cell_type": "code",
      "source": [
        "# Write a Python script to create a dictionary where the keys are\n",
        "# numbers between 1 and 15 (both included) and the values are\n",
        "# square of keys.\n",
        "d= dict()\n",
        "for i in range(1,16):\n",
        "  d[i] = i**2\n",
        "print(d)\n"
      ],
      "metadata": {
        "colab": {
          "base_uri": "https://localhost:8080/"
        },
        "id": "XCUm9dq6PO05",
        "outputId": "3044a081-b94d-4993-df4a-dc659e9a011b"
      },
      "execution_count": null,
      "outputs": [
        {
          "output_type": "stream",
          "name": "stdout",
          "text": [
            "{1: 1, 2: 4, 3: 9, 4: 16, 5: 25, 6: 36, 7: 49, 8: 64, 9: 81, 10: 100, 11: 121, 12: 144, 13: 169, 14: 196, 15: 225}\n"
          ]
        }
      ]
    },
    {
      "cell_type": "code",
      "source": [
        "# Write a Python program to map two lists into a dictionary.\n",
        "\n",
        "a = [12,23,4,6,8,3,2]\n",
        "b = [4,6,3,22,5,4,55]\n",
        "c = dict(zip(a,b))\n",
        "\n",
        "print(c)\n"
      ],
      "metadata": {
        "colab": {
          "base_uri": "https://localhost:8080/"
        },
        "id": "HglI12FNSTXV",
        "outputId": "21549550-83bf-4c3b-b6c3-200f85e820a8"
      },
      "execution_count": null,
      "outputs": [
        {
          "output_type": "stream",
          "name": "stdout",
          "text": [
            "{12: 4, 23: 6, 4: 3, 6: 22, 8: 5, 3: 4, 2: 55}\n"
          ]
        }
      ]
    },
    {
      "cell_type": "code",
      "source": [
        "# Write a Python program to remove duplicates values from\n",
        "# Dictionary.\n",
        "\n",
        "c={12: 4, 23: 6,23:34, 4: 3, 6: 22, 8: 5, 3: 4, 2: 55}\n",
        "if i in c:\n",
        "  i == c\n",
        "  c.pop(i)\n",
        "print(c)\n"
      ],
      "metadata": {
        "colab": {
          "base_uri": "https://localhost:8080/"
        },
        "id": "-rWtGN2jTWRF",
        "outputId": "48ff2a71-1b6b-434f-a1d6-c13b66a65a83"
      },
      "execution_count": null,
      "outputs": [
        {
          "output_type": "stream",
          "name": "stdout",
          "text": [
            "{12: 4, 23: 34, 4: 3, 6: 22, 8: 5, 3: 4, 2: 55}\n"
          ]
        }
      ]
    },
    {
      "cell_type": "code",
      "source": [
        "#split and count\n",
        "text = \"This is a sample text. It contains some words. This text is used for demonstration purposes.\"\n",
        "words = text.split()\n",
        "word_counts = {}\n",
        "for word in words:\n",
        "    if word in word_counts:\n",
        "        word_counts[word] += 1\n",
        "    else:\n",
        "        word_counts[word] = 1\n",
        "\n",
        "# Print the word counts\n",
        "print(\"Word counts:\")\n",
        "for word, count in word_counts.items():\n",
        "    print(f\"{word}: {count}\")\n"
      ],
      "metadata": {
        "id": "6DCLaF3GVoZL",
        "colab": {
          "base_uri": "https://localhost:8080/"
        },
        "outputId": "b4cbcffd-28a3-4cd2-ad36-8bf426641385"
      },
      "execution_count": null,
      "outputs": [
        {
          "output_type": "stream",
          "name": "stdout",
          "text": [
            "Word counts:\n",
            "This: 2\n",
            "is: 2\n",
            "a: 1\n",
            "sample: 1\n",
            "text.: 1\n",
            "It: 1\n",
            "contains: 1\n",
            "some: 1\n",
            "words.: 1\n",
            "text: 1\n",
            "used: 1\n",
            "for: 1\n",
            "demonstration: 1\n",
            "purposes.: 1\n"
          ]
        }
      ]
    },
    {
      "cell_type": "code",
      "source": [],
      "metadata": {
        "id": "B9ceGXglEQu6"
      },
      "execution_count": null,
      "outputs": []
    },
    {
      "cell_type": "code",
      "source": [],
      "metadata": {
        "id": "E7POtXJQVoc9"
      },
      "execution_count": null,
      "outputs": []
    }
  ]
}