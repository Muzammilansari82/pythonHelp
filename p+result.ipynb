{
  "nbformat": 4,
  "nbformat_minor": 0,
  "metadata": {
    "colab": {
      "provenance": []
    },
    "kernelspec": {
      "name": "python3",
      "display_name": "Python 3"
    },
    "language_info": {
      "name": "python"
    }
  },
  "cells": [
    {
      "cell_type": "code",
      "execution_count": 1,
      "metadata": {
        "colab": {
          "base_uri": "https://localhost:8080/"
        },
        "id": "1cKEjihq24w8",
        "outputId": "36792081-1cc8-4a0d-a81d-50b072ff80cc"
      },
      "outputs": [
        {
          "output_type": "stream",
          "name": "stdout",
          "text": [
            "You Are fail in maths\n",
            "Obtain marks is:   199.8\n",
            "Total Marks:    300\n",
            "Total Percentage is:   66.60000000000001 %\n",
            " you got 'C' Grade\n"
          ]
        }
      ],
      "source": [
        "computer = 89\n",
        "science = 80.8\n",
        "maths = 30\n",
        "\n",
        "# if computer<=34 or science<=34 or maths<=34:\n",
        "#     print(\"you are failed\")\n",
        "# # elif computer>=34 or science>=34 or maths>=34:\n",
        "# else:\n",
        "#     print(\"you are pass\")\n",
        "\n",
        "\n",
        "\n",
        "\n",
        "if computer<=34:\n",
        "    print(\"You Are fail in Computer\")\n",
        "if science<=34:\n",
        "    print(\"You Are fail in science\")\n",
        "if maths<=34:\n",
        "    print(\"You Are fail in maths\")\n",
        "else:\n",
        "    print(\"Congratulation You clear in all subjects\")\n",
        "\n",
        "\n",
        "\n",
        "obtain_Marks= computer+science+maths\n",
        "total_Marks = 300\n",
        "Percentage = (obtain_Marks/total_Marks ) *100\n",
        "\n",
        "print(\"Obtain marks is:  \",obtain_Marks)\n",
        "print(\"Total Marks:   \",total_Marks)\n",
        "print(\"Total Percentage is:  \",Percentage ,\"%\")\n",
        "\n",
        "\n",
        "\n",
        "if Percentage>=80:\n",
        "    print(\"Congratulations you got 'A' Grade\")\n",
        "elif Percentage>=70:\n",
        "    print(\"Congratulations you got 'B' Grade\")\n",
        "elif Percentage>=60:\n",
        "     print(\" you got 'C' Grade\")\n",
        "else:\n",
        "    print(\"You are fail\")\n",
        "\n",
        "\n",
        "\n",
        "# obtain_Marks= computer+science+maths\n",
        "# total_Marks = 300\n",
        "# Percentage = (obtain_Marks/total_Marks) *100\n",
        "\n",
        "\n",
        "# sqrt = obtain_Marks **0.5\n",
        "# semi_triangel= ((computer+science+maths)/2)\n",
        "# area_triangle = (semi_triangel*(semi_triangel-computer)*(semi_triangel-science)*(semi_triangel-maths))\n",
        "# Quard =((science**2)-4*computer*maths)\n",
        "# Quardratic1 = -(science +(Quard**0.5))/2*computer\n",
        "\n",
        "\n",
        "\n",
        "# print(\"Obtain marks is:  \",obtain_Marks)\n",
        "# print(\"Total Marks:   \",total_Marks)\n",
        "# print(\"Total Percentage is:  \",Percentage ,\"%\")\n",
        "\n",
        "\n",
        "\n",
        "\n",
        "# if Percentage>=80:\n",
        "#     print(\"Congratulations you got 'A' Grade\")\n",
        "# elif Percentage>=70:\n",
        "#     print(\"Congratulations you got 'B' Grade\")\n",
        "# elif Percentage>=60:\n",
        "#      print(\" you got 'C' Grade\")\n",
        "# else:\n",
        "#     print(\"You are fail\")\n",
        "\n",
        "\n",
        "\n",
        "# if Percentage>=80 or Percentage<70:\n",
        "#     print(\"Congratulations you got 'A' Grade\")\n",
        "# if Percentage>=70 or Percentage<60:\n",
        "#     print(\"Congratulations you got 'B' Grade\")\n",
        "# if  Percentage>=60\n",
        "\n",
        "\n",
        "# print(\"The Square of obtain marks \" ,sqrt)\n",
        "# print(\"Area of Triangle \",area_triangle)\n",
        "# print(\"The Quard of Quadratic Equation is \",Quard)\n",
        "# print(\"The Value of Quadratic Equation is \",Quardratic1)"
      ]
    }
  ]
}