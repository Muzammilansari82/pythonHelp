{
 "cells": [
  {
   "cell_type": "markdown",
   "id": "8cbfed90",
   "metadata": {},
   "source": [
    "# ASSIGNMENT #2"
   ]
  },
  {
   "cell_type": "markdown",
   "id": "7c77f6ed",
   "metadata": {},
   "source": [
    "Name: Savera Ansari"
   ]
  },
  {
   "cell_type": "code",
   "execution_count": 1,
   "id": "9e6e5550",
   "metadata": {},
   "outputs": [],
   "source": [
    "class Student:\n",
    "    # hello\n",
    "    def __init__(self,id,name):\n",
    "        self.id = id\n",
    "        self.name = name\n",
    "    def std_Record(self):\n",
    "        print(\"Student Id is: \\t\\t\", self.id)\n",
    "        print(\"Student Name is: \\t\", self.name)"
   ]
  },
  {
   "cell_type": "code",
   "execution_count": 2,
   "id": "49784063",
   "metadata": {},
   "outputs": [],
   "source": [
    "class StudentRecord(Student):\n",
    "    def __init__(self,id,name):\n",
    "        super().__init__(id,name)\n",
    "        self.mList = []\n",
    "    def show_list(self):\n",
    "        self.mList = []\n",
    "        for x in range(6):\n",
    "            marks = int(input(\"Please Enter a marks of Subjects: \"))\n",
    "            self.mList.append(marks)"
   ]
  },
  {
   "cell_type": "code",
   "execution_count": 5,
   "id": "95d2383e",
   "metadata": {},
   "outputs": [],
   "source": [
    "class Result(StudentRecord):\n",
    "    def addition(self):\n",
    "        super().show_list()\n",
    "        total = 0\n",
    "        for i in range(len(self.mList)):\n",
    "            total = total + self.mList[i]\n",
    "        print(\"Sum of all elements in given list: \", total)\n",
    "        percentage =  (total/ 600)*100\n",
    "        print(\"Percentage of all elements in given list: \", percentage,\"%\")\n",
    "    "
   ]
  },
  {
   "cell_type": "code",
   "execution_count": 6,
   "id": "09ef2639",
   "metadata": {},
   "outputs": [
    {
     "name": "stdout",
     "output_type": "stream",
     "text": [
      "Enter a id: 4\n",
      "Enter a name: savera\n",
      "Student Id is: \t\t 4\n",
      "Student Name is: \t savera\n",
      "Please Enter a marks of Subjects: 90\n",
      "Please Enter a marks of Subjects: 89\n",
      "Please Enter a marks of Subjects: 89\n",
      "Please Enter a marks of Subjects: 87\n",
      "Please Enter a marks of Subjects: 90\n",
      "Please Enter a marks of Subjects: 99\n",
      "Sum of all elements in given list:  544\n",
      "Percentage of all elements in given list:  90.66666666666666 %\n"
     ]
    }
   ],
   "source": [
    "a = input(\"Enter a id: \")\n",
    "b = input(\"Enter a name: \")\n",
    "p = Result(a,b)\n",
    "p.std_Record()\n",
    "# p.show_list()\n",
    "p.addition()\n"
   ]
  },
  {
   "cell_type": "code",
   "execution_count": null,
   "id": "44b41c10",
   "metadata": {},
   "outputs": [],
   "source": []
  }
 ],
 "metadata": {
  "kernelspec": {
   "display_name": "Python 3 (ipykernel)",
   "language": "python",
   "name": "python3"
  },
  "language_info": {
   "codemirror_mode": {
    "name": "ipython",
    "version": 3
   },
   "file_extension": ".py",
   "mimetype": "text/x-python",
   "name": "python",
   "nbconvert_exporter": "python",
   "pygments_lexer": "ipython3",
   "version": "3.10.9"
  }
 },
 "nbformat": 4,
 "nbformat_minor": 5
}
