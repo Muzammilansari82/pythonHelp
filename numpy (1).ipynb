{
  "nbformat": 4,
  "nbformat_minor": 0,
  "metadata": {
    "colab": {
      "provenance": []
    },
    "kernelspec": {
      "name": "python3",
      "display_name": "Python 3"
    },
    "language_info": {
      "name": "python"
    }
  },
  "cells": [
    {
      "cell_type": "code",
      "execution_count": null,
      "metadata": {
        "colab": {
          "base_uri": "https://localhost:8080/"
        },
        "id": "pSm_VLODYdWU",
        "outputId": "bd5bcbf8-e20a-486c-bd55-2412375183c1"
      },
      "outputs": [
        {
          "output_type": "stream",
          "name": "stdout",
          "text": [
            "1.22.4\n"
          ]
        }
      ],
      "source": [
        "import numpy as np\n",
        "\n",
        "print(np.__version__)"
      ]
    },
    {
      "cell_type": "code",
      "source": [
        "import array as array"
      ],
      "metadata": {
        "id": "-nNteqPbgB62"
      },
      "execution_count": null,
      "outputs": []
    },
    {
      "cell_type": "code",
      "source": [
        "from numpy import*"
      ],
      "metadata": {
        "id": "lnN3MNUUaP8A"
      },
      "execution_count": null,
      "outputs": []
    },
    {
      "cell_type": "code",
      "source": [
        "a = np.array([12,233,5,2,2,11,1])\n",
        "a"
      ],
      "metadata": {
        "colab": {
          "base_uri": "https://localhost:8080/"
        },
        "id": "xAml4JLOaXsG",
        "outputId": "6896496a-ffed-47c4-9f46-066d0ab9db04"
      },
      "execution_count": null,
      "outputs": [
        {
          "output_type": "execute_result",
          "data": {
            "text/plain": [
              "array([ 12, 233,   5,   2,   2,  11,   1])"
            ]
          },
          "metadata": {},
          "execution_count": 5
        }
      ]
    },
    {
      "cell_type": "code",
      "source": [
        "a = np.array([1,23,54,4,5,3,2],float)\n",
        "a"
      ],
      "metadata": {
        "colab": {
          "base_uri": "https://localhost:8080/"
        },
        "id": "yxKAZJf5aXwW",
        "outputId": "885b6f49-5db8-41ae-aae9-413a03411115"
      },
      "execution_count": null,
      "outputs": [
        {
          "output_type": "execute_result",
          "data": {
            "text/plain": [
              "array([ 1., 23., 54.,  4.,  5.,  3.,  2.])"
            ]
          },
          "metadata": {},
          "execution_count": 6
        }
      ]
    },
    {
      "cell_type": "code",
      "source": [
        "print(type(a))\n",
        "print(type(a.dtype))"
      ],
      "metadata": {
        "colab": {
          "base_uri": "https://localhost:8080/"
        },
        "id": "ovimEjryaX4u",
        "outputId": "f667b7e0-8460-4a98-f16d-ff0330284fe7"
      },
      "execution_count": null,
      "outputs": [
        {
          "output_type": "stream",
          "name": "stdout",
          "text": [
            "<class 'numpy.ndarray'>\n",
            "<class 'numpy.dtype[float64]'>\n"
          ]
        }
      ]
    },
    {
      "cell_type": "code",
      "source": [
        "a[:3]"
      ],
      "metadata": {
        "colab": {
          "base_uri": "https://localhost:8080/"
        },
        "id": "Z-Po_6EBa9-z",
        "outputId": "a305a067-c032-49c2-f984-1d7bbc0e4675"
      },
      "execution_count": null,
      "outputs": [
        {
          "output_type": "execute_result",
          "data": {
            "text/plain": [
              "array([ 1., 23., 54.])"
            ]
          },
          "metadata": {},
          "execution_count": 12
        }
      ]
    },
    {
      "cell_type": "code",
      "source": [
        "a[0]"
      ],
      "metadata": {
        "colab": {
          "base_uri": "https://localhost:8080/"
        },
        "id": "bjYSyxZcbR60",
        "outputId": "528efa49-797e-43fc-fd80-6936f49b0669"
      },
      "execution_count": null,
      "outputs": [
        {
          "output_type": "execute_result",
          "data": {
            "text/plain": [
              "1.0"
            ]
          },
          "metadata": {},
          "execution_count": 13
        }
      ]
    },
    {
      "cell_type": "code",
      "source": [
        "a[0] = 90\n",
        "a"
      ],
      "metadata": {
        "colab": {
          "base_uri": "https://localhost:8080/"
        },
        "id": "9OQADanPbR30",
        "outputId": "58a98ce3-7f04-4ef2-d728-ba15066ca0e1"
      },
      "execution_count": null,
      "outputs": [
        {
          "output_type": "execute_result",
          "data": {
            "text/plain": [
              "array([90., 23., 54.,  4.,  5.,  3.,  2.])"
            ]
          },
          "metadata": {},
          "execution_count": 14
        }
      ]
    },
    {
      "cell_type": "code",
      "source": [
        "b = np.array([[12,34,32,23],[12,32,5,6]])\n",
        "b"
      ],
      "metadata": {
        "colab": {
          "base_uri": "https://localhost:8080/"
        },
        "id": "8CgMXlcubR0m",
        "outputId": "41df96ff-ec8f-475b-a046-87705a4e1932"
      },
      "execution_count": null,
      "outputs": [
        {
          "output_type": "execute_result",
          "data": {
            "text/plain": [
              "array([[12, 34, 32, 23],\n",
              "       [12, 32,  5,  6]])"
            ]
          },
          "metadata": {},
          "execution_count": 15
        }
      ]
    },
    {
      "cell_type": "code",
      "source": [
        "# b[2,1] #Error index out of bound"
      ],
      "metadata": {
        "id": "Y5phJBP2bRxd"
      },
      "execution_count": null,
      "outputs": []
    },
    {
      "cell_type": "code",
      "source": [
        "b[1,2]"
      ],
      "metadata": {
        "colab": {
          "base_uri": "https://localhost:8080/"
        },
        "id": "bfZWzQP1bRud",
        "outputId": "2191830d-04d9-47e4-d8f5-e07a758084e1"
      },
      "execution_count": null,
      "outputs": [
        {
          "output_type": "execute_result",
          "data": {
            "text/plain": [
              "5"
            ]
          },
          "metadata": {},
          "execution_count": 18
        }
      ]
    },
    {
      "cell_type": "code",
      "source": [
        "b[1][2]"
      ],
      "metadata": {
        "colab": {
          "base_uri": "https://localhost:8080/"
        },
        "id": "-wz6hNL-bRrN",
        "outputId": "1f2cb02e-3c99-4a62-9619-e7afea566cf6"
      },
      "execution_count": null,
      "outputs": [
        {
          "output_type": "execute_result",
          "data": {
            "text/plain": [
              "5"
            ]
          },
          "metadata": {},
          "execution_count": 19
        }
      ]
    },
    {
      "cell_type": "code",
      "source": [
        "a[1:]"
      ],
      "metadata": {
        "colab": {
          "base_uri": "https://localhost:8080/"
        },
        "id": "MoOjoW4nbRoF",
        "outputId": "7c32795c-5ae0-47b8-d80d-a37f29f6cdba"
      },
      "execution_count": null,
      "outputs": [
        {
          "output_type": "execute_result",
          "data": {
            "text/plain": [
              "array([23., 54.,  4.,  5.,  3.,  2.])"
            ]
          },
          "metadata": {},
          "execution_count": 21
        }
      ]
    },
    {
      "cell_type": "code",
      "source": [
        "c = np.array([[12,34,32,23],[12,32,5,6]])\n",
        "c"
      ],
      "metadata": {
        "colab": {
          "base_uri": "https://localhost:8080/"
        },
        "id": "mSfFxEUmcmiE",
        "outputId": "5c88a617-6c7b-4873-c850-29909dade889"
      },
      "execution_count": null,
      "outputs": [
        {
          "output_type": "execute_result",
          "data": {
            "text/plain": [
              "array([[12, 34, 32, 23],\n",
              "       [12, 32,  5,  6]])"
            ]
          },
          "metadata": {},
          "execution_count": 23
        }
      ]
    },
    {
      "cell_type": "code",
      "source": [
        "c[-1:,-2:]"
      ],
      "metadata": {
        "colab": {
          "base_uri": "https://localhost:8080/"
        },
        "id": "DTg-wnTPbRkl",
        "outputId": "5030bc48-c074-4d14-e060-df9c80da5d13"
      },
      "execution_count": null,
      "outputs": [
        {
          "output_type": "execute_result",
          "data": {
            "text/plain": [
              "array([[5, 6]])"
            ]
          },
          "metadata": {},
          "execution_count": 25
        }
      ]
    },
    {
      "cell_type": "code",
      "source": [
        "c.shape\n"
      ],
      "metadata": {
        "colab": {
          "base_uri": "https://localhost:8080/"
        },
        "id": "ixcou1sIc4Pc",
        "outputId": "42b7dfda-058f-4a6c-bddc-07c28ba9510d"
      },
      "execution_count": null,
      "outputs": [
        {
          "output_type": "execute_result",
          "data": {
            "text/plain": [
              "(2, 4)"
            ]
          },
          "metadata": {},
          "execution_count": 26
        }
      ]
    },
    {
      "cell_type": "code",
      "source": [
        "c.dtype"
      ],
      "metadata": {
        "colab": {
          "base_uri": "https://localhost:8080/"
        },
        "id": "HZxg_UIQc6pB",
        "outputId": "b7d19a7b-df5d-4209-b735-0df24ca8fc03"
      },
      "execution_count": null,
      "outputs": [
        {
          "output_type": "execute_result",
          "data": {
            "text/plain": [
              "dtype('int64')"
            ]
          },
          "metadata": {},
          "execution_count": 28
        }
      ]
    },
    {
      "cell_type": "code",
      "source": [
        "c"
      ],
      "metadata": {
        "colab": {
          "base_uri": "https://localhost:8080/"
        },
        "id": "kifEQ5ULc-GL",
        "outputId": "7ead0392-ba5b-46e6-d9ea-21238ade31d1"
      },
      "execution_count": null,
      "outputs": [
        {
          "output_type": "execute_result",
          "data": {
            "text/plain": [
              "array([[12, 34, 32, 23],\n",
              "       [12, 32,  5,  6]])"
            ]
          },
          "metadata": {},
          "execution_count": 29
        }
      ]
    },
    {
      "cell_type": "code",
      "source": [
        "len(c)"
      ],
      "metadata": {
        "colab": {
          "base_uri": "https://localhost:8080/"
        },
        "id": "FM7pmQl3c-DT",
        "outputId": "eee53668-46de-4cf0-929e-1da2f0ac64dc"
      },
      "execution_count": null,
      "outputs": [
        {
          "output_type": "execute_result",
          "data": {
            "text/plain": [
              "2"
            ]
          },
          "metadata": {},
          "execution_count": 30
        }
      ]
    },
    {
      "cell_type": "code",
      "source": [
        "12 in c"
      ],
      "metadata": {
        "colab": {
          "base_uri": "https://localhost:8080/"
        },
        "id": "4rP1GMY4c-AL",
        "outputId": "bb0b2342-9aba-4a94-dd0f-b06485feff84"
      },
      "execution_count": null,
      "outputs": [
        {
          "output_type": "execute_result",
          "data": {
            "text/plain": [
              "True"
            ]
          },
          "metadata": {},
          "execution_count": 31
        }
      ]
    },
    {
      "cell_type": "code",
      "source": [
        "-1 not in c"
      ],
      "metadata": {
        "colab": {
          "base_uri": "https://localhost:8080/"
        },
        "id": "5g74Ra5Fc99D",
        "outputId": "781053ad-ffa1-4ee6-cae2-e545be0d89d4"
      },
      "execution_count": null,
      "outputs": [
        {
          "output_type": "execute_result",
          "data": {
            "text/plain": [
              "True"
            ]
          },
          "metadata": {},
          "execution_count": 32
        }
      ]
    },
    {
      "cell_type": "code",
      "source": [
        "1 in c"
      ],
      "metadata": {
        "colab": {
          "base_uri": "https://localhost:8080/"
        },
        "id": "3h7Kn_dCc95T",
        "outputId": "4fdeba90-8785-47a5-f092-095961b8bb3c"
      },
      "execution_count": null,
      "outputs": [
        {
          "output_type": "execute_result",
          "data": {
            "text/plain": [
              "False"
            ]
          },
          "metadata": {},
          "execution_count": 33
        }
      ]
    },
    {
      "cell_type": "code",
      "source": [
        "c = np.array(range(12),float )\n",
        "c"
      ],
      "metadata": {
        "colab": {
          "base_uri": "https://localhost:8080/"
        },
        "id": "iF8rwa99bRg9",
        "outputId": "10017e81-4dd8-4036-9c74-5689e4b3ec19"
      },
      "execution_count": null,
      "outputs": [
        {
          "output_type": "execute_result",
          "data": {
            "text/plain": [
              "array([ 0.,  1.,  2.,  3.,  4.,  5.,  6.,  7.,  8.,  9., 10., 11.])"
            ]
          },
          "metadata": {},
          "execution_count": 34
        }
      ]
    },
    {
      "cell_type": "code",
      "source": [
        "d = c.reshape(3,4)"
      ],
      "metadata": {
        "id": "30R4EUq3djMO"
      },
      "execution_count": null,
      "outputs": []
    },
    {
      "cell_type": "code",
      "source": [
        "d"
      ],
      "metadata": {
        "colab": {
          "base_uri": "https://localhost:8080/"
        },
        "id": "AcXcn0iTdjJH",
        "outputId": "d47ea064-073f-4c1a-f6b9-51c9730c726c"
      },
      "execution_count": null,
      "outputs": [
        {
          "output_type": "execute_result",
          "data": {
            "text/plain": [
              "array([[ 0.,  1.,  2.,  3.],\n",
              "       [ 4.,  5.,  6.,  7.],\n",
              "       [ 8.,  9., 10., 11.]])"
            ]
          },
          "metadata": {},
          "execution_count": 36
        }
      ]
    },
    {
      "cell_type": "code",
      "source": [
        "d.shape"
      ],
      "metadata": {
        "colab": {
          "base_uri": "https://localhost:8080/"
        },
        "id": "PsfoJNQtd0hC",
        "outputId": "3b3e0e09-cd01-487a-a016-216a79df9dcf"
      },
      "execution_count": null,
      "outputs": [
        {
          "output_type": "execute_result",
          "data": {
            "text/plain": [
              "(3, 4)"
            ]
          },
          "metadata": {},
          "execution_count": 39
        }
      ]
    },
    {
      "cell_type": "code",
      "source": [
        "a = np.array([1,2,3])\n",
        "a"
      ],
      "metadata": {
        "colab": {
          "base_uri": "https://localhost:8080/"
        },
        "id": "tCSdUFPadjF_",
        "outputId": "f789626f-e830-4093-f28e-add80b5fb510"
      },
      "execution_count": null,
      "outputs": [
        {
          "output_type": "execute_result",
          "data": {
            "text/plain": [
              "array([1, 2, 3])"
            ]
          },
          "metadata": {},
          "execution_count": 40
        }
      ]
    },
    {
      "cell_type": "code",
      "source": [
        "b = a"
      ],
      "metadata": {
        "id": "apvPu9XHdjCu"
      },
      "execution_count": null,
      "outputs": []
    },
    {
      "cell_type": "code",
      "source": [
        "c= a.copy()  #b = a se b update hua magr c copy kia tha to wo original hai"
      ],
      "metadata": {
        "id": "KVnsPsiqdi_z"
      },
      "execution_count": null,
      "outputs": []
    },
    {
      "cell_type": "code",
      "source": [
        "a[0] = 30\n",
        "a"
      ],
      "metadata": {
        "colab": {
          "base_uri": "https://localhost:8080/"
        },
        "id": "imwPTikfdi8n",
        "outputId": "cb1f678d-e1d5-4dd0-b97e-b9c0e2be02a9"
      },
      "execution_count": null,
      "outputs": [
        {
          "output_type": "execute_result",
          "data": {
            "text/plain": [
              "array([30,  2,  3])"
            ]
          },
          "metadata": {},
          "execution_count": 44
        }
      ]
    },
    {
      "cell_type": "code",
      "source": [
        "print(a)\n",
        "print(b)\n",
        "print(c)"
      ],
      "metadata": {
        "colab": {
          "base_uri": "https://localhost:8080/"
        },
        "id": "kBdAgSbTdi5E",
        "outputId": "76c7edd2-adb5-4887-d7e7-8e12a723f8cb"
      },
      "execution_count": null,
      "outputs": [
        {
          "output_type": "stream",
          "name": "stdout",
          "text": [
            "[30  2  3]\n",
            "[30  2  3]\n",
            "[1 2 3]\n"
          ]
        }
      ]
    },
    {
      "cell_type": "markdown",
      "source": [
        "The tolist() function returns a list that contains the same items of the original array."
      ],
      "metadata": {
        "id": "7kXXb94efb8J"
      }
    },
    {
      "cell_type": "code",
      "source": [
        "# Converted Array into List\n",
        "n = np.array([[[1,2],[33,4],[45,54],[45,2]]])\n",
        "print(\"This is simple array \")\n",
        "print(n)\n",
        "y = n.tolist()\n",
        "print(\"After applying .tolist\")\n",
        "print(y)"
      ],
      "metadata": {
        "colab": {
          "base_uri": "https://localhost:8080/"
        },
        "id": "YOMLv3KggeES",
        "outputId": "873ca1ce-bf70-4ea3-cfff-602abd324e2a"
      },
      "execution_count": null,
      "outputs": [
        {
          "output_type": "stream",
          "name": "stdout",
          "text": [
            "This is simple array \n",
            "[[[ 1  2]\n",
            "  [33  4]\n",
            "  [45 54]\n",
            "  [45  2]]]\n",
            "After applying .tolist\n",
            "[[[1, 2], [33, 4], [45, 54], [45, 2]]]\n"
          ]
        }
      ]
    },
    {
      "cell_type": "code",
      "source": [
        "a = np.array([1,2,3],float)\n",
        "print(a)\n",
        "b =a.tolist()\n",
        "print(b)"
      ],
      "metadata": {
        "colab": {
          "base_uri": "https://localhost:8080/"
        },
        "id": "ISfC0kBXhmzx",
        "outputId": "016d50db-2f5c-4a76-b50b-1e32a8a5abb8"
      },
      "execution_count": null,
      "outputs": [
        {
          "output_type": "stream",
          "name": "stdout",
          "text": [
            "[1. 2. 3.]\n",
            "[1.0, 2.0, 3.0]\n"
          ]
        }
      ]
    },
    {
      "cell_type": "code",
      "source": [
        "a = np.array([1,2,3],float)\n",
        "print(a)\n",
        "s = a.tostring()\n",
        "s"
      ],
      "metadata": {
        "colab": {
          "base_uri": "https://localhost:8080/"
        },
        "id": "BnorYpsxh78o",
        "outputId": "7531c3e5-e715-4815-baf5-4f074aac1881"
      },
      "execution_count": null,
      "outputs": [
        {
          "output_type": "stream",
          "name": "stdout",
          "text": [
            "[1. 2. 3.]\n"
          ]
        },
        {
          "output_type": "stream",
          "name": "stderr",
          "text": [
            "<ipython-input-65-9343c13203b3>:3: DeprecationWarning: tostring() is deprecated. Use tobytes() instead.\n",
            "  s = a.tostring()\n"
          ]
        },
        {
          "output_type": "execute_result",
          "data": {
            "text/plain": [
              "b'\\x00\\x00\\x00\\x00\\x00\\x00\\xf0?\\x00\\x00\\x00\\x00\\x00\\x00\\x00@\\x00\\x00\\x00\\x00\\x00\\x00\\x08@'"
            ]
          },
          "metadata": {},
          "execution_count": 65
        }
      ]
    },
    {
      "cell_type": "code",
      "source": [
        "# .fill method change all values\n",
        "a.fill(0)\n",
        "a"
      ],
      "metadata": {
        "colab": {
          "base_uri": "https://localhost:8080/"
        },
        "id": "K_tmp7yNiGmk",
        "outputId": "33d56510-bd3a-47b0-f3fc-1645e9dd1697"
      },
      "execution_count": null,
      "outputs": [
        {
          "output_type": "execute_result",
          "data": {
            "text/plain": [
              "array([0., 0., 0.])"
            ]
          },
          "metadata": {},
          "execution_count": 69
        }
      ]
    },
    {
      "cell_type": "code",
      "source": [
        "a = np.array(range(90),float).reshape(10,9)\n",
        "a"
      ],
      "metadata": {
        "colab": {
          "base_uri": "https://localhost:8080/"
        },
        "id": "y9CklXJjifhA",
        "outputId": "d6ff9e9f-793d-4b0f-d622-96507ed0ecf5"
      },
      "execution_count": null,
      "outputs": [
        {
          "output_type": "execute_result",
          "data": {
            "text/plain": [
              "array([[ 0.,  1.,  2.,  3.,  4.,  5.,  6.,  7.,  8.],\n",
              "       [ 9., 10., 11., 12., 13., 14., 15., 16., 17.],\n",
              "       [18., 19., 20., 21., 22., 23., 24., 25., 26.],\n",
              "       [27., 28., 29., 30., 31., 32., 33., 34., 35.],\n",
              "       [36., 37., 38., 39., 40., 41., 42., 43., 44.],\n",
              "       [45., 46., 47., 48., 49., 50., 51., 52., 53.],\n",
              "       [54., 55., 56., 57., 58., 59., 60., 61., 62.],\n",
              "       [63., 64., 65., 66., 67., 68., 69., 70., 71.],\n",
              "       [72., 73., 74., 75., 76., 77., 78., 79., 80.],\n",
              "       [81., 82., 83., 84., 85., 86., 87., 88., 89.]])"
            ]
          },
          "metadata": {},
          "execution_count": 71
        }
      ]
    },
    {
      "cell_type": "code",
      "source": [
        "c = a.transpose()\n",
        "print(c)"
      ],
      "metadata": {
        "colab": {
          "base_uri": "https://localhost:8080/"
        },
        "id": "9NDCuvPZiGjP",
        "outputId": "5a91ba7c-21c0-40f1-c3c6-9e7561c781e3"
      },
      "execution_count": null,
      "outputs": [
        {
          "output_type": "stream",
          "name": "stdout",
          "text": [
            "[[ 0.  9. 18. 27. 36. 45. 54. 63. 72. 81.]\n",
            " [ 1. 10. 19. 28. 37. 46. 55. 64. 73. 82.]\n",
            " [ 2. 11. 20. 29. 38. 47. 56. 65. 74. 83.]\n",
            " [ 3. 12. 21. 30. 39. 48. 57. 66. 75. 84.]\n",
            " [ 4. 13. 22. 31. 40. 49. 58. 67. 76. 85.]\n",
            " [ 5. 14. 23. 32. 41. 50. 59. 68. 77. 86.]\n",
            " [ 6. 15. 24. 33. 42. 51. 60. 69. 78. 87.]\n",
            " [ 7. 16. 25. 34. 43. 52. 61. 70. 79. 88.]\n",
            " [ 8. 17. 26. 35. 44. 53. 62. 71. 80. 89.]]\n"
          ]
        }
      ]
    },
    {
      "cell_type": "code",
      "source": [],
      "metadata": {
        "id": "sxMz8vnCiGgD"
      },
      "execution_count": null,
      "outputs": []
    },
    {
      "cell_type": "markdown",
      "source": [
        "flatten() method in Python is used to return a copy of a given array in such a way that it is collapsed into one dimension."
      ],
      "metadata": {
        "id": "WgDKNS2rjFco"
      }
    },
    {
      "cell_type": "code",
      "source": [
        "a.flatten()"
      ],
      "metadata": {
        "colab": {
          "base_uri": "https://localhost:8080/"
        },
        "id": "GEc7uv6wiGcP",
        "outputId": "bbf8d7df-f454-48f1-d0f4-bcb9247c2871"
      },
      "execution_count": null,
      "outputs": [
        {
          "output_type": "execute_result",
          "data": {
            "text/plain": [
              "array([ 0.,  1.,  2.,  3.,  4.,  5.,  6.,  7.,  8.,  9., 10., 11., 12.,\n",
              "       13., 14., 15., 16., 17., 18., 19., 20., 21., 22., 23., 24., 25.,\n",
              "       26., 27., 28., 29., 30., 31., 32., 33., 34., 35., 36., 37., 38.,\n",
              "       39., 40., 41., 42., 43., 44., 45., 46., 47., 48., 49., 50., 51.,\n",
              "       52., 53., 54., 55., 56., 57., 58., 59., 60., 61., 62., 63., 64.,\n",
              "       65., 66., 67., 68., 69., 70., 71., 72., 73., 74., 75., 76., 77.,\n",
              "       78., 79., 80., 81., 82., 83., 84., 85., 86., 87., 88., 89.])"
            ]
          },
          "metadata": {},
          "execution_count": 73
        }
      ]
    },
    {
      "cell_type": "code",
      "source": [
        "a"
      ],
      "metadata": {
        "colab": {
          "base_uri": "https://localhost:8080/"
        },
        "id": "3ulqV9dyjp2e",
        "outputId": "342d256d-4145-4e23-ff4b-7d3bb51a7b69"
      },
      "execution_count": null,
      "outputs": [
        {
          "output_type": "execute_result",
          "data": {
            "text/plain": [
              "array([[ 0.,  1.,  2.,  3.,  4.,  5.,  6.,  7.,  8.],\n",
              "       [ 9., 10., 11., 12., 13., 14., 15., 16., 17.],\n",
              "       [18., 19., 20., 21., 22., 23., 24., 25., 26.],\n",
              "       [27., 28., 29., 30., 31., 32., 33., 34., 35.],\n",
              "       [36., 37., 38., 39., 40., 41., 42., 43., 44.],\n",
              "       [45., 46., 47., 48., 49., 50., 51., 52., 53.],\n",
              "       [54., 55., 56., 57., 58., 59., 60., 61., 62.],\n",
              "       [63., 64., 65., 66., 67., 68., 69., 70., 71.],\n",
              "       [72., 73., 74., 75., 76., 77., 78., 79., 80.],\n",
              "       [81., 82., 83., 84., 85., 86., 87., 88., 89.]])"
            ]
          },
          "metadata": {},
          "execution_count": 75
        }
      ]
    },
    {
      "cell_type": "code",
      "source": [
        "d"
      ],
      "metadata": {
        "colab": {
          "base_uri": "https://localhost:8080/"
        },
        "id": "qruMVgn0jsg-",
        "outputId": "90b2e2bf-79e8-4c30-d35a-8325093a960b"
      },
      "execution_count": null,
      "outputs": [
        {
          "output_type": "execute_result",
          "data": {
            "text/plain": [
              "array([[ 0.,  1.,  2.,  3.],\n",
              "       [ 4.,  5.,  6.,  7.],\n",
              "       [ 8.,  9., 10., 11.]])"
            ]
          },
          "metadata": {},
          "execution_count": 76
        }
      ]
    },
    {
      "cell_type": "code",
      "source": [
        "e = d.copy()\n",
        "e"
      ],
      "metadata": {
        "colab": {
          "base_uri": "https://localhost:8080/"
        },
        "id": "NqS0idLIj5o5",
        "outputId": "3a84598f-b59a-419c-886e-b3f602bfd6c6"
      },
      "execution_count": null,
      "outputs": [
        {
          "output_type": "execute_result",
          "data": {
            "text/plain": [
              "array([[ 0.,  1.,  2.,  3.],\n",
              "       [ 4.,  5.,  6.,  7.],\n",
              "       [ 8.,  9., 10., 11.]])"
            ]
          },
          "metadata": {},
          "execution_count": 80
        }
      ]
    },
    {
      "cell_type": "code",
      "source": [
        "c"
      ],
      "metadata": {
        "colab": {
          "base_uri": "https://localhost:8080/"
        },
        "id": "uJfyudrnjt-m",
        "outputId": "fc42773b-7b46-475a-c5a8-8a1dbd05687d"
      },
      "execution_count": null,
      "outputs": [
        {
          "output_type": "execute_result",
          "data": {
            "text/plain": [
              "array([[ 0.,  9., 18., 27., 36., 45., 54., 63., 72., 81.],\n",
              "       [ 1., 10., 19., 28., 37., 46., 55., 64., 73., 82.],\n",
              "       [ 2., 11., 20., 29., 38., 47., 56., 65., 74., 83.],\n",
              "       [ 3., 12., 21., 30., 39., 48., 57., 66., 75., 84.],\n",
              "       [ 4., 13., 22., 31., 40., 49., 58., 67., 76., 85.],\n",
              "       [ 5., 14., 23., 32., 41., 50., 59., 68., 77., 86.],\n",
              "       [ 6., 15., 24., 33., 42., 51., 60., 69., 78., 87.],\n",
              "       [ 7., 16., 25., 34., 43., 52., 61., 70., 79., 88.],\n",
              "       [ 8., 17., 26., 35., 44., 53., 62., 71., 80., 89.]])"
            ]
          },
          "metadata": {},
          "execution_count": 77
        }
      ]
    },
    {
      "cell_type": "code",
      "source": [
        "b"
      ],
      "metadata": {
        "colab": {
          "base_uri": "https://localhost:8080/"
        },
        "id": "x0aaZ2CSjwn2",
        "outputId": "89f1e4b6-afdc-47e6-a20b-485b735d725f"
      },
      "execution_count": null,
      "outputs": [
        {
          "output_type": "execute_result",
          "data": {
            "text/plain": [
              "[1.0, 2.0, 3.0]"
            ]
          },
          "metadata": {},
          "execution_count": 78
        }
      ]
    },
    {
      "cell_type": "code",
      "source": [
        "np.concatenate((d,e))  # only run with same rows and columns\n",
        "\n"
      ],
      "metadata": {
        "colab": {
          "base_uri": "https://localhost:8080/"
        },
        "id": "Gi6niOUsiGYa",
        "outputId": "bd2213e9-c99f-46c8-be6d-ce83e8499946"
      },
      "execution_count": null,
      "outputs": [
        {
          "output_type": "execute_result",
          "data": {
            "text/plain": [
              "array([[ 0.,  1.,  2.,  3.],\n",
              "       [ 4.,  5.,  6.,  7.],\n",
              "       [ 8.,  9., 10., 11.],\n",
              "       [ 0.,  1.,  2.,  3.],\n",
              "       [ 4.,  5.,  6.,  7.],\n",
              "       [ 8.,  9., 10., 11.]])"
            ]
          },
          "metadata": {},
          "execution_count": 82
        }
      ]
    },
    {
      "cell_type": "code",
      "source": [
        "a = np.array([[2,3,2],[5,6,8]],float)\n",
        "b = np.array([[22,32,42],[57,96,98]],float)\n",
        "np.concatenate((a,b))"
      ],
      "metadata": {
        "colab": {
          "base_uri": "https://localhost:8080/"
        },
        "id": "twaQ3iFHkJ5_",
        "outputId": "2034c37d-6393-4d57-865e-6942173cfcfb"
      },
      "execution_count": null,
      "outputs": [
        {
          "output_type": "execute_result",
          "data": {
            "text/plain": [
              "array([[ 2.,  3.,  2.],\n",
              "       [ 5.,  6.,  8.],\n",
              "       [22., 32., 42.],\n",
              "       [57., 96., 98.]])"
            ]
          },
          "metadata": {},
          "execution_count": 84
        }
      ]
    },
    {
      "cell_type": "code",
      "source": [
        "a = np.array([[2,3,2],[5,6,8]],float)\n",
        "b = np.array([[22,32,42],[57,96,98]],float)\n",
        "np.concatenate((a,b), axis = 0)  #when axis = 0 it runs Vertically"
      ],
      "metadata": {
        "colab": {
          "base_uri": "https://localhost:8080/"
        },
        "id": "ALNbytC6kJ25",
        "outputId": "8e92a77f-b954-4257-a148-f200dcd1d232"
      },
      "execution_count": null,
      "outputs": [
        {
          "output_type": "execute_result",
          "data": {
            "text/plain": [
              "array([[ 2.,  3.,  2.],\n",
              "       [ 5.,  6.,  8.],\n",
              "       [22., 32., 42.],\n",
              "       [57., 96., 98.]])"
            ]
          },
          "metadata": {},
          "execution_count": 85
        }
      ]
    },
    {
      "cell_type": "code",
      "source": [
        "np.concatenate((a,b), axis = 1)  #when axis = 1 it runs Horizontally"
      ],
      "metadata": {
        "colab": {
          "base_uri": "https://localhost:8080/"
        },
        "id": "7aqgPqSGkJz1",
        "outputId": "958e58ef-2c00-4da8-b4ef-43871162a730"
      },
      "execution_count": null,
      "outputs": [
        {
          "output_type": "execute_result",
          "data": {
            "text/plain": [
              "array([[ 2.,  3.,  2., 22., 32., 42.],\n",
              "       [ 5.,  6.,  8., 57., 96., 98.]])"
            ]
          },
          "metadata": {},
          "execution_count": 88
        }
      ]
    },
    {
      "cell_type": "code",
      "source": [],
      "metadata": {
        "id": "PeU6EGkSlu1V"
      },
      "execution_count": null,
      "outputs": []
    },
    {
      "cell_type": "code",
      "source": [],
      "metadata": {
        "id": "XuZL82CJkJxN"
      },
      "execution_count": null,
      "outputs": []
    },
    {
      "cell_type": "code",
      "source": [],
      "metadata": {
        "id": "rkUMyuJhkJuA"
      },
      "execution_count": null,
      "outputs": []
    },
    {
      "cell_type": "code",
      "source": [],
      "metadata": {
        "id": "brEnu6PqkJqe"
      },
      "execution_count": null,
      "outputs": []
    },
    {
      "cell_type": "code",
      "source": [],
      "metadata": {
        "id": "P06UyH1AiGR3"
      },
      "execution_count": null,
      "outputs": []
    },
    {
      "cell_type": "code",
      "source": [],
      "metadata": {
        "id": "795nX0zfdiyc"
      },
      "execution_count": null,
      "outputs": []
    }
  ]
}