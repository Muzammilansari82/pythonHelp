{
 "cells": [
  {
   "cell_type": "markdown",
   "id": "3361b050",
   "metadata": {},
   "source": [
    "## Calculator"
   ]
  },
  {
   "cell_type": "code",
   "execution_count": 7,
   "id": "126ff2dc",
   "metadata": {},
   "outputs": [
    {
     "name": "stdout",
     "output_type": "stream",
     "text": [
      "addition is:  5\n",
      "subtraction is :  -1\n",
      "Multiplication is:  6\n",
      "Division is:  0.6666666666666666\n"
     ]
    }
   ],
   "source": [
    "def calculator(num1,num2):\n",
    "    print(\"addition is: \", num1+num2)\n",
    "    print(\"subtraction is : \", num1-num2)\n",
    "    print(\"Multiplication is: \", num1*num2)\n",
    "    print(\"Division is: \",num1/num2)\n",
    "    \n",
    "calculator(2,3)"
   ]
  },
  {
   "cell_type": "markdown",
   "id": "2e2fe0bb",
   "metadata": {},
   "source": [
    "## flag = false"
   ]
  },
  {
   "cell_type": "code",
   "execution_count": 8,
   "id": "b7285478",
   "metadata": {
    "scrolled": true
   },
   "outputs": [
    {
     "name": "stdout",
     "output_type": "stream",
     "text": [
      "None\n",
      "35\n",
      "30\n",
      "None\n"
     ]
    }
   ],
   "source": [
    "def add_variables(x, y, z=None, flag=False):\n",
    "    if flag:\n",
    "        if z is None:\n",
    "            return x + y\n",
    "        else:\n",
    "            return x + y + z\n",
    "    else:\n",
    "        return None\n",
    "\n",
    "# Example 1: flag is False, so the function returns None\n",
    "result = add_variables(10, 20)\n",
    "print(result)  # Output: None\n",
    "\n",
    "# Example 2: flag is True, and z is provided, so the function returns the sum of x, y, and z\n",
    "result = add_variables(10, 20, 5, flag=True)\n",
    "print(result)  # Output: 35\n",
    "\n",
    "# Example 3: flag is True, and z is not provided, so the function returns the sum of x and y\n",
    "result = add_variables(10, 20, flag=True)\n",
    "print(result)  # Output: 30\n",
    "\n",
    "# Example 4: flag is False, so the function returns None\n",
    "result = add_variables(5, 10, flag=False)\n",
    "print(result)  # Output: None\n"
   ]
  },
  {
   "cell_type": "markdown",
   "id": "a5d7534a",
   "metadata": {},
   "source": [
    "## list append"
   ]
  },
  {
   "cell_type": "code",
   "execution_count": 23,
   "id": "a8f09186",
   "metadata": {},
   "outputs": [
    {
     "data": {
      "text/plain": [
       "5"
      ]
     },
     "execution_count": 23,
     "metadata": {},
     "output_type": "execute_result"
    }
   ],
   "source": [
    "list1= ['savera','ansari','22','Bscs']\n",
    "list1\n",
    "list1.append(3.3)\n",
    "list1\n",
    "type(list1)\n",
    "len(list1)\n"
   ]
  },
  {
   "cell_type": "markdown",
   "id": "509bd574",
   "metadata": {},
   "source": [
    "## list through for and while"
   ]
  },
  {
   "cell_type": "code",
   "execution_count": 24,
   "id": "20dc7076",
   "metadata": {},
   "outputs": [
    {
     "name": "stdout",
     "output_type": "stream",
     "text": [
      "['apple', 'banana', 'mango']\n"
     ]
    }
   ],
   "source": [
    "fruits = [\"apple\", \"banana\", \"cherry\", \"kiwi\", \"mango\"]\n",
    "newlist = []\n",
    "\n",
    "for x in fruits:\n",
    "    if \"a\" in x:\n",
    "        newlist.append(x)\n",
    "\n",
    "print(newlist)"
   ]
  },
  {
   "cell_type": "code",
   "execution_count": 25,
   "id": "f5d10430",
   "metadata": {},
   "outputs": [
    {
     "name": "stdout",
     "output_type": "stream",
     "text": [
      "1\n",
      "2\n",
      "3\n",
      "4\n",
      "5\n"
     ]
    }
   ],
   "source": [
    "my_list = [1, 2, 3, 4, 5]\n",
    "\n",
    "# Initialize an index variable\n",
    "index = 0\n",
    "\n",
    "# Use a while loop to iterate through the list\n",
    "while index < len(my_list):\n",
    "    item = my_list[index]\n",
    "    print(item)\n",
    "    \n",
    "    # Increment the index\n",
    "    index += 1\n"
   ]
  },
  {
   "cell_type": "markdown",
   "id": "e80ec0ed",
   "metadata": {},
   "source": [
    "## copy list items"
   ]
  },
  {
   "cell_type": "code",
   "execution_count": 48,
   "id": "7b02d424",
   "metadata": {},
   "outputs": [
    {
     "name": "stdout",
     "output_type": "stream",
     "text": [
      "[0, 1, 2, 3, 4, 5, 6, 7, 8, 9, 10, 11, 12, 13, 14, 15, 16, 17, 18, 19, 20, 21, 22, 23, 24, 25, 26, 27, 28, 29, 30, 31, 32, 33, 34, 35, 36, 37, 38, 39, 40, 41, 42, 43, 44, 45, 46, 47, 48, 49]\n",
      "[0, 1, 2, 3, 4, 5, 6, 7, 8, 9, 10, 11, 12, 13, 14, 15, 16, 17, 18, 19, 20, 21, 22, 23, 24, 25, 26, 27, 28, 29, 30, 31, 32, 33, 34, 35, 36, 37, 38, 39, 40, 41, 42, 43, 44, 45, 46, 47, 48, 49]\n"
     ]
    }
   ],
   "source": [
    "# Create two lists with similar items\n",
    "list1 = []\n",
    "for i in range(50):\n",
    "    list1.append(i)\n",
    "print(list1)\n",
    "list2 = list1[:]\n",
    "print(list2)"
   ]
  },
  {
   "cell_type": "code",
   "execution_count": 49,
   "id": "36111c12",
   "metadata": {},
   "outputs": [
    {
     "name": "stdout",
     "output_type": "stream",
     "text": [
      "Combined List: [0, 1, 2, 3, 4, 5, 6, 7, 8, 9, 10, 11, 12, 13, 14, 15, 16, 17, 18, 19, 20, 21, 22, 23, 24, 25, 26, 27, 28, 29, 30, 31, 32, 33, 34, 35, 36, 37, 38, 39, 40, 41, 42, 43, 44, 45, 46, 47, 48, 49, 0, 1, 2, 3, 4, 5, 6, 7, 8, 9, 10, 11, 12, 13, 14, 15, 16, 17, 18, 19, 20, 21, 22, 23, 24, 25, 26, 27, 28, 29, 30, 31, 32, 33, 34, 35, 36, 37, 38, 39, 40, 41, 42, 43, 44, 45, 46, 47, 48, 49]\n",
      "Total Length: 100\n"
     ]
    }
   ],
   "source": [
    "# Combine the two lists into one\n",
    "combined_list = list1 + list2\n",
    "\n",
    "# Check the length of the combined list\n",
    "total_length = len(combined_list)\n",
    "\n",
    "# Print the combined list and its total length\n",
    "print(\"Combined List:\", combined_list)\n",
    "print(\"Total Length:\", total_length)\n"
   ]
  },
  {
   "cell_type": "markdown",
   "id": "cf554ce7",
   "metadata": {},
   "source": [
    "## Dictionary"
   ]
  },
  {
   "cell_type": "code",
   "execution_count": 54,
   "id": "5549c50b",
   "metadata": {},
   "outputs": [
    {
     "name": "stdout",
     "output_type": "stream",
     "text": [
      "key1 value1\n",
      "key2 value2\n",
      "key3 value3\n",
      "key4 value4\n",
      "key5 value5\n"
     ]
    }
   ],
   "source": [
    "dictionary = {\n",
    "    \"key1\": \"value1\",\n",
    "    \"key2\": \"value2\",\n",
    "    \"key3\": \"value3\",\n",
    "    \"key4\": \"value4\",\n",
    "    \"key5\": \"value5\",\n",
    "}\n",
    "\n",
    "for key, value in dictionary.items():\n",
    "    print(key, value)\n"
   ]
  },
  {
   "cell_type": "markdown",
   "id": "23018b9b",
   "metadata": {},
   "source": [
    "## Create two variables with similar names"
   ]
  },
  {
   "cell_type": "code",
   "execution_count": 53,
   "id": "5e9096f6",
   "metadata": {},
   "outputs": [
    {
     "name": "stdout",
     "output_type": "stream",
     "text": [
      "First Name: Savera\n",
      "Second Name: Ansari\n"
     ]
    }
   ],
   "source": [
    "# Create two variables with similar names\n",
    "variable1 = \"Savera Ansari\"\n",
    "variable2 = \"Savera Ansari\"\n",
    "\n",
    "# Slice the first name from variable1 and the second name from variable2\n",
    "first_name = variable1[:6]\n",
    "second_name = variable2[7:]\n",
    "\n",
    "# Print the output\n",
    "print(\"First Name:\", first_name)\n",
    "print(\"Second Name:\", second_name)\n"
   ]
  },
  {
   "cell_type": "markdown",
   "id": "66dbf00e",
   "metadata": {},
   "source": [
    "## DateTime"
   ]
  },
  {
   "cell_type": "code",
   "execution_count": 55,
   "id": "b2de4b2e",
   "metadata": {},
   "outputs": [
    {
     "name": "stdout",
     "output_type": "stream",
     "text": [
      "John Doe\n",
      "7492\n",
      "2003-03-08\n",
      "2002-11-28\n"
     ]
    }
   ],
   "source": [
    "import datetime\n",
    "\n",
    "class Person:\n",
    "    def __init__(self, name, birth_date):\n",
    "        self.name = name\n",
    "        self.birth_date = birth_date\n",
    "\n",
    "    def get_age(self):\n",
    "        return (datetime.date.today() - self.birth_date).days\n",
    "\n",
    "    def get_date_of_birth(self):\n",
    "        return self.birth_date\n",
    "\n",
    "    def get_date_100_days_ago(self):\n",
    "        return self.birth_date - datetime.timedelta(days=100)\n",
    "\n",
    "\n",
    "person = Person(\"John Doe\", datetime.date(2003, 3, 8))\n",
    "\n",
    "print(person.name)\n",
    "print(person.get_age())\n",
    "print(person.get_date_of_birth())\n",
    "print(person.get_date_100_days_ago())\n",
    "\n"
   ]
  },
  {
   "cell_type": "code",
   "execution_count": 62,
   "id": "aa0e5bd3",
   "metadata": {},
   "outputs": [
    {
     "name": "stdout",
     "output_type": "stream",
     "text": [
      "Ali lives in Hayatabad\n"
     ]
    }
   ],
   "source": [
    "class Person:\n",
    "    def __init__(self, name, address):\n",
    "        self.name = name\n",
    "        self.address = address\n",
    "\n",
    "    def print_details(self):\n",
    "        print(f\"{self.name} lives in {self.address}\")\n",
    "\n",
    "\n",
    "person = Person(\"Ali\", \"Hayatabad\")\n",
    "\n",
    "person.print_details()\n"
   ]
  },
  {
   "cell_type": "markdown",
   "id": "04224aa8",
   "metadata": {},
   "source": [
    "## list maping and lambda"
   ]
  },
  {
   "cell_type": "code",
   "execution_count": 59,
   "id": "c0ecde04",
   "metadata": {},
   "outputs": [
    {
     "name": "stdout",
     "output_type": "stream",
     "text": [
      "['a', 'bb', 'ccc', 'dddd', 'eeeee']\n"
     ]
    }
   ],
   "source": [
    "list1 = [1, 2, 3, 4, 5]\n",
    "list2 = [\"a\", \"b\", \"c\", \"d\", \"e\"]\n",
    "\n",
    "mapped_list = map(lambda x, y: x * y, list1, list2)\n",
    "\n",
    "print(list(mapped_list))\n"
   ]
  },
  {
   "cell_type": "code",
   "execution_count": 60,
   "id": "20fa2d07",
   "metadata": {},
   "outputs": [
    {
     "name": "stdout",
     "output_type": "stream",
     "text": [
      "8\n"
     ]
    }
   ],
   "source": [
    "# lambda to add 2 numbers\n",
    "add = lambda x, y: x + y\n",
    "\n",
    "# Usage\n",
    "result = add(5, 3)\n",
    "print(result)  # Output: 8\n"
   ]
  },
  {
   "cell_type": "code",
   "execution_count": 61,
   "id": "5b16bdb3",
   "metadata": {},
   "outputs": [
    {
     "name": "stdout",
     "output_type": "stream",
     "text": [
      "[7, 9, 11, 13, 15]\n"
     ]
    }
   ],
   "source": [
    "# Create two lists and map one on other. Use lambda function to add two variables.\n",
    "list1 = [1, 2, 3, 4, 5]\n",
    "list2 = [6, 7, 8, 9, 10]\n",
    "\n",
    "mapped_list = map(lambda x, y: x + y, list1, list2)\n",
    "\n",
    "print(list(mapped_list))\n"
   ]
  },
  {
   "cell_type": "code",
   "execution_count": null,
   "id": "d468be30",
   "metadata": {},
   "outputs": [],
   "source": [
    "# Create a list of words repeated words\n",
    "word_list = [\"apple\", \"banana\", \"cherry\"]\n",
    "\n",
    "# Repeat each word three times using a list comprehension\n",
    "repeated_list = [word for word in word_list for _ in range(3)]\n",
    "\n",
    "# Print the repeated list\n",
    "print(repeated_list)\n"
   ]
  },
  {
   "cell_type": "code",
   "execution_count": null,
   "id": "bb58bcc7",
   "metadata": {},
   "outputs": [],
   "source": []
  },
  {
   "cell_type": "markdown",
   "id": "b8446929",
   "metadata": {},
   "source": [
    "## stack"
   ]
  },
  {
   "cell_type": "code",
   "execution_count": 65,
   "id": "63bb660d",
   "metadata": {},
   "outputs": [
    {
     "name": "stdout",
     "output_type": "stream",
     "text": [
      "[[1 2 3 1 2 3 1 2 3]\n",
      " [4 5 6 4 5 6 4 5 6]]\n"
     ]
    }
   ],
   "source": [
    "# Create a horizontal stack and repeat it 3 times for same values.\n",
    "import numpy as np\n",
    "array = np.array([[1, 2, 3], [4, 5, 6]])\n",
    "\n",
    "horizontal_stack = np.hstack((array, array, array))\n",
    "\n",
    "print(horizontal_stack)\n"
   ]
  },
  {
   "cell_type": "code",
   "execution_count": null,
   "id": "c3596895",
   "metadata": {},
   "outputs": [],
   "source": []
  },
  {
   "cell_type": "code",
   "execution_count": null,
   "id": "61a3931b",
   "metadata": {},
   "outputs": [],
   "source": [
    "# create and eye for 4 rows in pythn\n",
    "import numpy as np\n",
    "\n",
    "# Create a 4x4 identity matrix\n",
    "eye_matrix = np.eye(4)\n",
    "\n",
    "# Print the identity matrix\n",
    "print(eye_matrix)\n"
   ]
  },
  {
   "cell_type": "code",
   "execution_count": null,
   "id": "f2608a73",
   "metadata": {},
   "outputs": [],
   "source": [
    "#diag function\n",
    "\n",
    "import numpy as np\n",
    "\n",
    "# Create a list of values\n",
    "my_list = [1, 2, 3, 4]\n",
    "\n",
    "# Use the diag function to create a diagonal matrix from the list\n",
    "diagonal_matrix = np.diag(my_list)\n",
    "\n",
    "# Print the diagonal matrix\n",
    "print(diagonal_matrix)\n"
   ]
  },
  {
   "cell_type": "code",
   "execution_count": 66,
   "id": "6fd00e49",
   "metadata": {},
   "outputs": [
    {
     "name": "stdout",
     "output_type": "stream",
     "text": [
      "<class 'numpy.ndarray'>\n"
     ]
    }
   ],
   "source": [
    "# type array\n",
    "array = np.array([1, 2, 3])\n",
    "\n",
    "print(type(array))\n"
   ]
  },
  {
   "cell_type": "code",
   "execution_count": 67,
   "id": "e74d32a9",
   "metadata": {},
   "outputs": [
    {
     "name": "stdout",
     "output_type": "stream",
     "text": [
      "(21,)\n",
      "[[ 0  1  2  3  4  5  6]\n",
      " [ 7  8  9 10 11 12 13]\n",
      " [14 15 16 17 18 19 20]]\n"
     ]
    }
   ],
   "source": [
    "# Create an array of 0 to 20 numbers and find out its shape, then reshape it.\n",
    "\n",
    "array = np.arange(21)\n",
    "\n",
    "print(array.shape)\n",
    "\n",
    "array = array.reshape(3, 7)\n",
    "\n",
    "print(array)\n"
   ]
  },
  {
   "cell_type": "code",
   "execution_count": 69,
   "id": "b80b4fad",
   "metadata": {},
   "outputs": [
    {
     "name": "stdout",
     "output_type": "stream",
     "text": [
      "[ 0.   2.5  5.   7.5 10. ]\n"
     ]
    }
   ],
   "source": [
    "# Create an array with linespace of 2.4.\n",
    "check\n",
    "array = np.linspace(0, 10, 5)\n",
    "\n",
    "print(array)\n"
   ]
  },
  {
   "cell_type": "code",
   "execution_count": 82,
   "id": "fd025f7c",
   "metadata": {},
   "outputs": [
    {
     "name": "stdout",
     "output_type": "stream",
     "text": [
      "[ 0.   2.4  4.8  7.2  9.6 12. ]\n"
     ]
    }
   ],
   "source": [
    "import numpy as np\n",
    "\n",
    "# Create an array with a linspace of 2.4\n",
    "start = 0\n",
    "end = 10\n",
    "step = 2.4\n",
    "array = np.arange(start, end + step, step)\n",
    "\n",
    "# Print the array\n",
    "print(array)\n"
   ]
  },
  {
   "cell_type": "code",
   "execution_count": 71,
   "id": "38b3e12a",
   "metadata": {},
   "outputs": [
    {
     "name": "stdout",
     "output_type": "stream",
     "text": [
      "[1. 1. 1. 1. 1.]\n",
      "[0. 0. 0. 0. 0.]\n"
     ]
    }
   ],
   "source": [
    "# Create an array for all one's.\n",
    "array = np.ones(5)\n",
    "\n",
    "print(array)\n",
    "\n",
    "# Create an array for all zero's only.\n",
    "\n",
    "array = np.zeros(5)\n",
    "\n",
    "print(array)\n"
   ]
  },
  {
   "cell_type": "code",
   "execution_count": 72,
   "id": "d981cd66",
   "metadata": {},
   "outputs": [
    {
     "name": "stdout",
     "output_type": "stream",
     "text": [
      "[0.69620944 0.60195231 0.90639634 0.5389179  0.21012943]\n"
     ]
    }
   ],
   "source": [
    "# Create an array with random numbers.\n",
    "array = np.random.rand(5)\n",
    "\n",
    "print(array)\n"
   ]
  },
  {
   "cell_type": "code",
   "execution_count": 73,
   "id": "8698466e",
   "metadata": {},
   "outputs": [
    {
     "name": "stdout",
     "output_type": "stream",
     "text": [
      "[ 0  2  4  6  8 10 12 14 16 18]\n"
     ]
    }
   ],
   "source": [
    "# Create an array with even numbers only.\n",
    "array = np.arange(20)\n",
    "\n",
    "even_numbers = array[array % 2 == 0]\n",
    "\n",
    "print(even_numbers)\n"
   ]
  },
  {
   "cell_type": "code",
   "execution_count": 74,
   "id": "d6031d2e",
   "metadata": {},
   "outputs": [
    {
     "name": "stdout",
     "output_type": "stream",
     "text": [
      "[ 1  3  5  7  9 11 13 15 17 19]\n"
     ]
    }
   ],
   "source": [
    "# Create an array with odd numbers only.\n",
    "array = np.arange(20)\n",
    "\n",
    "odd_numbers = array[array % 2 != 0]\n",
    "\n",
    "print(odd_numbers)\n"
   ]
  },
  {
   "cell_type": "code",
   "execution_count": 75,
   "id": "a53278b4",
   "metadata": {},
   "outputs": [
    {
     "name": "stdout",
     "output_type": "stream",
     "text": [
      "[0, 1, 1, 2, 3, 5, 8, 13, 21, 34]\n"
     ]
    }
   ],
   "source": [
    "# Create an array of Fibonacci numbers.\n",
    "def fibonacci(n):\n",
    "    if n == 0:\n",
    "        return 0\n",
    "    elif n == 1:\n",
    "        return 1\n",
    "    else:\n",
    "        return fibonacci(n - 1) + fibonacci(n - 2)\n",
    "\n",
    "\n",
    "array = []\n",
    "\n",
    "for i in range(10):\n",
    "    array.append(fibonacci(i))\n",
    "\n",
    "print(array)\n"
   ]
  },
  {
   "cell_type": "code",
   "execution_count": 77,
   "id": "1d9acac4",
   "metadata": {},
   "outputs": [
    {
     "name": "stdout",
     "output_type": "stream",
     "text": [
      "[2, 3, 5, 7, 11, 13, 17, 19, 23, 29, 31, 37, 41, 43, 47, 53, 59, 61, 67, 71, 73, 79, 83, 89, 97]\n"
     ]
    }
   ],
   "source": [
    "# Create an array of prime numbers.\n",
    "def is_prime(n):\n",
    "    if n <= 1:\n",
    "        return False\n",
    "    for i in range(2, int(n ** 0.5) + 1):\n",
    "        if n % i == 0:\n",
    "            return False\n",
    "    return True\n",
    "\n",
    "\n",
    "array = []\n",
    "\n",
    "for i in range(2, 100):\n",
    "    if is_prime(i):\n",
    "        array.append(i)\n",
    "\n",
    "print(array)\n"
   ]
  },
  {
   "cell_type": "code",
   "execution_count": 78,
   "id": "9e3677f7",
   "metadata": {},
   "outputs": [
    {
     "name": "stdout",
     "output_type": "stream",
     "text": [
      "Enter the number of terms: 10\n",
      "The Fibonacci sequence up to 10 terms is:\n",
      "0\n",
      "1\n",
      "1\n",
      "2\n",
      "3\n",
      "5\n",
      "8\n",
      "13\n",
      "21\n",
      "34\n"
     ]
    }
   ],
   "source": [
    "# Write a program to print the Fibonacci sequence up to n terms.\n",
    "\n",
    "def fibonacci(n):\n",
    "    a, b = 0, 1\n",
    "    for i in range(n):\n",
    "        a, b = b, a + b\n",
    "    return a\n",
    "\n",
    "\n",
    "n = int(input(\"Enter the number of terms: \"))\n",
    "print(\"The Fibonacci sequence up to\", n, \"terms is:\")\n",
    "for i in range(n):\n",
    "    print(fibonacci(i))\n"
   ]
  },
  {
   "cell_type": "code",
   "execution_count": 79,
   "id": "d719b507",
   "metadata": {},
   "outputs": [
    {
     "name": "stdout",
     "output_type": "stream",
     "text": [
      "Enter the number: 10\n",
      "The prime numbers up to 10 are:\n",
      "2\n",
      "3\n",
      "5\n",
      "7\n"
     ]
    }
   ],
   "source": [
    "# Write a program to print the prime numbers up to n.\n",
    "def is_prime(n):\n",
    "    if n <= 1:\n",
    "        return False\n",
    "    for i in range(2, int(n ** 0.5) + 1):\n",
    "        if n % i == 0:\n",
    "            return False\n",
    "    return True\n",
    "\n",
    "\n",
    "n = int(input(\"Enter the number: \"))\n",
    "print(\"The prime numbers up to\", n, \"are:\")\n",
    "for i in range(2, n + 1):\n",
    "    if is_prime(i):\n",
    "        print(i)\n"
   ]
  },
  {
   "cell_type": "code",
   "execution_count": 80,
   "id": "38be263a",
   "metadata": {
    "scrolled": true
   },
   "outputs": [
    {
     "name": "stdout",
     "output_type": "stream",
     "text": [
      "Enter the number: 10\n",
      "The Palindrome numbers between 1 and 10 are:\n",
      "1\n",
      "2\n",
      "3\n",
      "4\n",
      "5\n",
      "6\n",
      "7\n",
      "8\n",
      "9\n"
     ]
    }
   ],
   "source": [
    "# Write a program to print the Palindrome numbers between 1 and n.\n",
    "def is_palindrome(n):\n",
    "    temp = n\n",
    "    rev = 0\n",
    "    while temp > 0:\n",
    "        rev = rev * 10 + temp % 10\n",
    "        temp //= 10\n",
    "    return n == rev\n",
    "\n",
    "\n",
    "n = int(input(\"Enter the number: \"))\n",
    "print(\"The Palindrome numbers between 1 and\", n, \"are:\")\n",
    "for i in range(1, n + 1):\n",
    "    if is_palindrome(i):\n",
    "        print(i)\n"
   ]
  },
  {
   "cell_type": "code",
   "execution_count": 81,
   "id": "0d851eb4",
   "metadata": {},
   "outputs": [
    {
     "name": "stdout",
     "output_type": "stream",
     "text": [
      "Enter the number: 20\n",
      "The factorial of 20 is 2432902008176640000\n"
     ]
    }
   ],
   "source": [
    "# Write a program to print the factorial of a number.\n",
    "def factorial(n):\n",
    "    if n == 0:\n",
    "        return 1\n",
    "    else:\n",
    "        return n * factorial(n - 1)\n",
    "\n",
    "\n",
    "n = int(input(\"Enter the number: \"))\n",
    "print(\"The factorial of\", n, \"is\", factorial(n))\n"
   ]
  },
  {
   "cell_type": "code",
   "execution_count": null,
   "id": "c6bdb644",
   "metadata": {},
   "outputs": [],
   "source": []
  },
  {
   "cell_type": "code",
   "execution_count": null,
   "id": "ae866cbb",
   "metadata": {},
   "outputs": [],
   "source": []
  }
 ],
 "metadata": {
  "kernelspec": {
   "display_name": "Python 3 (ipykernel)",
   "language": "python",
   "name": "python3"
  },
  "language_info": {
   "codemirror_mode": {
    "name": "ipython",
    "version": 3
   },
   "file_extension": ".py",
   "mimetype": "text/x-python",
   "name": "python",
   "nbconvert_exporter": "python",
   "pygments_lexer": "ipython3",
   "version": "3.11.4"
  }
 },
 "nbformat": 4,
 "nbformat_minor": 5
}
