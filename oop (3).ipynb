{
  "nbformat": 4,
  "nbformat_minor": 0,
  "metadata": {
    "colab": {
      "provenance": []
    },
    "kernelspec": {
      "name": "python3",
      "display_name": "Python 3"
    },
    "language_info": {
      "name": "python"
    }
  },
  "cells": [
    {
      "cell_type": "code",
      "source": [
        "class Bio:\n",
        "  def __init__(self):\n",
        "    self.a = \"SAvera Ansari\"\n",
        "    self.age = 20\n",
        "\n",
        "def BioData ():\n",
        "  return Bio()\n",
        "\n",
        "b = BioData()\n",
        "print(b.a)\n",
        "print(b.age)"
      ],
      "metadata": {
        "colab": {
          "base_uri": "https://localhost:8080/"
        },
        "id": "fAYzfWZMJ_z6",
        "outputId": "b2f409a1-de0c-4518-a6f4-c5c669717477"
      },
      "execution_count": null,
      "outputs": [
        {
          "output_type": "stream",
          "name": "stdout",
          "text": [
            "SAvera Ansari\n",
            "20\n"
          ]
        }
      ]
    },
    {
      "cell_type": "code",
      "source": [],
      "metadata": {
        "id": "IhLSJRFPYWty"
      },
      "execution_count": null,
      "outputs": []
    },
    {
      "cell_type": "code",
      "execution_count": null,
      "metadata": {
        "id": "83de8551"
      },
      "outputs": [],
      "source": [
        "class Bio:\n",
        "    def __init__(self,name,classs):\n",
        "        self.n = name\n",
        "        self.c = classs\n",
        "    def displayBio(self):\n",
        "        print(self.n)\n",
        "        print(self.c)\n"
      ]
    },
    {
      "cell_type": "code",
      "execution_count": null,
      "metadata": {
        "id": "36d47dd6",
        "outputId": "299be853-d112-4ea3-bffe-b2c7954b7ddf"
      },
      "outputs": [
        {
          "name": "stdout",
          "output_type": "stream",
          "text": [
            "SAvera\n",
            "BSC\n"
          ]
        }
      ],
      "source": [
        "BioData = Bio(\"SAvera\",\"BSC\")\n",
        "BioData.displayBio()"
      ]
    },
    {
      "cell_type": "code",
      "source": [
        "class Animal:\n",
        "\n",
        "  a=20\n",
        "  def __init__(self,name):\n",
        "    Animal.a = name\n",
        "    print(\"\")\n",
        "  def eat(self):\n",
        "    print(\"Animals can eat\")\n",
        "class Birds:\n",
        "  def fly(self):\n",
        "    print(\"Birds can fly\")"
      ],
      "metadata": {
        "id": "8SXeH-GvK0tu"
      },
      "execution_count": null,
      "outputs": []
    },
    {
      "cell_type": "code",
      "source": [
        "class Sparrow (Animal,Birds):\n",
        "  def __init__(self):\n",
        "    super(). __init__('jhggf')\n",
        "    print(\"This is  Child Constructor\")\n",
        "\n",
        "  def display(self):\n",
        "      print(\"My name is :\",super().a)\n",
        "\n",
        "  def eat(self):\n",
        "    super().eat()\n",
        "    print(\"Sparrow can also eat\")\n",
        "  def sleep(self):\n",
        "    print(\"THEy can  also \")"
      ],
      "metadata": {
        "id": "lyZM7m_-LKld"
      },
      "execution_count": null,
      "outputs": []
    },
    {
      "cell_type": "code",
      "source": [
        "s = Sparrow()\n",
        "\n",
        "s.eat()\n",
        "s.fly()\n",
        "s.display()\n",
        "\n",
        "s.sleep()"
      ],
      "metadata": {
        "colab": {
          "base_uri": "https://localhost:8080/"
        },
        "id": "LbiT3oP2RbVJ",
        "outputId": "13dec966-cc2a-4671-fc99-de33d9da940a"
      },
      "execution_count": null,
      "outputs": [
        {
          "output_type": "stream",
          "name": "stdout",
          "text": [
            "\n",
            "This is  Child Constructor\n",
            "Animals can eat\n",
            "Sparrow can also eat\n",
            "Birds can fly\n",
            "My name is : jhggf\n",
            "THEy can  also \n"
          ]
        }
      ]
    },
    {
      "cell_type": "code",
      "source": [],
      "metadata": {
        "id": "hQ58OVKLS2No"
      },
      "execution_count": null,
      "outputs": []
    }
  ]
}