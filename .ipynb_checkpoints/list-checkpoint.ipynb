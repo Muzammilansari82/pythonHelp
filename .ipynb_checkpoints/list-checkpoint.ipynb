{
 "cells": [
  {
   "cell_type": "code",
   "execution_count": null,
   "id": "4dfe87e0",
   "metadata": {
    "id": "4dfe87e0",
    "outputId": "c5252b36-a2e1-44fd-c00c-ceb1f5683b04"
   },
   "outputs": [
    {
     "name": "stdout",
     "output_type": "stream",
     "text": [
      "['apple', 'banana', 'cherry', 'orange']\n"
     ]
    }
   ],
   "source": [
    "fruits = [\"apple\", \"banana\", \"cherry\"]\n",
    "\n",
    "fruits.append(\"orange\")\n",
    "\n",
    "print(fruits)"
   ]
  },
  {
   "cell_type": "code",
   "execution_count": null,
   "id": "0a88268e",
   "metadata": {
    "id": "0a88268e",
    "outputId": "8eba6846-bace-436b-d0b3-e52bda5af5f0"
   },
   "outputs": [
    {
     "name": "stdout",
     "output_type": "stream",
     "text": [
      "['apple', 'orange', 'banana', 'cherry']\n"
     ]
    }
   ],
   "source": [
    "fruits = [\"apple\", \"banana\", \"cherry\"]\n",
    "\n",
    "fruits.insert(1,\"orange\")\n",
    "\n",
    "print(fruits)\n",
    "\n",
    "# list.insert(pos, elmnt)"
   ]
  },
  {
   "cell_type": "code",
   "execution_count": null,
   "id": "dc1e08ee",
   "metadata": {
    "id": "dc1e08ee",
    "outputId": "9d7d60b0-2b38-4b18-ada5-fc61f1658a3f"
   },
   "outputs": [
    {
     "name": "stdout",
     "output_type": "stream",
     "text": [
      "[]\n"
     ]
    }
   ],
   "source": [
    "fruits = [\"apple\", \"banana\", \"cherry\"]\n",
    "fruits.clear()\n",
    "\n",
    "print(fruits)"
   ]
  },
  {
   "cell_type": "code",
   "execution_count": null,
   "id": "b7ecb82f",
   "metadata": {
    "id": "b7ecb82f",
    "outputId": "bad60d20-c67e-483f-cb94-4421a320f4fe"
   },
   "outputs": [
    {
     "name": "stdout",
     "output_type": "stream",
     "text": [
      "User entersavera\n",
      "User enterasatja\n",
      "User enterafa\n",
      "User enterafsgh\n",
      "User enterdfgedhtk\n",
      "['savera', 'asatja', 'afa', 'afsgh', 'dfgedhtk']\n"
     ]
    }
   ],
   "source": [
    "list = []\n",
    "for x in range(5):\n",
    "    a = input(\"User enter\")\n",
    "    list.append(a)\n",
    "print(list)"
   ]
  },
  {
   "cell_type": "code",
   "execution_count": null,
   "id": "1971b528",
   "metadata": {
    "id": "1971b528"
   },
   "outputs": [],
   "source": []
  },
  {
   "cell_type": "code",
   "execution_count": null,
   "id": "cf268d9c",
   "metadata": {
    "id": "cf268d9c",
    "outputId": "cd7e7e11-7554-426e-a7f4-25589d354639"
   },
   "outputs": [
    {
     "name": "stdout",
     "output_type": "stream",
     "text": [
      "Enter a String: apple\n",
      "Enter a String: mango\n",
      "Enter a String: orange\n",
      "Enter a String: grapes\n",
      "Enter a String: grapes\n",
      "['apple', 'mango', 'orange', 'grapes', 'grapes']\n"
     ]
    }
   ],
   "source": [
    "fruits = []\n",
    "x =1\n",
    "for x in range(5):\n",
    "    a = input(\"Enter a String: \")\n",
    "    fruits.append(a)\n",
    "print(fruits)"
   ]
  },
  {
   "cell_type": "code",
   "execution_count": null,
   "id": "54f7b91b",
   "metadata": {
    "id": "54f7b91b",
    "outputId": "65316cb8-6966-4c1f-e661-52f4e8de7818"
   },
   "outputs": [
    {
     "data": {
      "text/plain": [
       "[]"
      ]
     },
     "execution_count": 7,
     "metadata": {},
     "output_type": "execute_result"
    }
   ],
   "source": [
    "fruits.clear()\n",
    "fruits\n"
   ]
  },
  {
   "cell_type": "code",
   "execution_count": null,
   "id": "d491fde3",
   "metadata": {
    "id": "d491fde3",
    "outputId": "1738e3b9-0140-462a-efe1-d163ed91ecdb"
   },
   "outputs": [
    {
     "data": {
      "text/plain": [
       "['apple', 'mango', 'orange', 'grapes', 'grapes']"
      ]
     },
     "execution_count": 21,
     "metadata": {},
     "output_type": "execute_result"
    }
   ],
   "source": [
    "x= fruits.copy()\n",
    "x"
   ]
  },
  {
   "cell_type": "code",
   "execution_count": null,
   "id": "6a671916",
   "metadata": {
    "id": "6a671916",
    "outputId": "9a42e8bd-7eec-4acd-b6fb-1e47d3e59082"
   },
   "outputs": [
    {
     "data": {
      "text/plain": [
       "1"
      ]
     },
     "execution_count": 22,
     "metadata": {},
     "output_type": "execute_result"
    }
   ],
   "source": [
    "x= fruits.count(\"mango\")\n",
    "x"
   ]
  },
  {
   "cell_type": "code",
   "execution_count": null,
   "id": "3406cc25",
   "metadata": {
    "id": "3406cc25"
   },
   "outputs": [],
   "source": [
    "fruits.append(\"mango\")"
   ]
  },
  {
   "cell_type": "code",
   "execution_count": null,
   "id": "97bab2ba",
   "metadata": {
    "id": "97bab2ba",
    "outputId": "bb6ffb20-4c79-4bfa-b4db-c01bf4382e08"
   },
   "outputs": [
    {
     "data": {
      "text/plain": [
       "['apple', 'mango', 'orange', 'grapes', 'grapes', 'mango']"
      ]
     },
     "execution_count": 24,
     "metadata": {},
     "output_type": "execute_result"
    }
   ],
   "source": [
    "fruits"
   ]
  },
  {
   "cell_type": "code",
   "execution_count": null,
   "id": "400d6792",
   "metadata": {
    "id": "400d6792",
    "outputId": "e3ac9a33-fcdb-4d2c-ccd4-57de8c59ba1b"
   },
   "outputs": [
    {
     "data": {
      "text/plain": [
       "2"
      ]
     },
     "execution_count": 25,
     "metadata": {},
     "output_type": "execute_result"
    }
   ],
   "source": [
    "x=fruits.count(\"mango\")\n",
    "x"
   ]
  },
  {
   "cell_type": "code",
   "execution_count": null,
   "id": "d72ace4b",
   "metadata": {
    "id": "d72ace4b",
    "outputId": "9526c12a-79f1-4532-d327-e288844031b5"
   },
   "outputs": [
    {
     "data": {
      "text/plain": [
       "['apple', 'mango', 'orange', 'grapes', 'grapes', 'mango']"
      ]
     },
     "execution_count": 26,
     "metadata": {},
     "output_type": "execute_result"
    }
   ],
   "source": [
    "fruits"
   ]
  },
  {
   "cell_type": "code",
   "execution_count": null,
   "id": "f9c65937",
   "metadata": {
    "id": "f9c65937"
   },
   "outputs": [],
   "source": [
    "a= [23,12,342,45,5]\n",
    "fruits.extend(a)"
   ]
  },
  {
   "cell_type": "code",
   "execution_count": null,
   "id": "9c6cab93",
   "metadata": {
    "id": "9c6cab93",
    "outputId": "0a7f76bb-1e4a-4230-fd8d-3ea098996f8b"
   },
   "outputs": [
    {
     "data": {
      "text/plain": [
       "[23, 12, 342, 45, 5]"
      ]
     },
     "execution_count": 28,
     "metadata": {},
     "output_type": "execute_result"
    }
   ],
   "source": [
    "a\n"
   ]
  },
  {
   "cell_type": "code",
   "execution_count": null,
   "id": "ecef912d",
   "metadata": {
    "id": "ecef912d",
    "outputId": "112c9936-f490-4ded-c355-ede64b31de4d"
   },
   "outputs": [
    {
     "data": {
      "text/plain": [
       "['apple', 'mango', 'orange', 'grapes', 'grapes', 'mango', 23, 12, 342, 45, 5]"
      ]
     },
     "execution_count": 29,
     "metadata": {},
     "output_type": "execute_result"
    }
   ],
   "source": [
    "fruits"
   ]
  },
  {
   "cell_type": "code",
   "execution_count": null,
   "id": "a1d37e5c",
   "metadata": {
    "id": "a1d37e5c",
    "outputId": "c1bbc038-a06e-463b-9c2f-8e5f4fc58731"
   },
   "outputs": [
    {
     "data": {
      "text/plain": [
       "3"
      ]
     },
     "execution_count": 30,
     "metadata": {},
     "output_type": "execute_result"
    }
   ],
   "source": [
    "fruits.index(\"grapes\")"
   ]
  },
  {
   "cell_type": "code",
   "execution_count": null,
   "id": "6f9bef13",
   "metadata": {
    "id": "6f9bef13",
    "outputId": "349ee5bc-0286-46df-ec0d-d428df4f25ce"
   },
   "outputs": [
    {
     "data": {
      "text/plain": [
       "['apple',\n",
       " 'mango',\n",
       " 'apple',\n",
       " 'apple',\n",
       " 'orange',\n",
       " 'grapes',\n",
       " 'grapes',\n",
       " 'mango',\n",
       " 23,\n",
       " 12,\n",
       " 342,\n",
       " 45,\n",
       " 5]"
      ]
     },
     "execution_count": 33,
     "metadata": {},
     "output_type": "execute_result"
    }
   ],
   "source": [
    "fruits.insert(2,\"apple\")\n",
    "fruits"
   ]
  },
  {
   "cell_type": "code",
   "execution_count": null,
   "id": "ad7d743e",
   "metadata": {
    "id": "ad7d743e",
    "outputId": "fa3580b7-0a3c-410e-c152-3580b10841d1"
   },
   "outputs": [
    {
     "data": {
      "text/plain": [
       "5"
      ]
     },
     "execution_count": 37,
     "metadata": {},
     "output_type": "execute_result"
    }
   ],
   "source": [
    "fruits.pop()"
   ]
  },
  {
   "cell_type": "code",
   "execution_count": null,
   "id": "e269bf5c",
   "metadata": {
    "id": "e269bf5c",
    "outputId": "6f2347fd-16a3-4916-ae32-aefb73c0786d"
   },
   "outputs": [
    {
     "data": {
      "text/plain": [
       "'apple'"
      ]
     },
     "execution_count": 38,
     "metadata": {},
     "output_type": "execute_result"
    }
   ],
   "source": [
    "fruits.pop(1)"
   ]
  },
  {
   "cell_type": "code",
   "execution_count": null,
   "id": "3689388f",
   "metadata": {
    "id": "3689388f",
    "outputId": "ec4d0d85-5510-4525-c34e-ebff4979b0ab"
   },
   "outputs": [
    {
     "data": {
      "text/plain": [
       "['apple', 'orange', 'grapes', 'grapes', 23, 12, 342, 45]"
      ]
     },
     "execution_count": 40,
     "metadata": {},
     "output_type": "execute_result"
    }
   ],
   "source": [
    "fruits.remove(\"mango\")\n",
    "fruits"
   ]
  },
  {
   "cell_type": "code",
   "execution_count": null,
   "id": "0125de89",
   "metadata": {
    "id": "0125de89",
    "outputId": "b64e1675-8b5a-4ea1-d255-3e72e87e781b"
   },
   "outputs": [
    {
     "data": {
      "text/plain": [
       "[5, 45, 342, 12, 23, 'mango', 'grapes', 'grapes', 'orange', 'mango', 'apple']"
      ]
     },
     "execution_count": 42,
     "metadata": {},
     "output_type": "execute_result"
    }
   ],
   "source": [
    "fruits = ['apple', 'mango', 'orange', 'grapes', 'grapes', 'mango', 23, 12, 342, 45, 5]\n",
    "fruits.reverse()\n",
    "fruits"
   ]
  },
  {
   "cell_type": "code",
   "execution_count": null,
   "id": "73c9db57",
   "metadata": {
    "id": "73c9db57",
    "outputId": "03831a57-bf53-45a8-c30f-853db380d55c"
   },
   "outputs": [
    {
     "data": {
      "text/plain": [
       "['apple', 'grapes', 'grapes', 'mango', 'mango', 'orange']"
      ]
     },
     "execution_count": 47,
     "metadata": {},
     "output_type": "execute_result"
    }
   ],
   "source": [
    "#reverse in ascending\n",
    "fruits = ['apple', 'mango', 'orange', 'grapes', 'grapes', 'mango']\n",
    "fruits.sort()\n",
    "fruits"
   ]
  },
  {
   "cell_type": "code",
   "execution_count": null,
   "id": "728a09a3",
   "metadata": {
    "id": "728a09a3",
    "outputId": "bc96267c-6e32-4ae2-87d4-634e1648aa26"
   },
   "outputs": [
    {
     "data": {
      "text/plain": [
       "['orange', 'mango', 'mango', 'grapes', 'grapes', 'apple']"
      ]
     },
     "execution_count": 51,
     "metadata": {},
     "output_type": "execute_result"
    }
   ],
   "source": [
    "#reverse in descending order\n",
    "fruits.sort(reverse = True)\n",
    "fruits"
   ]
  },
  {
   "cell_type": "code",
   "execution_count": null,
   "id": "4c6b4a0b",
   "metadata": {
    "id": "4c6b4a0b",
    "outputId": "e5d0e3a0-53d8-433d-8528-2c52a79426f5"
   },
   "outputs": [
    {
     "name": "stdout",
     "output_type": "stream",
     "text": [
      "6\n"
     ]
    }
   ],
   "source": [
    "print(len(fruits))"
   ]
  },
  {
   "cell_type": "code",
   "execution_count": null,
   "id": "42b23557",
   "metadata": {
    "id": "42b23557",
    "outputId": "b3066dba-7184-4e52-b811-187e038a4720"
   },
   "outputs": [
    {
     "data": {
      "text/plain": [
       "['abc', 34, True, 40, 'male']"
      ]
     },
     "execution_count": 54,
     "metadata": {},
     "output_type": "execute_result"
    }
   ],
   "source": [
    "list1 = [\"abc\", 34, True, 40, \"male\"]\n",
    "list1"
   ]
  },
  {
   "cell_type": "code",
   "execution_count": null,
   "id": "6ad5f4b7",
   "metadata": {
    "id": "6ad5f4b7",
    "outputId": "38a21649-428b-44ef-a52d-73704cc32cad"
   },
   "outputs": [
    {
     "name": "stdout",
     "output_type": "stream",
     "text": [
      "<class 'list'>\n"
     ]
    }
   ],
   "source": [
    "print(type(list1))"
   ]
  },
  {
   "cell_type": "code",
   "execution_count": null,
   "id": "91e22919",
   "metadata": {
    "id": "91e22919",
    "outputId": "4968826b-21e5-4388-e8a1-d263787c8030"
   },
   "outputs": [
    {
     "data": {
      "text/plain": [
       "[34, True, 40]"
      ]
     },
     "execution_count": 65,
     "metadata": {},
     "output_type": "execute_result"
    }
   ],
   "source": [
    "#Access list items\n",
    "list1[1]\n",
    "list1[-1]\n",
    "list1[2:5] #he search will start at index 2 (included) and end at index 5 (not included).\n",
    "list1[:3] #start se 3 tak\n",
    "list1[2:] #2 se end tak\n",
    "list1[-4:-1]"
   ]
  },
  {
   "cell_type": "code",
   "execution_count": null,
   "id": "32a2829a",
   "metadata": {
    "id": "32a2829a",
    "outputId": "12b13bd2-0cf1-428f-e031-4bfafb36e3e7"
   },
   "outputs": [
    {
     "name": "stdout",
     "output_type": "stream",
     "text": [
      "yes 34 is presenf \n"
     ]
    }
   ],
   "source": [
    "if 34 in list1:\n",
    "    print(\"yes 34 is presenf \")"
   ]
  },
  {
   "cell_type": "code",
   "execution_count": null,
   "id": "a54bc122",
   "metadata": {
    "id": "a54bc122",
    "outputId": "231f0019-3416-4560-b4c4-6e5e53e91dd4"
   },
   "outputs": [
    {
     "name": "stdout",
     "output_type": "stream",
     "text": [
      "['abc', 'blackcurrant', 'watermelon', 40, 'male']\n"
     ]
    }
   ],
   "source": [
    "#change list items\n",
    "list1[1] = \"banana\"\n",
    "list1\n",
    "\n",
    "list1[1:3] = [\"blackcurrant\", \"watermelon\"]\n",
    "print(list1)"
   ]
  },
  {
   "cell_type": "code",
   "execution_count": null,
   "id": "1fe8d7d9",
   "metadata": {
    "id": "1fe8d7d9"
   },
   "outputs": [],
   "source": [
    "input = quiz enter 2\n",
    "enter quiz name\n",
    "1) php\n",
    "2)html\n",
    "select php\n",
    "enter number of questions if enter 4\n",
    "then appear 4 questions\n"
   ]
  }
 ],
 "metadata": {
  "colab": {
   "provenance": []
  },
  "kernelspec": {
   "display_name": "Python 3 (ipykernel)",
   "language": "python",
   "name": "python3"
  },
  "language_info": {
   "codemirror_mode": {
    "name": "ipython",
    "version": 3
   },
   "file_extension": ".py",
   "mimetype": "text/x-python",
   "name": "python",
   "nbconvert_exporter": "python",
   "pygments_lexer": "ipython3",
   "version": "3.11.4"
  }
 },
 "nbformat": 4,
 "nbformat_minor": 5
}
