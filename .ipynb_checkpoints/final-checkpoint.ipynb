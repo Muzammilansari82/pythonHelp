{
 "cells": [
  {
   "cell_type": "markdown",
   "id": "377b65f6",
   "metadata": {},
   "source": [
    "## Calculator"
   ]
  },
  {
   "cell_type": "code",
   "execution_count": 7,
   "id": "fc95cdac",
   "metadata": {},
   "outputs": [
    {
     "name": "stdout",
     "output_type": "stream",
     "text": [
      "addition is:  5\n",
      "subtraction is :  -1\n",
      "Multiplication is:  6\n",
      "Division is:  0.6666666666666666\n"
     ]
    }
   ],
   "source": [
    "def calculator(num1,num2):\n",
    "    print(\"addition is: \", num1+num2)\n",
    "    print(\"subtraction is : \", num1-num2)\n",
    "    print(\"Multiplication is: \", num1*num2)\n",
    "    print(\"Division is: \",num1/num2)\n",
    "    \n",
    "calculator(2,3)"
   ]
  },
  {
   "cell_type": "markdown",
   "id": "65ef27a0",
   "metadata": {},
   "source": [
    "## flag = false"
   ]
  },
  {
   "cell_type": "code",
   "execution_count": 8,
   "id": "9c55f925",
   "metadata": {
    "scrolled": true
   },
   "outputs": [
    {
     "name": "stdout",
     "output_type": "stream",
     "text": [
      "None\n",
      "35\n",
      "30\n",
      "None\n"
     ]
    }
   ],
   "source": [
    "def add_variables(x, y, z=None, flag=False):\n",
    "    if flag:\n",
    "        if z is None:\n",
    "            return x + y\n",
    "        else:\n",
    "            return x + y + z\n",
    "    else:\n",
    "        return None\n",
    "\n",
    "# Example 1: flag is False, so the function returns None\n",
    "result = add_variables(10, 20)\n",
    "print(result)  # Output: None\n",
    "\n",
    "# Example 2: flag is True, and z is provided, so the function returns the sum of x, y, and z\n",
    "result = add_variables(10, 20, 5, flag=True)\n",
    "print(result)  # Output: 35\n",
    "\n",
    "# Example 3: flag is True, and z is not provided, so the function returns the sum of x and y\n",
    "result = add_variables(10, 20, flag=True)\n",
    "print(result)  # Output: 30\n",
    "\n",
    "# Example 4: flag is False, so the function returns None\n",
    "result = add_variables(5, 10, flag=False)\n",
    "print(result)  # Output: None\n"
   ]
  },
  {
   "cell_type": "markdown",
   "id": "b31d4092",
   "metadata": {},
   "source": [
    "## list append"
   ]
  },
  {
   "cell_type": "code",
   "execution_count": 23,
   "id": "5e925fa9",
   "metadata": {},
   "outputs": [
    {
     "data": {
      "text/plain": [
       "5"
      ]
     },
     "execution_count": 23,
     "metadata": {},
     "output_type": "execute_result"
    }
   ],
   "source": [
    "list1= ['savera','ansari','22','Bscs']\n",
    "list1\n",
    "list1.append(3.3)\n",
    "list1\n",
    "type(list1)\n",
    "len(list1)\n"
   ]
  },
  {
   "cell_type": "markdown",
   "id": "a4c9c4e6",
   "metadata": {},
   "source": [
    "## list through for and while"
   ]
  },
  {
   "cell_type": "code",
   "execution_count": 24,
   "id": "b2a70250",
   "metadata": {},
   "outputs": [
    {
     "name": "stdout",
     "output_type": "stream",
     "text": [
      "['apple', 'banana', 'mango']\n"
     ]
    }
   ],
   "source": [
    "fruits = [\"apple\", \"banana\", \"cherry\", \"kiwi\", \"mango\"]\n",
    "newlist = []\n",
    "\n",
    "for x in fruits:\n",
    "    if \"a\" in x:\n",
    "        newlist.append(x)\n",
    "\n",
    "print(newlist)"
   ]
  },
  {
   "cell_type": "code",
   "execution_count": 25,
   "id": "9a42dcef",
   "metadata": {},
   "outputs": [
    {
     "name": "stdout",
     "output_type": "stream",
     "text": [
      "1\n",
      "2\n",
      "3\n",
      "4\n",
      "5\n"
     ]
    }
   ],
   "source": [
    "my_list = [1, 2, 3, 4, 5]\n",
    "\n",
    "# Initialize an index variable\n",
    "index = 0\n",
    "\n",
    "# Use a while loop to iterate through the list\n",
    "while index < len(my_list):\n",
    "    item = my_list[index]\n",
    "    print(item)\n",
    "    \n",
    "    # Increment the index\n",
    "    index += 1\n"
   ]
  },
  {
   "cell_type": "markdown",
   "id": "8513b0a9",
   "metadata": {},
   "source": [
    "## copy list items"
   ]
  },
  {
   "cell_type": "code",
   "execution_count": 48,
   "id": "f22ab5e8",
   "metadata": {},
   "outputs": [
    {
     "name": "stdout",
     "output_type": "stream",
     "text": [
      "[0, 1, 2, 3, 4, 5, 6, 7, 8, 9, 10, 11, 12, 13, 14, 15, 16, 17, 18, 19, 20, 21, 22, 23, 24, 25, 26, 27, 28, 29, 30, 31, 32, 33, 34, 35, 36, 37, 38, 39, 40, 41, 42, 43, 44, 45, 46, 47, 48, 49]\n",
      "[0, 1, 2, 3, 4, 5, 6, 7, 8, 9, 10, 11, 12, 13, 14, 15, 16, 17, 18, 19, 20, 21, 22, 23, 24, 25, 26, 27, 28, 29, 30, 31, 32, 33, 34, 35, 36, 37, 38, 39, 40, 41, 42, 43, 44, 45, 46, 47, 48, 49]\n"
     ]
    }
   ],
   "source": [
    "# Create two lists with similar items\n",
    "list1 = []\n",
    "for i in range(50):\n",
    "    list1.append(i)\n",
    "print(list1)\n",
    "list2 = list1[:]\n",
    "print(list2)"
   ]
  },
  {
   "cell_type": "code",
   "execution_count": 49,
   "id": "6e3956bc",
   "metadata": {},
   "outputs": [
    {
     "name": "stdout",
     "output_type": "stream",
     "text": [
      "Combined List: [0, 1, 2, 3, 4, 5, 6, 7, 8, 9, 10, 11, 12, 13, 14, 15, 16, 17, 18, 19, 20, 21, 22, 23, 24, 25, 26, 27, 28, 29, 30, 31, 32, 33, 34, 35, 36, 37, 38, 39, 40, 41, 42, 43, 44, 45, 46, 47, 48, 49, 0, 1, 2, 3, 4, 5, 6, 7, 8, 9, 10, 11, 12, 13, 14, 15, 16, 17, 18, 19, 20, 21, 22, 23, 24, 25, 26, 27, 28, 29, 30, 31, 32, 33, 34, 35, 36, 37, 38, 39, 40, 41, 42, 43, 44, 45, 46, 47, 48, 49]\n",
      "Total Length: 100\n"
     ]
    }
   ],
   "source": [
    "# Combine the two lists into one\n",
    "combined_list = list1 + list2\n",
    "\n",
    "# Check the length of the combined list\n",
    "total_length = len(combined_list)\n",
    "\n",
    "# Print the combined list and its total length\n",
    "print(\"Combined List:\", combined_list)\n",
    "print(\"Total Length:\", total_length)\n"
   ]
  },
  {
   "cell_type": "markdown",
   "id": "98c61fd7",
   "metadata": {},
   "source": [
    "## Dictionary"
   ]
  },
  {
   "cell_type": "code",
   "execution_count": 54,
   "id": "5b91cd05",
   "metadata": {},
   "outputs": [
    {
     "name": "stdout",
     "output_type": "stream",
     "text": [
      "key1 value1\n",
      "key2 value2\n",
      "key3 value3\n",
      "key4 value4\n",
      "key5 value5\n"
     ]
    }
   ],
   "source": [
    "dictionary = {\n",
    "    \"key1\": \"value1\",\n",
    "    \"key2\": \"value2\",\n",
    "    \"key3\": \"value3\",\n",
    "    \"key4\": \"value4\",\n",
    "    \"key5\": \"value5\",\n",
    "}\n",
    "\n",
    "for key, value in dictionary.items():\n",
    "    print(key, value)\n"
   ]
  },
  {
   "cell_type": "markdown",
   "id": "8ddfa1e1",
   "metadata": {},
   "source": [
    "## Create two variables with similar names"
   ]
  },
  {
   "cell_type": "code",
   "execution_count": 53,
   "id": "a4b9b39f",
   "metadata": {},
   "outputs": [
    {
     "name": "stdout",
     "output_type": "stream",
     "text": [
      "First Name: Savera\n",
      "Second Name: Ansari\n"
     ]
    }
   ],
   "source": [
    "# Create two variables with similar names\n",
    "variable1 = \"Savera Ansari\"\n",
    "variable2 = \"Savera Ansari\"\n",
    "\n",
    "# Slice the first name from variable1 and the second name from variable2\n",
    "first_name = variable1[:6]\n",
    "second_name = variable2[7:]\n",
    "\n",
    "# Print the output\n",
    "print(\"First Name:\", first_name)\n",
    "print(\"Second Name:\", second_name)\n"
   ]
  },
  {
   "cell_type": "markdown",
   "id": "d116b998",
   "metadata": {},
   "source": [
    "## DateTime"
   ]
  },
  {
   "cell_type": "code",
   "execution_count": 55,
   "id": "2268f829",
   "metadata": {},
   "outputs": [
    {
     "name": "stdout",
     "output_type": "stream",
     "text": [
      "John Doe\n",
      "7492\n",
      "2003-03-08\n",
      "2002-11-28\n"
     ]
    }
   ],
   "source": [
    "import datetime\n",
    "\n",
    "class Person:\n",
    "    def __init__(self, name, birth_date):\n",
    "        self.name = name\n",
    "        self.birth_date = birth_date\n",
    "\n",
    "    def get_age(self):\n",
    "        return (datetime.date.today() - self.birth_date).days\n",
    "\n",
    "    def get_date_of_birth(self):\n",
    "        return self.birth_date\n",
    "\n",
    "    def get_date_100_days_ago(self):\n",
    "        return self.birth_date - datetime.timedelta(days=100)\n",
    "\n",
    "\n",
    "person = Person(\"John Doe\", datetime.date(2003, 3, 8))\n",
    "\n",
    "print(person.name)\n",
    "print(person.get_age())\n",
    "print(person.get_date_of_birth())\n",
    "print(person.get_date_100_days_ago())\n",
    "\n"
   ]
  },
  {
   "cell_type": "code",
   "execution_count": 62,
   "id": "a3336f55",
   "metadata": {},
   "outputs": [
    {
     "name": "stdout",
     "output_type": "stream",
     "text": [
      "Ali lives in Hayatabad\n"
     ]
    }
   ],
   "source": [
    "class Person:\n",
    "    def __init__(self, name, address):\n",
    "        self.name = name\n",
    "        self.address = address\n",
    "\n",
    "    def print_details(self):\n",
    "        print(f\"{self.name} lives in {self.address}\")\n",
    "\n",
    "\n",
    "person = Person(\"Ali\", \"Hayatabad\")\n",
    "\n",
    "person.print_details()\n"
   ]
  },
  {
   "cell_type": "markdown",
   "id": "4a547afc",
   "metadata": {},
   "source": [
    "## list maping and lambda"
   ]
  },
  {
   "cell_type": "code",
   "execution_count": 59,
   "id": "15c5877b",
   "metadata": {},
   "outputs": [
    {
     "name": "stdout",
     "output_type": "stream",
     "text": [
      "['a', 'bb', 'ccc', 'dddd', 'eeeee']\n"
     ]
    }
   ],
   "source": [
    "list1 = [1, 2, 3, 4, 5]\n",
    "list2 = [\"a\", \"b\", \"c\", \"d\", \"e\"]\n",
    "\n",
    "mapped_list = map(lambda x, y: x * y, list1, list2)\n",
    "\n",
    "print(list(mapped_list))\n"
   ]
  },
  {
   "cell_type": "code",
   "execution_count": 60,
   "id": "c319707b",
   "metadata": {},
   "outputs": [
    {
     "name": "stdout",
     "output_type": "stream",
     "text": [
      "8\n"
     ]
    }
   ],
   "source": [
    "# lambda to add 2 numbers\n",
    "add = lambda x, y: x + y\n",
    "\n",
    "# Usage\n",
    "result = add(5, 3)\n",
    "print(result)  # Output: 8\n"
   ]
  },
  {
   "cell_type": "code",
   "execution_count": 61,
   "id": "5bcedaf3",
   "metadata": {},
   "outputs": [
    {
     "name": "stdout",
     "output_type": "stream",
     "text": [
      "[7, 9, 11, 13, 15]\n"
     ]
    }
   ],
   "source": [
    "# Create two lists and map one on other. Use lambda function to add two variables.\n",
    "list1 = [1, 2, 3, 4, 5]\n",
    "list2 = [6, 7, 8, 9, 10]\n",
    "\n",
    "mapped_list = map(lambda x, y: x + y, list1, list2)\n",
    "\n",
    "print(list(mapped_list))\n"
   ]
  },
  {
   "cell_type": "code",
   "execution_count": null,
   "id": "b4815f86",
   "metadata": {},
   "outputs": [],
   "source": []
  },
  {
   "cell_type": "code",
   "execution_count": null,
   "id": "2fc0a916",
   "metadata": {},
   "outputs": [],
   "source": [
    "# Create a horizontal stack and repeat it 3 times for same values."
   ]
  }
 ],
 "metadata": {
  "kernelspec": {
   "display_name": "Python 3 (ipykernel)",
   "language": "python",
   "name": "python3"
  },
  "language_info": {
   "codemirror_mode": {
    "name": "ipython",
    "version": 3
   },
   "file_extension": ".py",
   "mimetype": "text/x-python",
   "name": "python",
   "nbconvert_exporter": "python",
   "pygments_lexer": "ipython3",
   "version": "3.11.4"
  }
 },
 "nbformat": 4,
 "nbformat_minor": 5
}
