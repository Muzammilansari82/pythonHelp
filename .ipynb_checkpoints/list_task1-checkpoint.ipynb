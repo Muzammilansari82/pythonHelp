{
 "cells": [
  {
   "cell_type": "markdown",
   "metadata": {},
   "source": [
    "# Swapping"
   ]
  },
  {
   "cell_type": "code",
   "execution_count": 1,
   "metadata": {
    "id": "Oiiz5PGHROos"
   },
   "outputs": [
    {
     "name": "stdout",
     "output_type": "stream",
     "text": [
      "5\n",
      "1\n"
     ]
    }
   ],
   "source": [
    "#Swapping with external Variable\n",
    "\n",
    "a = 1\n",
    "b =5\n",
    "\n",
    "# c= b\n",
    "# b = a\n",
    "# a = c\n",
    "\n",
    "# print(a)\n",
    "# print(b)\n",
    "# sWAPPING without External variable\n",
    "a,b = b,a\n",
    "\n",
    "print(a)\n",
    "print(b)"
   ]
  },
  {
   "cell_type": "markdown",
   "metadata": {},
   "source": []
  },
  {
   "cell_type": "code",
   "execution_count": null,
   "metadata": {
    "id": "PXd1DNS9RP8q"
   },
   "outputs": [],
   "source": [
    "computer = 90.9\n",
    "science = 80.34\n",
    "maths = 70\n",
    "\n",
    "obtain_Marks= computer+science+maths\n",
    "total_Marks = 300\n",
    "Percentage = (obtain_Marks/total_Marks) *100\n",
    "sqrt = obtain_Marks **0.5\n",
    "semi_triangel= ((computer+science+maths)/2)\n",
    "area_triangle = (semi_triangel*(semi_triangel-computer)*(semi_triangel-science)*(semi_triangel-maths))\n",
    "Quard =((science**2)-4*computer*maths)\n",
    "Quardratic1 = -(science +(Quard**0.5))/2*computer\n",
    "\n",
    "\n",
    "\n",
    "print(\"Obtain marks is:  \",obtain_Marks)\n",
    "print(\"Total Marks:   \",total_Marks)\n",
    "print(\"Total Percentage is:  \",Percentage ,\"%\")\n",
    "print(\"The Square of obtain marks \" ,sqrt)\n",
    "print(\"Area of Triangle \",area_triangle)\n",
    "print(\"The Quard of Quadratic Equation is \",Quard)\n",
    "print(\"The Value of Quadratic Equation is \",Quardratic1)"
   ]
  },
  {
   "cell_type": "code",
   "execution_count": null,
   "metadata": {
    "id": "Lhk3Y3g1RUWq"
   },
   "outputs": [],
   "source": [
    "Swapping with external Variable\n",
    "\n",
    "a = 1\n",
    "b =5\n",
    "\n",
    "# c= b\n",
    "# b = a\n",
    "# a = c\n",
    "\n",
    "# print(a)\n",
    "# print(b)\n",
    "# sWAPPING without External variable\n",
    "# a,b = b,a\n",
    "\n",
    "# print(a)\n",
    "# print(b)\n",
    "\n",
    "# #random function\n",
    "\n",
    "# import random\n",
    "# print(random.randrange(0,8))\n",
    "\n",
    "\n",
    "\n",
    "#Data Type\n",
    "\n",
    "# num1 = 3\n",
    "# num2 = 3.4564\n",
    "# num3 = 1+3j\n",
    "# print(num1,\"This is a  \",type(num1))\n",
    "# print(num2,\"This is a  \",type(num2))\n",
    "# print(num3,\"This is a  \",type(num3))\n",
    "\n",
    "# List data type ordered by store different types of data\n",
    "\n",
    "languages = [\"C\",\"C++\",\"Java\",\"Python\"]\n",
    "print(languages)\n",
    "print(type(languages))\n",
    "\n",
    "languages.append(\"savera\")# use append for adding new ferature one feature\n",
    "# if we want to add more features used extend\n",
    "\n",
    "languages.extend\n",
    "print(languages)\n",
    "\n",
    "# a = [12,\"Python\",\"asad\",123]\n",
    "# print(a)\n",
    "\n",
    "# tuples is immutable can'nt be modify\n",
    "# languages = (\"C\",123,\"Java\",\"Python\")\n",
    "# print(languages)\n",
    "# print(type(languages))\n",
    "# print(languages[2])\n",
    "# languages.append(\"savera\")#  tuple cannt use append for adding new feratures\n",
    "# print(languages)\n",
    "\n",
    "# set data type\n",
    "# languages = {12,34,65,76,13}\n",
    "\n",
    "# print(languages)\n",
    "# print(type(languages))\n",
    "\n",
    "languages = {12,34,65,76,13}\n",
    "language = {234,54,6,4,12}\n",
    "languages.update(language)\n",
    "print(languages)\n",
    "print(type(languages))\n",
    "\n"
   ]
  },
  {
   "cell_type": "code",
   "execution_count": null,
   "metadata": {
    "id": "oRAtSCt6RUQ3"
   },
   "outputs": [],
   "source": [
    "computer = 89\n",
    "science = 80.8\n",
    "maths = 30\n",
    "\n",
    "# if computer<=34 or science<=34 or maths<=34:\n",
    "#     print(\"you are failed\")\n",
    "# # elif computer>=34 or science>=34 or maths>=34:\n",
    "# else:\n",
    "#     print(\"you are pass\")\n",
    "\n",
    "\n",
    "\n",
    "\n",
    "if computer<=34:\n",
    "    print(\"You Are fail in Computer\")\n",
    "if science<=34:\n",
    "    print(\"You Are fail in science\")\n",
    "if maths<=34:\n",
    "    print(\"You Are fail in maths\")\n",
    "else:\n",
    "    print(\"Congratulation You clear in all subjects\")\n",
    "\n",
    "\n",
    "\n",
    "obtain_Marks= computer+science+maths\n",
    "total_Marks = 300\n",
    "Percentage = (obtain_Marks/total_Marks ) *100\n",
    "\n",
    "print(\"Obtain marks is:  \",obtain_Marks)\n",
    "print(\"Total Marks:   \",total_Marks)\n",
    "print(\"Total Percentage is:  \",Percentage ,\"%\")\n",
    "\n",
    "\n",
    "\n",
    "if Percentage>=80:\n",
    "    print(\"Congratulations you got 'A' Grade\")\n",
    "elif Percentage>=70:\n",
    "    print(\"Congratulations you got 'B' Grade\")\n",
    "elif Percentage>=60:\n",
    "     print(\" you got 'C' Grade\")\n",
    "else:\n",
    "    print(\"You are fail\")\n",
    "\n",
    "\n",
    "\n",
    "# obtain_Marks= computer+science+maths\n",
    "# total_Marks = 300\n",
    "# Percentage = (obtain_Marks/total_Marks) *100\n",
    "\n",
    "\n",
    "# sqrt = obtain_Marks **0.5\n",
    "# semi_triangel= ((computer+science+maths)/2)\n",
    "# area_triangle = (semi_triangel*(semi_triangel-computer)*(semi_triangel-science)*(semi_triangel-maths))\n",
    "# Quard =((science**2)-4*computer*maths)\n",
    "# Quardratic1 = -(science +(Quard**0.5))/2*computer\n",
    "\n",
    "\n",
    "\n",
    "# print(\"Obtain marks is:  \",obtain_Marks)\n",
    "# print(\"Total Marks:   \",total_Marks)\n",
    "# print(\"Total Percentage is:  \",Percentage ,\"%\")\n",
    "\n",
    "\n",
    "\n",
    "\n",
    "# if Percentage>=80:\n",
    "#     print(\"Congratulations you got 'A' Grade\")\n",
    "# elif Percentage>=70:\n",
    "#     print(\"Congratulations you got 'B' Grade\")\n",
    "# elif Percentage>=60:\n",
    "#      print(\" you got 'C' Grade\")\n",
    "# else:\n",
    "#     print(\"You are fail\")\n",
    "\n",
    "\n",
    "\n",
    "# if Percentage>=80 or Percentage<70:\n",
    "#     print(\"Congratulations you got 'A' Grade\")\n",
    "# if Percentage>=70 or Percentage<60:\n",
    "#     print(\"Congratulations you got 'B' Grade\")\n",
    "# if  Percentage>=60\n",
    "\n",
    "\n",
    "# print(\"The Square of obtain marks \" ,sqrt)\n",
    "# print(\"Area of Triangle \",area_triangle)\n",
    "# print(\"The Quard of Quadratic Equation is \",Quard)\n",
    "# print(\"The Value of Quadratic Equation is \",Quardratic1)"
   ]
  },
  {
   "cell_type": "code",
   "execution_count": null,
   "metadata": {
    "id": "gO1CnoSvRijm"
   },
   "outputs": [],
   "source": [
    "# a = 9\n",
    "# b = 10\n",
    "# c = 8\n",
    "# if a<b:\n",
    "#     print(\"a is lesser thab b\")\n",
    "#     if b<c:\n",
    "#         print(\"b is lesser than c\")\n",
    "#     else:\n",
    "#         print(\"b is greater than c\")\n",
    "# else:\n",
    "#     print(\" a is greater\")\n",
    "\n",
    "print(\"a is lesser\") if a<b: else: print(\"a is greater\")"
   ]
  },
  {
   "cell_type": "markdown",
   "metadata": {
    "id": "_L5V2_VpSAb6"
   },
   "source": [
    "ASSIGNMENT 1\n",
    "\n"
   ]
  },
  {
   "cell_type": "code",
   "execution_count": null,
   "metadata": {
    "id": "k25HKfT1RwF_"
   },
   "outputs": [],
   "source": [
    "# a = 9\n",
    "# b = 10\n",
    "# c = 8\n",
    "# if a<b:\n",
    "#     print(\"a is lesser thab b\")\n",
    "#     if b<c:\n",
    "#         print(\"b is lesser than c\")\n",
    "#     else:\n",
    "#         print(\"b is greater than c\")\n",
    "# else:\n",
    "#     print(\" a is greater\")\n",
    "\n",
    "print(\"a is lesser\") if a<b: else: print(\"a is greater\")"
   ]
  },
  {
   "cell_type": "code",
   "execution_count": null,
   "metadata": {
    "id": "HhGgTcdZRwCw"
   },
   "outputs": [],
   "source": [
    "location = '\"Massachusetts\"'\n",
    "pay = 50000\n",
    "\n",
    "if location == '\"Massachusetts\"' and pay == 50000:\n",
    "\n",
    "    print('location = ',location,' and pay = ',pay)\n",
    "else:\n",
    "    print(\"Not Matched\")\n",
    "\n",
    "location = '\"Iowa\"'\n",
    "pay = 50000\n",
    "\n",
    "if location == '\"Iowa\"' and pay == 50000:\n",
    "    print('location = ',location,' and pay = ',pay)\n",
    "else:\n",
    "    print(\"Not Matched\")\n",
    "\n",
    "location = '\"California\"'\n",
    "pay = 50000\n",
    "\n",
    "\n",
    "if location == '\"California\"' and pay == 50000:\n",
    "    print('location = ',location,' and pay = ',pay)\n",
    "else:\n",
    "    print(\"Not Matched\")\n",
    "\n",
    "location = '\"U.S.S. Enterprise\"'\n",
    "pay = 1\n",
    "\n",
    "if location == '\"U.S.S. Enterprise\"' and pay == 1:\n",
    "    print('location = ',location,' and pay = ',pay)\n",
    "else:\n",
    "    print(\"Not Matched\")\n",
    "\n",
    "location = '\"California\"'\n",
    "pay = 25000\n",
    "\n",
    "if location == '\"California\"' and pay == 25000:\n",
    "    print('location = ',location,' and pay = ',pay)\n",
    "else:\n",
    "    print(\"Not Matched\")"
   ]
  },
  {
   "cell_type": "code",
   "execution_count": null,
   "metadata": {
    "id": "DTNsln9PRv_T"
   },
   "outputs": [],
   "source": [
    "List"
   ]
  },
  {
   "cell_type": "code",
   "execution_count": null,
   "metadata": {
    "id": "nyaqDZBaRv8Z"
   },
   "outputs": [],
   "source": [
    "QuizTASk.ipynb"
   ]
  },
  {
   "cell_type": "code",
   "execution_count": null,
   "metadata": {
    "id": "ExpidV-nRv5C"
   },
   "outputs": [],
   "source": [
    "While break Continue\n"
   ]
  },
  {
   "cell_type": "code",
   "execution_count": null,
   "metadata": {
    "id": "qE01LQrjRv2D"
   },
   "outputs": [],
   "source": [
    "Dictionary"
   ]
  },
  {
   "cell_type": "code",
   "execution_count": null,
   "metadata": {
    "id": "CbYYTKnFRvzE"
   },
   "outputs": [],
   "source": [
    "Dic TAsk\n"
   ]
  },
  {
   "cell_type": "code",
   "execution_count": null,
   "metadata": {
    "id": "qn7NjzkrRvv8"
   },
   "outputs": [],
   "source": [
    "String\n"
   ]
  },
  {
   "cell_type": "code",
   "execution_count": null,
   "metadata": {
    "id": "gUSaxTJbUyVw"
   },
   "outputs": [],
   "source": [
    "Functions\n",
    "\n",
    "https://docs.python.org/3/tutorial/classes.html#:~:text=Classes%20provide%20a%20means%20of,it%20for%20maintaining%20its%20state\n"
   ]
  },
  {
   "cell_type": "code",
   "execution_count": null,
   "metadata": {
    "id": "AZ10YkcfUyYa"
   },
   "outputs": [],
   "source": [
    "oop"
   ]
  },
  {
   "cell_type": "code",
   "execution_count": null,
   "metadata": {
    "id": "Vc8SlfPZUybX"
   },
   "outputs": [],
   "source": [
    "oops"
   ]
  },
  {
   "cell_type": "code",
   "execution_count": null,
   "metadata": {
    "id": "e6bUj8umUyeM"
   },
   "outputs": [],
   "source": [
    "numpy\n"
   ]
  },
  {
   "cell_type": "code",
   "execution_count": null,
   "metadata": {
    "id": "MMris9ZzUyiA"
   },
   "outputs": [],
   "source": []
  }
 ],
 "metadata": {
  "colab": {
   "provenance": []
  },
  "kernelspec": {
   "display_name": "Python 3 (ipykernel)",
   "language": "python",
   "name": "python3"
  },
  "language_info": {
   "codemirror_mode": {
    "name": "ipython",
    "version": 3
   },
   "file_extension": ".py",
   "mimetype": "text/x-python",
   "name": "python",
   "nbconvert_exporter": "python",
   "pygments_lexer": "ipython3",
   "version": "3.11.4"
  }
 },
 "nbformat": 4,
 "nbformat_minor": 1
}
