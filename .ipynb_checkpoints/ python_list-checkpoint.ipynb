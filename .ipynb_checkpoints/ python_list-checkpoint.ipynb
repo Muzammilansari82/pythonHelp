{
 "cells": [
  {
   "cell_type": "markdown",
   "metadata": {
    "id": "EeP4mJPtFmbL"
   },
   "source": [
    "# **List**"
   ]
  },
  {
   "cell_type": "markdown",
   "metadata": {
    "id": "ek_ZLSKvPJNX"
   },
   "source": [
    "# **Functions**\n",
    "\n",
    "\n",
    "append()\t Adds an element at the end of the list\n",
    "\n",
    "clear()\tRemoves all the elements from the list\n",
    "\n",
    "copy()\tReturns a copy of the list\n",
    "\n",
    "count()\tReturns the number of elements with the specified value\n",
    "\n",
    "extend()\tAdd the elements of a list (or any iterable), to the end of the current list\n",
    "\n",
    "index()\tReturns the index of the first element with the specified value\n",
    "\n",
    "insert()\tAdds an element at the specified position\n",
    "\n",
    "pop()\tRemoves the element at the specified position\n",
    "\n",
    "remove()\tRemoves the item with the specified value\n",
    "\n",
    "reverse()\tReverses the order of the list\n",
    "\n",
    "sort()\tSorts the list\n",
    "\n",
    "len()\n",
    "\n",
    "type()"
   ]
  },
  {
   "cell_type": "markdown",
   "metadata": {
    "id": "CJVsL_NMQdN4"
   },
   "source": [
    "**Make a List and Use its Functions**"
   ]
  },
  {
   "cell_type": "code",
   "execution_count": null,
   "metadata": {
    "id": "YZ_waumnFkyQ"
   },
   "outputs": [],
   "source": []
  },
  {
   "cell_type": "code",
   "execution_count": null,
   "metadata": {
    "id": "aCLDsiJ_PNz4"
   },
   "outputs": [],
   "source": []
  },
  {
   "cell_type": "code",
   "execution_count": null,
   "metadata": {
    "id": "BwmlLh8HFwzU"
   },
   "outputs": [],
   "source": []
  },
  {
   "cell_type": "markdown",
   "metadata": {
    "id": "N6jUZpjpGWlh"
   },
   "source": [
    "**List Items**\n",
    "\n",
    "List items are **ordered**, **changeable,** and a**llow duplicate** values.\n",
    "\n",
    "List items are **indexed**, the first item has index [0], the second item has index [1] etc."
   ]
  },
  {
   "cell_type": "code",
   "execution_count": 1,
   "metadata": {
    "id": "VrFgf1w7GZ_l"
   },
   "outputs": [
    {
     "data": {
      "text/plain": [
       "['abc', 34, True, 40, 'male']"
      ]
     },
     "execution_count": 1,
     "metadata": {},
     "output_type": "execute_result"
    }
   ],
   "source": [
    "# Can work with different datatypes\n",
    "list1 = [\"abc\", 34, True, 40, \"male\"]\n",
    "list1"
   ]
  },
  {
   "cell_type": "code",
   "execution_count": 5,
   "metadata": {},
   "outputs": [
    {
     "data": {
      "text/plain": [
       "34"
      ]
     },
     "execution_count": 5,
     "metadata": {},
     "output_type": "execute_result"
    }
   ],
   "source": [
    "list1[1]"
   ]
  },
  {
   "cell_type": "code",
   "execution_count": null,
   "metadata": {},
   "outputs": [],
   "source": [
    "list1[1:]"
   ]
  },
  {
   "cell_type": "code",
   "execution_count": 4,
   "metadata": {
    "id": "1eExtyV9HBYf"
   },
   "outputs": [
    {
     "data": {
      "text/plain": [
       "['a', 'f', 'sf']"
      ]
     },
     "execution_count": 4,
     "metadata": {},
     "output_type": "execute_result"
    }
   ],
   "source": [
    "# using list() constructor make a list\n",
    "a = list((\"a\",\"f\",\"sf\"))\n",
    "a"
   ]
  },
  {
   "cell_type": "code",
   "execution_count": null,
   "metadata": {
    "id": "aAtFbWcWHNnt"
   },
   "outputs": [],
   "source": []
  },
  {
   "cell_type": "markdown",
   "metadata": {
    "id": "Kq4t-3AUHYSQ"
   },
   "source": [
    "# **Change List Items**"
   ]
  },
  {
   "cell_type": "code",
   "execution_count": null,
   "metadata": {
    "id": "-D-88emaRa4G"
   },
   "outputs": [],
   "source": []
  },
  {
   "cell_type": "markdown",
   "metadata": {
    "id": "uwseXvAqIKpQ"
   },
   "source": [
    "change item\n",
    "change item values in range\n"
   ]
  },
  {
   "cell_type": "code",
   "execution_count": null,
   "metadata": {
    "id": "pBfi1MvgRgyc"
   },
   "outputs": [],
   "source": []
  },
  {
   "cell_type": "code",
   "execution_count": null,
   "metadata": {
    "id": "ad8lbEkuRhSP"
   },
   "outputs": [],
   "source": []
  },
  {
   "cell_type": "markdown",
   "metadata": {
    "id": "E30CdU5OIefo"
   },
   "source": [
    "# **Add List Items**\n"
   ]
  },
  {
   "cell_type": "markdown",
   "metadata": {
    "id": "XAE5NYFsIjPv"
   },
   "source": [
    "append function\n",
    "\n",
    "insert\n",
    "\n",
    "extend (with list,one word,with set or tuple or dic)\n",
    "\n"
   ]
  },
  {
   "cell_type": "code",
   "execution_count": null,
   "metadata": {
    "id": "10VKYhMbRkQI"
   },
   "outputs": [],
   "source": []
  },
  {
   "cell_type": "code",
   "execution_count": null,
   "metadata": {
    "id": "CjZqZ3g9Rkkh"
   },
   "outputs": [],
   "source": []
  },
  {
   "cell_type": "code",
   "execution_count": null,
   "metadata": {
    "id": "tzS8uXjtRkhD"
   },
   "outputs": [],
   "source": []
  },
  {
   "cell_type": "markdown",
   "metadata": {
    "id": "pJYirWJCPv1V"
   },
   "source": [
    "#Access list items\n",
    "list1[1]\n",
    "\n",
    "list1[-1]\n",
    "\n",
    "list1[2:5] #he search will start at index 2 (included) and end at index 5 (not included).\n",
    "\n",
    "list1[:3] #start se 3 tak\n",
    "\n",
    "list1[2:] #2 se end tak\n",
    "\n",
    "list1[-4:-1]"
   ]
  },
  {
   "cell_type": "code",
   "execution_count": null,
   "metadata": {
    "id": "t67zbkfePvHk"
   },
   "outputs": [],
   "source": []
  },
  {
   "cell_type": "markdown",
   "metadata": {
    "id": "c-_SKzQLJDPO"
   },
   "source": [
    "# **Remove**"
   ]
  },
  {
   "cell_type": "markdown",
   "metadata": {
    "id": "zDohVkLfJGD8"
   },
   "source": [
    "remove\n",
    "\n",
    "pop\n",
    "\n",
    "del\n",
    "\n",
    "clear\n"
   ]
  },
  {
   "cell_type": "code",
   "execution_count": null,
   "metadata": {
    "id": "MVu6HrDgRsjj"
   },
   "outputs": [],
   "source": []
  },
  {
   "cell_type": "markdown",
   "metadata": {
    "id": "w9rax9zRJZ1w"
   },
   "source": [
    "# **loop**\n",
    "\n",
    "for with or wo index\n",
    "while\n"
   ]
  },
  {
   "cell_type": "code",
   "execution_count": null,
   "metadata": {
    "id": "84AEiVS2Ru8f"
   },
   "outputs": [],
   "source": []
  },
  {
   "cell_type": "code",
   "execution_count": null,
   "metadata": {
    "id": "InJVKFQoRu5K"
   },
   "outputs": [],
   "source": []
  },
  {
   "cell_type": "markdown",
   "metadata": {
    "id": "E7wCUgUkJuCY"
   },
   "source": [
    "# List **Comprehension**\n",
    "List Comprehension offers the shortest syntax for looping through lists:\n",
    "\n",
    "A short hand for loop that will print all items in a list:\n",
    "\n",
    "**Syntax**\n",
    "newlist = [expression for item in iterable if condition == True]\n"
   ]
  },
  {
   "cell_type": "markdown",
   "metadata": {
    "id": "WAUfsmH3R8R9"
   },
   "source": [
    "### **Syntax **\n",
    "newlist = [expression for item in iterable if condition == True]"
   ]
  },
  {
   "cell_type": "code",
   "execution_count": null,
   "metadata": {
    "id": "YyeeiOj1R5s1"
   },
   "outputs": [],
   "source": [
    "thislist = [\"apple\", \"banana\", \"cherry\"]\n",
    "[print(x) for x in thislist]"
   ]
  },
  {
   "cell_type": "code",
   "execution_count": null,
   "metadata": {
    "id": "4rlUGTj2KPwA"
   },
   "outputs": [],
   "source": [
    "# Based on a list of fruits, you want a new list, containing only the fruits with the letter \"a\" in the name.\n",
    "\n",
    "# Without list comprehension you will have to write a for statement with a conditional test inside:\n",
    "\n",
    "fruits = [\"apple\", \"banana\", \"cherry\", \"kiwi\", \"mango\"]\n",
    "newlist = []\n",
    "\n",
    "for x in fruits:\n",
    "  if \"a\" in x:\n",
    "    newlist.append(x)\n",
    "\n",
    "print(newlist)"
   ]
  },
  {
   "cell_type": "markdown",
   "metadata": {
    "id": "yB8gx9a4KX9g"
   },
   "source": [
    "With list comprehension you can do all that with only one line of code"
   ]
  },
  {
   "cell_type": "code",
   "execution_count": null,
   "metadata": {
    "id": "s8_tn_Z5KbE-"
   },
   "outputs": [],
   "source": [
    "fruits = [\"apple\", \"banana\", \"cherry\", \"kiwi\", \"mango\"]\n",
    "\n",
    "newlist = [x for x in fruits if \"a\" in x]\n",
    "\n",
    "print(newlist)"
   ]
  },
  {
   "cell_type": "markdown",
   "metadata": {
    "id": "LKR0UQHPKrm8"
   },
   "source": [
    "Condition\n",
    "The condition is like a filter that only accepts the items that valuate to True."
   ]
  },
  {
   "cell_type": "code",
   "execution_count": null,
   "metadata": {
    "id": "p8y0wBD-KdgR"
   },
   "outputs": [],
   "source": [
    "# Only accept items that are not \"apple\":\n",
    "newlist = [x for x in fruits if x != \"apple\"]"
   ]
  },
  {
   "cell_type": "markdown",
   "metadata": {
    "id": "hqEc4uKEK4BM"
   },
   "source": [
    "The condition is optional and can be omitted:\n",
    "\n",
    "Example\n",
    "With no if statement:"
   ]
  },
  {
   "cell_type": "code",
   "execution_count": null,
   "metadata": {
    "id": "k9Z_qPgMKx_p"
   },
   "outputs": [],
   "source": [
    "newlist = [x for x in fruits]"
   ]
  },
  {
   "cell_type": "markdown",
   "metadata": {
    "id": "SsFEKbw3K6ho"
   },
   "source": [
    "**Iterable**"
   ]
  },
  {
   "cell_type": "code",
   "execution_count": null,
   "metadata": {
    "id": "zBJ6WDXlLCqi"
   },
   "outputs": [],
   "source": [
    "newlist = [x for x in range(10)]\n"
   ]
  },
  {
   "cell_type": "code",
   "execution_count": null,
   "metadata": {
    "id": "7qGDtGI8LHcN"
   },
   "outputs": [],
   "source": [
    "# Accept only numbers lower than 5:\n",
    "newlist = [x for x in range(10) if x < 5]"
   ]
  },
  {
   "cell_type": "markdown",
   "metadata": {
    "id": "itsVL4c9Narz"
   },
   "source": [
    "Expression\n",
    "The expression is the current item in the iteration, but it is also the outcome, which you can manipulate before it ends up like a list item in the new list:\n",
    "\n",
    "Example\n",
    "Set the values in the new list to upper case:\n",
    "\n",
    "newlist = [x.upper() for x in fruits]"
   ]
  },
  {
   "cell_type": "code",
   "execution_count": null,
   "metadata": {
    "id": "T--wU_SVNhYi"
   },
   "outputs": [],
   "source": []
  },
  {
   "cell_type": "markdown",
   "metadata": {
    "id": "RMfGeA2tNglR"
   },
   "source": [
    "Set all values in the new list to 'hello':\n",
    "\n"
   ]
  },
  {
   "cell_type": "code",
   "execution_count": null,
   "metadata": {
    "id": "TUy-6vJNNhjU"
   },
   "outputs": [],
   "source": [
    "newlist = ['hello' for x in fruits]"
   ]
  },
  {
   "cell_type": "code",
   "execution_count": null,
   "metadata": {
    "id": "ayz5hLXzLIcx"
   },
   "outputs": [],
   "source": [
    "# The expression in the example above says:\n",
    "\n",
    "# \"Return the item if it is not banana, if it is banana return orange\".\n",
    "newlist = [x if x != \"banana\" else \"orange\" for x in fruits]"
   ]
  },
  {
   "cell_type": "markdown",
   "metadata": {
    "id": "RpQ5Pa0dNsaC"
   },
   "source": [
    "# **Sort**"
   ]
  },
  {
   "cell_type": "markdown",
   "metadata": {
    "id": "f-tpc80DODSD"
   },
   "source": [
    "sort() both alp, num\n",
    "sort descending\n",
    "case insensitive sort in both upper and lower\n",
    "reverse"
   ]
  },
  {
   "cell_type": "code",
   "execution_count": null,
   "metadata": {
    "id": "Y_fBMVL8OhiM"
   },
   "outputs": [],
   "source": []
  },
  {
   "cell_type": "markdown",
   "metadata": {
    "id": "0yFYTosmOiGl"
   },
   "source": [
    "# **Copy list**"
   ]
  },
  {
   "cell_type": "markdown",
   "metadata": {
    "id": "qRE4E-OvO05r"
   },
   "source": [
    "# **Join List**"
   ]
  },
  {
   "cell_type": "code",
   "execution_count": null,
   "metadata": {
    "id": "W5Df5g9NOhsR"
   },
   "outputs": [],
   "source": []
  },
  {
   "cell_type": "code",
   "execution_count": null,
   "metadata": {
    "id": "IOLSlQ1yPZwi"
   },
   "outputs": [],
   "source": [
    "list = []\n",
    "for x in range(5):\n",
    "    a = input(\"User enter\")\n",
    "    list.append(a)\n",
    "print(list)"
   ]
  },
  {
   "cell_type": "code",
   "execution_count": null,
   "metadata": {
    "id": "UrgHgGTjPaju"
   },
   "outputs": [],
   "source": [
    "x= fruits.count(\" \")\n",
    "x"
   ]
  },
  {
   "cell_type": "code",
   "execution_count": null,
   "metadata": {
    "id": "DTJwC6UxPgB_"
   },
   "outputs": [],
   "source": [
    "fruits.index(\"mango\")\n"
   ]
  },
  {
   "cell_type": "code",
   "execution_count": null,
   "metadata": {
    "id": "PJupyQENPlX6"
   },
   "outputs": [],
   "source": [
    "pop()"
   ]
  },
  {
   "cell_type": "code",
   "execution_count": null,
   "metadata": {
    "id": "AAtvsIhFPmkP"
   },
   "outputs": [],
   "source": []
  },
  {
   "cell_type": "markdown",
   "metadata": {
    "id": "Pic1fsGzQP0s"
   },
   "source": []
  },
  {
   "cell_type": "markdown",
   "metadata": {
    "id": "qdpxD0-EQLje"
   },
   "source": [
    "# **Practice Questions**\n",
    "\n",
    "\n",
    "What is a Python list?\n",
    "How do you create an empty list in Python?\n",
    "How do you create a list with initial values in Python?\n",
    "How do you access an element in a list by its index?\n",
    "How do you add an element to the end of a list in Python?\n",
    "How do you remove an element from a list in Python?\n",
    "How do you check if an element is present in a list?\n",
    "How do you find the length of a list in Python?\n",
    "How do you sort a list in ascending order in Python?\n",
    "How do you reverse the order of elements in a list?"
   ]
  }
 ],
 "metadata": {
  "colab": {
   "provenance": []
  },
  "kernelspec": {
   "display_name": "Python 3 (ipykernel)",
   "language": "python",
   "name": "python3"
  },
  "language_info": {
   "codemirror_mode": {
    "name": "ipython",
    "version": 3
   },
   "file_extension": ".py",
   "mimetype": "text/x-python",
   "name": "python",
   "nbconvert_exporter": "python",
   "pygments_lexer": "ipython3",
   "version": "3.11.4"
  }
 },
 "nbformat": 4,
 "nbformat_minor": 1
}
