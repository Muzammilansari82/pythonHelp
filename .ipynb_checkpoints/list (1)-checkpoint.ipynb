{
 "cells": [
  {
   "cell_type": "code",
   "execution_count": null,
   "id": "4dfe87e0",
   "metadata": {
    "colab": {
     "base_uri": "https://localhost:8080/"
    },
    "id": "4dfe87e0",
    "outputId": "1f56ba20-7033-4526-8cf4-ac38f5c8b41e"
   },
   "outputs": [
    {
     "name": "stdout",
     "output_type": "stream",
     "text": [
      "['apple', 'banana', 'cherry', 'orange']\n"
     ]
    }
   ],
   "source": [
    "fruits = [\"apple\", \"banana\", \"cherry\"]\n",
    "\n",
    "fruits.append(\"orange\")\n",
    "\n",
    "print(fruits)"
   ]
  },
  {
   "cell_type": "code",
   "execution_count": null,
   "id": "0a88268e",
   "metadata": {
    "colab": {
     "base_uri": "https://localhost:8080/"
    },
    "id": "0a88268e",
    "outputId": "269780cf-b0ce-4435-d7b0-620f1deac559"
   },
   "outputs": [
    {
     "name": "stdout",
     "output_type": "stream",
     "text": [
      "['apple', 'orange', 'banana', 'cherry']\n"
     ]
    }
   ],
   "source": [
    "fruits = [\"apple\", \"banana\", \"cherry\"]\n",
    "\n",
    "fruits.insert(1,\"orange\")\n",
    "\n",
    "print(fruits)\n",
    "\n",
    "# list.insert(pos, elmnt)"
   ]
  },
  {
   "cell_type": "code",
   "execution_count": null,
   "id": "dc1e08ee",
   "metadata": {
    "colab": {
     "base_uri": "https://localhost:8080/"
    },
    "id": "dc1e08ee",
    "outputId": "e8bbf255-63f1-485a-b6e7-5327465789de"
   },
   "outputs": [
    {
     "name": "stdout",
     "output_type": "stream",
     "text": [
      "[]\n"
     ]
    }
   ],
   "source": [
    "fruits = [\"apple\", \"banana\", \"cherry\"]\n",
    "fruits.clear()\n",
    "\n",
    "print(fruits)"
   ]
  },
  {
   "cell_type": "code",
   "execution_count": null,
   "id": "b7ecb82f",
   "metadata": {
    "id": "b7ecb82f",
    "outputId": "bad60d20-c67e-483f-cb94-4421a320f4fe"
   },
   "outputs": [
    {
     "name": "stdout",
     "output_type": "stream",
     "text": [
      "User entersavera\n",
      "User enterasatja\n",
      "User enterafa\n",
      "User enterafsgh\n",
      "User enterdfgedhtk\n",
      "['savera', 'asatja', 'afa', 'afsgh', 'dfgedhtk']\n"
     ]
    }
   ],
   "source": [
    "list = []\n",
    "for x in range(5):\n",
    "    a = input(\"User enter\")\n",
    "    list.append(a)\n",
    "print(list)"
   ]
  },
  {
   "cell_type": "code",
   "execution_count": null,
   "id": "cf268d9c",
   "metadata": {
    "colab": {
     "base_uri": "https://localhost:8080/"
    },
    "id": "cf268d9c",
    "outputId": "b039c42a-9f0e-452e-ea79-3a80531bfbd2"
   },
   "outputs": [
    {
     "name": "stdout",
     "output_type": "stream",
     "text": [
      "Enter a String: sdf\n",
      "Enter a String: dsf\n",
      "Enter a String: hgdh\n",
      "Enter a String: ds\n",
      "Enter a String: s\n",
      "['sdf', 'dsf', 'hgdh', 'ds', 's']\n"
     ]
    }
   ],
   "source": [
    "fruits = []\n",
    "x =1\n",
    "for x in range(5):\n",
    "    a = input(\"Enter a String: \")\n",
    "    fruits.append(a)\n",
    "print(fruits)"
   ]
  },
  {
   "cell_type": "code",
   "execution_count": null,
   "id": "54f7b91b",
   "metadata": {
    "id": "54f7b91b",
    "outputId": "65316cb8-6966-4c1f-e661-52f4e8de7818"
   },
   "outputs": [
    {
     "data": {
      "text/plain": [
       "[]"
      ]
     },
     "execution_count": 7,
     "metadata": {},
     "output_type": "execute_result"
    }
   ],
   "source": [
    "fruits.clear()\n",
    "fruits\n"
   ]
  },
  {
   "cell_type": "code",
   "execution_count": null,
   "id": "d491fde3",
   "metadata": {
    "colab": {
     "base_uri": "https://localhost:8080/"
    },
    "id": "d491fde3",
    "outputId": "4647dbfe-069f-470b-9493-1547f90f2d57"
   },
   "outputs": [
    {
     "data": {
      "text/plain": [
       "[23, 12, 342, 45, 5]"
      ]
     },
     "execution_count": 27,
     "metadata": {},
     "output_type": "execute_result"
    }
   ],
   "source": [
    "x= fruits.copy()\n",
    "x"
   ]
  },
  {
   "cell_type": "code",
   "execution_count": null,
   "id": "6a671916",
   "metadata": {
    "colab": {
     "base_uri": "https://localhost:8080/"
    },
    "id": "6a671916",
    "outputId": "b719da2a-1d14-430a-c55b-28c8c4bef069"
   },
   "outputs": [
    {
     "data": {
      "text/plain": [
       "0"
      ]
     },
     "execution_count": 28,
     "metadata": {},
     "output_type": "execute_result"
    }
   ],
   "source": [
    "x= fruits.count(\"mango\")\n",
    "x"
   ]
  },
  {
   "cell_type": "code",
   "execution_count": null,
   "id": "3406cc25",
   "metadata": {
    "id": "3406cc25"
   },
   "outputs": [],
   "source": [
    "fruits.append(\"mango\")"
   ]
  },
  {
   "cell_type": "code",
   "execution_count": null,
   "id": "97bab2ba",
   "metadata": {
    "colab": {
     "base_uri": "https://localhost:8080/"
    },
    "id": "97bab2ba",
    "outputId": "6f55c584-1d4f-4c0a-cc96-8506382c5525"
   },
   "outputs": [
    {
     "data": {
      "text/plain": [
       "[23, 12, 342, 45, 5, 'mango']"
      ]
     },
     "execution_count": 30,
     "metadata": {},
     "output_type": "execute_result"
    }
   ],
   "source": [
    "fruits"
   ]
  },
  {
   "cell_type": "code",
   "execution_count": null,
   "id": "400d6792",
   "metadata": {
    "colab": {
     "base_uri": "https://localhost:8080/"
    },
    "id": "400d6792",
    "outputId": "6fe5f9a5-09a9-4689-c25b-abdc91a07e2b"
   },
   "outputs": [
    {
     "data": {
      "text/plain": [
       "1"
      ]
     },
     "execution_count": 31,
     "metadata": {},
     "output_type": "execute_result"
    }
   ],
   "source": [
    "x=fruits.count(\"mango\")\n",
    "x"
   ]
  },
  {
   "cell_type": "code",
   "execution_count": null,
   "id": "d72ace4b",
   "metadata": {
    "colab": {
     "base_uri": "https://localhost:8080/"
    },
    "id": "d72ace4b",
    "outputId": "0ab661d1-d0ab-4967-9b77-e89166875ba5"
   },
   "outputs": [
    {
     "data": {
      "text/plain": [
       "[23, 12, 342, 45, 5, 'mango']"
      ]
     },
     "execution_count": 32,
     "metadata": {},
     "output_type": "execute_result"
    }
   ],
   "source": [
    "fruits"
   ]
  },
  {
   "cell_type": "code",
   "execution_count": null,
   "id": "54sI7EkADqDY",
   "metadata": {
    "id": "54sI7EkADqDY"
   },
   "outputs": [],
   "source": [
    "\n",
    "fruits.clear()"
   ]
  },
  {
   "cell_type": "code",
   "execution_count": null,
   "id": "Hj735iSsDQxq",
   "metadata": {
    "colab": {
     "base_uri": "https://localhost:8080/"
    },
    "id": "Hj735iSsDQxq",
    "outputId": "18a129f7-8dcd-4ab5-966b-6a472152a6a1"
   },
   "outputs": [
    {
     "name": "stdout",
     "output_type": "stream",
     "text": [
      " This is a  .... [23, 12, 342, 45, 5]\n",
      " This is fruit list  .... [23, 12, 342, 45, 5, 'mango', 23, 12, 342, 45, 5]\n"
     ]
    }
   ],
   "source": [
    "# Extend use for combining of two or more list\n",
    "a= [23,12,342,45,5]\n",
    "fruits.extend(a)\n",
    "print(\" This is a  ....\" ,a)\n",
    "print(\" This is fruit list  ....\" ,fruits)"
   ]
  },
  {
   "cell_type": "code",
   "execution_count": null,
   "id": "ecef912d",
   "metadata": {
    "colab": {
     "base_uri": "https://localhost:8080/"
    },
    "id": "ecef912d",
    "outputId": "73ae9795-c97f-482a-e86e-9e5a3ddfc3d6"
   },
   "outputs": [
    {
     "data": {
      "text/plain": [
       "[23, 12, 342, 45, 5, 'mango', 23, 12, 342, 45, 5]"
      ]
     },
     "execution_count": 34,
     "metadata": {},
     "output_type": "execute_result"
    }
   ],
   "source": [
    "fruits"
   ]
  },
  {
   "cell_type": "code",
   "execution_count": null,
   "id": "a1d37e5c",
   "metadata": {
    "colab": {
     "base_uri": "https://localhost:8080/"
    },
    "id": "a1d37e5c",
    "outputId": "9b110b77-59bd-4607-a294-c94334fe5553"
   },
   "outputs": [
    {
     "data": {
      "text/plain": [
       "5"
      ]
     },
     "execution_count": 36,
     "metadata": {},
     "output_type": "execute_result"
    }
   ],
   "source": [
    "fruits.index(\"mango\")"
   ]
  },
  {
   "cell_type": "code",
   "execution_count": null,
   "id": "6f9bef13",
   "metadata": {
    "colab": {
     "base_uri": "https://localhost:8080/",
     "height": 184
    },
    "id": "6f9bef13",
    "outputId": "aca8c3a6-580f-43ed-c46a-9caddf785650"
   },
   "outputs": [
    {
     "ename": "NameError",
     "evalue": "ignored",
     "output_type": "error",
     "traceback": [
      "\u001b[0;31m---------------------------------------------------------------------------\u001b[0m",
      "\u001b[0;31mNameError\u001b[0m                                 Traceback (most recent call last)",
      "\u001b[0;32m<ipython-input-1-14bb23ffe8f6>\u001b[0m in \u001b[0;36m<cell line: 1>\u001b[0;34m()\u001b[0m\n\u001b[0;32m----> 1\u001b[0;31m \u001b[0mfruits\u001b[0m\u001b[0;34m.\u001b[0m\u001b[0minsert\u001b[0m\u001b[0;34m(\u001b[0m\u001b[0;36m2\u001b[0m\u001b[0;34m,\u001b[0m\u001b[0;34m\"apple\"\u001b[0m\u001b[0;34m)\u001b[0m\u001b[0;34m\u001b[0m\u001b[0;34m\u001b[0m\u001b[0m\n\u001b[0m\u001b[1;32m      2\u001b[0m \u001b[0mfruits\u001b[0m\u001b[0;34m\u001b[0m\u001b[0;34m\u001b[0m\u001b[0m\n",
      "\u001b[0;31mNameError\u001b[0m: name 'fruits' is not defined"
     ]
    }
   ],
   "source": [
    "fruits.insert(2,\"apple\")\n",
    "fruits"
   ]
  },
  {
   "cell_type": "code",
   "execution_count": null,
   "id": "ad7d743e",
   "metadata": {
    "colab": {
     "base_uri": "https://localhost:8080/"
    },
    "id": "ad7d743e",
    "outputId": "b4184b42-3e77-4a0e-f2d8-eeb0fe4191ac"
   },
   "outputs": [
    {
     "data": {
      "text/plain": [
       "342"
      ]
     },
     "execution_count": 40,
     "metadata": {},
     "output_type": "execute_result"
    }
   ],
   "source": [
    "fruits.pop()"
   ]
  },
  {
   "cell_type": "code",
   "execution_count": null,
   "id": "e269bf5c",
   "metadata": {
    "colab": {
     "base_uri": "https://localhost:8080/"
    },
    "id": "e269bf5c",
    "outputId": "f9a8de59-6e1a-4116-a5a5-dc4981be1cd5"
   },
   "outputs": [
    {
     "data": {
      "text/plain": [
       "12"
      ]
     },
     "execution_count": 41,
     "metadata": {},
     "output_type": "execute_result"
    }
   ],
   "source": [
    "fruits.pop(1)"
   ]
  },
  {
   "cell_type": "code",
   "execution_count": null,
   "id": "3689388f",
   "metadata": {
    "colab": {
     "base_uri": "https://localhost:8080/"
    },
    "id": "3689388f",
    "outputId": "88fb0366-30d1-41c6-b4e9-0f4056317c05"
   },
   "outputs": [
    {
     "data": {
      "text/plain": [
       "[23, 'apple', 342, 45, 5, 23, 12]"
      ]
     },
     "execution_count": 42,
     "metadata": {},
     "output_type": "execute_result"
    }
   ],
   "source": [
    "fruits.remove(\"mango\")\n",
    "fruits"
   ]
  },
  {
   "cell_type": "code",
   "execution_count": null,
   "id": "0125de89",
   "metadata": {
    "colab": {
     "base_uri": "https://localhost:8080/"
    },
    "id": "0125de89",
    "outputId": "75be379a-104c-460e-ca28-0f80d5c97f33"
   },
   "outputs": [
    {
     "data": {
      "text/plain": [
       "[5, 45, 342, 12, 23, 'mango', 'grapes', 'grapes', 'orange', 'mango', 'apple']"
      ]
     },
     "execution_count": 46,
     "metadata": {},
     "output_type": "execute_result"
    }
   ],
   "source": [
    "fruits = ['apple', 'mango', 'orange', 'grapes', 'grapes', 'mango', 23, 12, 342, 45, 5]\n",
    "fruits.reverse()\n",
    "fruits"
   ]
  },
  {
   "cell_type": "code",
   "execution_count": null,
   "id": "73c9db57",
   "metadata": {
    "colab": {
     "base_uri": "https://localhost:8080/"
    },
    "id": "73c9db57",
    "outputId": "357437aa-4ed9-4785-ef48-d83e84a0ec00"
   },
   "outputs": [
    {
     "data": {
      "text/plain": [
       "['apple', 'grapes', 'grapes', 'mango', 'mango', 'orange']"
      ]
     },
     "execution_count": 47,
     "metadata": {},
     "output_type": "execute_result"
    }
   ],
   "source": [
    "#reverse in ascending\n",
    "fruits = ['apple', 'mango', 'orange', 'grapes', 'grapes', 'mango']\n",
    "fruits.sort()\n",
    "fruits"
   ]
  },
  {
   "cell_type": "code",
   "execution_count": null,
   "id": "728a09a3",
   "metadata": {
    "colab": {
     "base_uri": "https://localhost:8080/"
    },
    "id": "728a09a3",
    "outputId": "9add93fc-534f-4cf1-9926-8fbc740037a8"
   },
   "outputs": [
    {
     "data": {
      "text/plain": [
       "['orange', 'mango', 'mango', 'grapes', 'grapes', 'apple']"
      ]
     },
     "execution_count": 48,
     "metadata": {},
     "output_type": "execute_result"
    }
   ],
   "source": [
    "#reverse in descending order\n",
    "fruits.sort(reverse = True)\n",
    "fruits"
   ]
  },
  {
   "cell_type": "code",
   "execution_count": null,
   "id": "4c6b4a0b",
   "metadata": {
    "id": "4c6b4a0b",
    "outputId": "e5d0e3a0-53d8-433d-8528-2c52a79426f5"
   },
   "outputs": [
    {
     "name": "stdout",
     "output_type": "stream",
     "text": [
      "6\n"
     ]
    }
   ],
   "source": [
    "print(len(fruits))"
   ]
  },
  {
   "cell_type": "code",
   "execution_count": null,
   "id": "42b23557",
   "metadata": {
    "colab": {
     "base_uri": "https://localhost:8080/"
    },
    "id": "42b23557",
    "outputId": "4a998dc1-977e-491e-8f8a-830d34a325e3"
   },
   "outputs": [
    {
     "data": {
      "text/plain": [
       "['abc', 34, True, 40, 'male']"
      ]
     },
     "execution_count": 49,
     "metadata": {},
     "output_type": "execute_result"
    }
   ],
   "source": [
    "list1 = [\"abc\", 34, True, 40, \"male\"]\n",
    "list1"
   ]
  },
  {
   "cell_type": "code",
   "execution_count": null,
   "id": "6ad5f4b7",
   "metadata": {
    "id": "6ad5f4b7",
    "outputId": "38a21649-428b-44ef-a52d-73704cc32cad"
   },
   "outputs": [
    {
     "name": "stdout",
     "output_type": "stream",
     "text": [
      "<class 'list'>\n"
     ]
    }
   ],
   "source": [
    "print(type(list1))"
   ]
  },
  {
   "cell_type": "code",
   "execution_count": null,
   "id": "91e22919",
   "metadata": {
    "id": "91e22919",
    "outputId": "4968826b-21e5-4388-e8a1-d263787c8030"
   },
   "outputs": [
    {
     "data": {
      "text/plain": [
       "[34, True, 40]"
      ]
     },
     "execution_count": 65,
     "metadata": {},
     "output_type": "execute_result"
    }
   ],
   "source": [
    "#Access list items\n",
    "list1[1]\n",
    "list1[-1]\n",
    "list1[2:5] #he search will start at index 2 (included) and end at index 5 (not included).\n",
    "list1[:3] #start se 3 tak\n",
    "list1[2:] #2 se end tak\n",
    "list1[-4:-1]"
   ]
  },
  {
   "cell_type": "code",
   "execution_count": null,
   "id": "32a2829a",
   "metadata": {
    "id": "32a2829a",
    "outputId": "12b13bd2-0cf1-428f-e031-4bfafb36e3e7"
   },
   "outputs": [
    {
     "name": "stdout",
     "output_type": "stream",
     "text": [
      "yes 34 is presenf \n"
     ]
    }
   ],
   "source": [
    "if 34 in list1:\n",
    "    print(\"yes 34 is presenf \")"
   ]
  },
  {
   "cell_type": "code",
   "execution_count": null,
   "id": "a54bc122",
   "metadata": {
    "colab": {
     "base_uri": "https://localhost:8080/"
    },
    "id": "a54bc122",
    "outputId": "ccfacf45-af8d-48cf-a9ab-696eaa9f787c"
   },
   "outputs": [
    {
     "name": "stdout",
     "output_type": "stream",
     "text": [
      "['abc', 'blackcurrant', 'watermelon', 40, 'male']\n"
     ]
    }
   ],
   "source": [
    "#change list items\n",
    "list1[1] = \"banana\"\n",
    "list1\n",
    "\n",
    "list1[1:3] = [\"blackcurrant\", \"watermelon\"]\n",
    "print(list1)"
   ]
  },
  {
   "cell_type": "code",
   "execution_count": null,
   "id": "1fe8d7d9",
   "metadata": {
    "id": "1fe8d7d9"
   },
   "outputs": [],
   "source": [
    "input = quiz enter 2\n",
    "enter quiz name\n",
    "1) php\n",
    "2)html\n",
    "select php\n",
    "enter number of questions if enter 4\n",
    "then appear 4 questions\n"
   ]
  }
 ],
 "metadata": {
  "colab": {
   "provenance": []
  },
  "kernelspec": {
   "display_name": "Python 3 (ipykernel)",
   "language": "python",
   "name": "python3"
  },
  "language_info": {
   "codemirror_mode": {
    "name": "ipython",
    "version": 3
   },
   "file_extension": ".py",
   "mimetype": "text/x-python",
   "name": "python",
   "nbconvert_exporter": "python",
   "pygments_lexer": "ipython3",
   "version": "3.11.4"
  }
 },
 "nbformat": 4,
 "nbformat_minor": 5
}
