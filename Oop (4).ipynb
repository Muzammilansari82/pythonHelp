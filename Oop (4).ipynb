{
  "nbformat": 4,
  "nbformat_minor": 0,
  "metadata": {
    "colab": {
      "provenance": []
    },
    "kernelspec": {
      "name": "python3",
      "display_name": "Python 3"
    },
    "language_info": {
      "name": "python"
    }
  },
  "cells": [
    {
      "cell_type": "code",
      "source": [
        "#when clas is emty we are just passing pass for error free class\n",
        "class Dog:\n",
        "    pass"
      ],
      "metadata": {
        "id": "WRkoHV_pk0oj"
      },
      "execution_count": null,
      "outputs": []
    },
    {
      "cell_type": "markdown",
      "source": [
        "### Object Consist of State , behaviour ,identity"
      ],
      "metadata": {
        "id": "NNRScHA2lXb6"
      }
    },
    {
      "cell_type": "markdown",
      "source": [
        "The identity can be considered as the name of the dog.\n",
        "State or Attributes can be considered as the breed, age, or color of the dog.\n",
        "The behavior can be considered as to whether the dog is eating or sleeping."
      ],
      "metadata": {
        "id": "c-oTUnHXlg2A"
      }
    },
    {
      "cell_type": "code",
      "source": [],
      "metadata": {
        "id": "rkdg39Dmlgge"
      },
      "execution_count": null,
      "outputs": []
    },
    {
      "cell_type": "code",
      "execution_count": null,
      "metadata": {
        "id": "9afcbCWPaXsw"
      },
      "outputs": [],
      "source": [
        "# creating class\n",
        "# self is default parameter which is important\n",
        "class Phone:\n",
        "  def make_call(self):\n",
        "    print(\"Making Phone Calls\")\n",
        "  def play_games(self):\n",
        "    print(\"Playing Games\")\n"
      ]
    },
    {
      "cell_type": "code",
      "source": [
        "#instance/Object for class Phone\n",
        "p1 = Phone()"
      ],
      "metadata": {
        "id": "H3lEhNAjbU3z"
      },
      "execution_count": null,
      "outputs": []
    },
    {
      "cell_type": "code",
      "source": [
        "# Access that methods through objects\n",
        "p1.make_call()\n",
        "p1.play_games()"
      ],
      "metadata": {
        "colab": {
          "base_uri": "https://localhost:8080/"
        },
        "id": "YZmzSG_jbbxo",
        "outputId": "dc962531-c110-429b-a79d-4fe0f9fabecd"
      },
      "execution_count": null,
      "outputs": [
        {
          "output_type": "stream",
          "name": "stdout",
          "text": [
            "Making Phone Calls\n",
            "Playing Games\n"
          ]
        }
      ]
    },
    {
      "cell_type": "code",
      "source": [
        "class Phone:\n",
        "  def set_color(self,color):\n",
        "    self.color = color\n",
        "  def set_cost(self,cost):\n",
        "    self.cost= cost\n",
        "  def show_color(self):\n",
        "    return self.color\n",
        "  def show_cost(self):\n",
        "    return self.cost\n",
        "  def make_call(self):\n",
        "    print(\"Making Phone Calls\")\n",
        "  def play_games(self):\n",
        "    print(\"Playing Games\")"
      ],
      "metadata": {
        "id": "MXd8zxmvcI5R"
      },
      "execution_count": null,
      "outputs": []
    },
    {
      "cell_type": "code",
      "source": [],
      "metadata": {
        "id": "SfmttwdweR1F"
      },
      "execution_count": null,
      "outputs": []
    },
    {
      "cell_type": "code",
      "source": [
        "p2 = Phone()\n"
      ],
      "metadata": {
        "id": "daZ1fhsVcI9C"
      },
      "execution_count": null,
      "outputs": []
    },
    {
      "cell_type": "code",
      "source": [
        "p2.set_color(\"blue\")\n",
        "p2.set_cost(100)\n",
        "p2.show_color()\n"
      ],
      "metadata": {
        "colab": {
          "base_uri": "https://localhost:8080/",
          "height": 36
        },
        "id": "fJWGlmmucJAD",
        "outputId": "6ba60404-9b72-4e74-a4f9-5a1e7d76db5c"
      },
      "execution_count": null,
      "outputs": [
        {
          "output_type": "execute_result",
          "data": {
            "text/plain": [
              "'blue'"
            ],
            "application/vnd.google.colaboratory.intrinsic+json": {
              "type": "string"
            }
          },
          "metadata": {},
          "execution_count": 9
        }
      ]
    },
    {
      "cell_type": "code",
      "source": [
        "p2.show_color()"
      ],
      "metadata": {
        "colab": {
          "base_uri": "https://localhost:8080/",
          "height": 36
        },
        "id": "FlMSSW5rd6Nw",
        "outputId": "04da1d8a-3758-4edf-898b-66cdfd210a21"
      },
      "execution_count": null,
      "outputs": [
        {
          "output_type": "execute_result",
          "data": {
            "text/plain": [
              "'blue'"
            ],
            "application/vnd.google.colaboratory.intrinsic+json": {
              "type": "string"
            }
          },
          "metadata": {},
          "execution_count": 8
        }
      ]
    },
    {
      "cell_type": "code",
      "source": [
        "p2.show_cost()\n"
      ],
      "metadata": {
        "colab": {
          "base_uri": "https://localhost:8080/"
        },
        "id": "veWV085aeHjb",
        "outputId": "a0aec28f-39ea-4c1c-f5ae-461a0d2d65f2"
      },
      "execution_count": null,
      "outputs": [
        {
          "output_type": "execute_result",
          "data": {
            "text/plain": [
              "100"
            ]
          },
          "metadata": {},
          "execution_count": 10
        }
      ]
    },
    {
      "cell_type": "code",
      "source": [],
      "metadata": {
        "id": "JRzcA1VBeSuF"
      },
      "execution_count": null,
      "outputs": []
    },
    {
      "cell_type": "code",
      "source": [
        "p2.make_call()\n",
        "p2.play_games()"
      ],
      "metadata": {
        "colab": {
          "base_uri": "https://localhost:8080/"
        },
        "id": "plMU_bmLeJa7",
        "outputId": "8100e230-d84a-42eb-def4-44f7ea741f3f"
      },
      "execution_count": null,
      "outputs": [
        {
          "output_type": "stream",
          "name": "stdout",
          "text": [
            "Making Phone Calls\n",
            "Playing Games\n"
          ]
        }
      ]
    },
    {
      "cell_type": "code",
      "source": [
        "#constructor\n",
        "class Employee:\n",
        "  def __init__(self,name,age,salary,gender):\n",
        "    self.name = name\n",
        "    self.age = age\n",
        "    self.salary = salary\n",
        "    self.gender = gender\n",
        "  def employee_details(self):\n",
        "    print(\"Name of Employee id \",self.name )\n",
        "    print(\" age of Employee id \",self.age)\n",
        "    print(\"salary of Employee id \",self.salary)\n",
        "    print(\"gender of Employee id \",self.gender)"
      ],
      "metadata": {
        "id": "-w11A7ZSeTKr"
      },
      "execution_count": null,
      "outputs": []
    },
    {
      "cell_type": "code",
      "source": [
        "e = Employee(\"savear\",23,3300,'female')\n",
        "e.employee_details()"
      ],
      "metadata": {
        "colab": {
          "base_uri": "https://localhost:8080/"
        },
        "id": "Dllzq0idfKS0",
        "outputId": "3e8110a8-339c-42d4-a6df-4bd9bb452f29"
      },
      "execution_count": null,
      "outputs": [
        {
          "output_type": "stream",
          "name": "stdout",
          "text": [
            "Name of Employee id  savear\n",
            " age of Employee id  23\n",
            "salary of Employee id  3300\n",
            "gender of Employee id  female\n"
          ]
        }
      ]
    },
    {
      "cell_type": "code",
      "source": [
        "#INHERITANCE\n",
        "class Vehicle:\n",
        "  def __init__(self,milage,cost):\n",
        "    self.milage = milage\n",
        "    self.cost = cost\n",
        "  def show_details(self):\n",
        "    print(\"I am a Vehicle\");\n",
        "    print(\"Milage of this Vehicle is: \" ,self.milage)\n",
        "    print(\"cost of this Vehicle is: \" ,self.cost)\n"
      ],
      "metadata": {
        "id": "V9MzUJnoga0t"
      },
      "execution_count": null,
      "outputs": []
    },
    {
      "cell_type": "code",
      "source": [
        "v = Vehicle(600,300)\n",
        "v.show_details()"
      ],
      "metadata": {
        "colab": {
          "base_uri": "https://localhost:8080/"
        },
        "id": "OFMHcg-uhbjs",
        "outputId": "67a61149-e757-4361-aeb2-d3beb32976bc"
      },
      "execution_count": null,
      "outputs": [
        {
          "output_type": "stream",
          "name": "stdout",
          "text": [
            "I am a Vehicle\n",
            "Milage of this Vehicle is:  600\n",
            "cost of this Vehicle is:  300\n"
          ]
        }
      ]
    },
    {
      "cell_type": "code",
      "source": [
        "#child class\n",
        "class Car(Vehicle):\n",
        "  def show_car(self):\n",
        "    print(\"I am the car\")\n"
      ],
      "metadata": {
        "id": "_NCLa2a7hl4_"
      },
      "execution_count": null,
      "outputs": []
    },
    {
      "cell_type": "code",
      "source": [
        "c = Car() # error because this is parent class function and we need to put values in it\n",
        "c.show_details()"
      ],
      "metadata": {
        "colab": {
          "base_uri": "https://localhost:8080/",
          "height": 182
        },
        "id": "XC8jc2A6hl1U",
        "outputId": "dbe72e3d-cf19-438f-b15a-6bb67768d7eb"
      },
      "execution_count": null,
      "outputs": [
        {
          "output_type": "error",
          "ename": "TypeError",
          "evalue": "ignored",
          "traceback": [
            "\u001b[0;31m---------------------------------------------------------------------------\u001b[0m",
            "\u001b[0;31mTypeError\u001b[0m                                 Traceback (most recent call last)",
            "\u001b[0;32m<ipython-input-22-5607276c6085>\u001b[0m in \u001b[0;36m<cell line: 1>\u001b[0;34m()\u001b[0m\n\u001b[0;32m----> 1\u001b[0;31m \u001b[0mc\u001b[0m \u001b[0;34m=\u001b[0m \u001b[0mCar\u001b[0m\u001b[0;34m(\u001b[0m\u001b[0;34m)\u001b[0m \u001b[0;31m# error because this is parent class function and we need to put values in it\u001b[0m\u001b[0;34m\u001b[0m\u001b[0;34m\u001b[0m\u001b[0m\n\u001b[0m\u001b[1;32m      2\u001b[0m \u001b[0mc\u001b[0m\u001b[0;34m.\u001b[0m\u001b[0mshow_details\u001b[0m\u001b[0;34m(\u001b[0m\u001b[0;34m)\u001b[0m\u001b[0;34m\u001b[0m\u001b[0;34m\u001b[0m\u001b[0m\n",
            "\u001b[0;31mTypeError\u001b[0m: Vehicle.__init__() missing 2 required positional arguments: 'milage' and 'cost'"
          ]
        }
      ]
    },
    {
      "cell_type": "code",
      "source": [
        "c = Car(300,450)\n",
        "c.show_details()"
      ],
      "metadata": {
        "colab": {
          "base_uri": "https://localhost:8080/"
        },
        "id": "WS3fGBd5hlyQ",
        "outputId": "c18cad44-de9e-4190-c2d2-95abf3ca5a1b"
      },
      "execution_count": null,
      "outputs": [
        {
          "output_type": "stream",
          "name": "stdout",
          "text": [
            "I am a Vehicle\n",
            "Milage of this Vehicle is:  300\n",
            "cost of this Vehicle is:  450\n"
          ]
        }
      ]
    },
    {
      "cell_type": "code",
      "source": [
        "c.show_car()"
      ],
      "metadata": {
        "colab": {
          "base_uri": "https://localhost:8080/"
        },
        "id": "9ZsuPOjVhlsK",
        "outputId": "c499032f-f82c-4a19-f626-865c28b4f737"
      },
      "execution_count": null,
      "outputs": [
        {
          "output_type": "stream",
          "name": "stdout",
          "text": [
            "I am the car\n"
          ]
        }
      ]
    },
    {
      "cell_type": "code",
      "source": [
        "#overriding Method init method\n"
      ],
      "metadata": {
        "id": "Oy2CQWPCim0l"
      },
      "execution_count": null,
      "outputs": []
    },
    {
      "cell_type": "code",
      "source": [
        "class Vehicle:\n",
        "  def __init__(self,milage,cost):\n",
        "    self.milage = milage\n",
        "    self.cost = cost\n",
        "  def show_details(self):\n",
        "    print(\"I am a Vehicle\");\n",
        "    print(\"Milage of this Vehicle is: \" ,self.milage)\n",
        "    print(\"cost of this Vehicle is: \" ,self.cost)"
      ],
      "metadata": {
        "id": "1PaVIT1qjIua"
      },
      "execution_count": null,
      "outputs": []
    },
    {
      "cell_type": "code",
      "source": [
        "class Car(Vehicle):\n",
        "  def __init__(self,milage,cost,tyres,hp):\n",
        "    super(). __init__(milage,cost)\n",
        "    self.tyres = tyres\n",
        "    self.hp = hp\n",
        "  def show_car_details(self):\n",
        "    print(\"I am a Vehicle\");\n",
        "    print(\"No of tyres are : \" ,self.tyres)\n",
        "    print(\"value of hourse power  is: \" ,self.hp)"
      ],
      "metadata": {
        "id": "CQC9WZG4inFD"
      },
      "execution_count": null,
      "outputs": []
    },
    {
      "cell_type": "code",
      "source": [
        "c = Car(300,600000,90,888)"
      ],
      "metadata": {
        "id": "JmFLsjz0hlpI"
      },
      "execution_count": null,
      "outputs": []
    },
    {
      "cell_type": "code",
      "source": [
        "c.show_details()"
      ],
      "metadata": {
        "colab": {
          "base_uri": "https://localhost:8080/"
        },
        "id": "kNo51TKukAgi",
        "outputId": "c6a3c585-1a7e-497a-ba76-b9f7fad17bab"
      },
      "execution_count": null,
      "outputs": [
        {
          "output_type": "stream",
          "name": "stdout",
          "text": [
            "I am a Vehicle\n",
            "Milage of this Vehicle is:  300\n",
            "cost of this Vehicle is:  600000\n"
          ]
        }
      ]
    },
    {
      "cell_type": "code",
      "source": [
        "c.show_car_details()"
      ],
      "metadata": {
        "colab": {
          "base_uri": "https://localhost:8080/"
        },
        "id": "LO1tWzHbkH9z",
        "outputId": "2e73010f-f2fc-407d-f28c-01aa4ce47700"
      },
      "execution_count": null,
      "outputs": [
        {
          "output_type": "stream",
          "name": "stdout",
          "text": [
            "I am a Vehicle\n",
            "No of tyres are :  90\n",
            "value of hourse power  is:  888\n"
          ]
        }
      ]
    },
    {
      "cell_type": "code",
      "source": [
        "# Creating a class and object with class and instance attributes\n"
      ],
      "metadata": {
        "id": "2f7CKiE_kH64"
      },
      "execution_count": null,
      "outputs": []
    },
    {
      "cell_type": "code",
      "source": [
        "# class Dog:\n",
        "#   type = \"mammal\" # class attribute\n",
        "#   def __init__(self,name):\n",
        "#     self.name = name\n",
        "# d = Dog(\"puppy\")\n",
        "# #for accessing class attribute\n",
        "# print(\"Puppy is a {} \".format(d.__class__type))\n",
        "# print(\"Puppy is a \",)"
      ],
      "metadata": {
        "colab": {
          "base_uri": "https://localhost:8080/",
          "height": 200
        },
        "id": "x88Vrs5AkH4K",
        "outputId": "83522531-afc4-4def-f5d5-efcdfbd4b9c9"
      },
      "execution_count": null,
      "outputs": [
        {
          "output_type": "error",
          "ename": "AttributeError",
          "evalue": "ignored",
          "traceback": [
            "\u001b[0;31m---------------------------------------------------------------------------\u001b[0m",
            "\u001b[0;31mAttributeError\u001b[0m                            Traceback (most recent call last)",
            "\u001b[0;32m<ipython-input-30-9113d349e129>\u001b[0m in \u001b[0;36m<cell line: 7>\u001b[0;34m()\u001b[0m\n\u001b[1;32m      5\u001b[0m \u001b[0md\u001b[0m \u001b[0;34m=\u001b[0m \u001b[0mDog\u001b[0m\u001b[0;34m(\u001b[0m\u001b[0;34m\"puppy\"\u001b[0m\u001b[0;34m)\u001b[0m\u001b[0;34m\u001b[0m\u001b[0;34m\u001b[0m\u001b[0m\n\u001b[1;32m      6\u001b[0m \u001b[0;31m#for accessing class attribute\u001b[0m\u001b[0;34m\u001b[0m\u001b[0;34m\u001b[0m\u001b[0m\n\u001b[0;32m----> 7\u001b[0;31m \u001b[0mprint\u001b[0m\u001b[0;34m(\u001b[0m\u001b[0;34m\"Puppy is a {} \"\u001b[0m\u001b[0;34m.\u001b[0m\u001b[0mformat\u001b[0m\u001b[0;34m(\u001b[0m\u001b[0md\u001b[0m\u001b[0;34m.\u001b[0m\u001b[0m__class__type\u001b[0m\u001b[0;34m)\u001b[0m\u001b[0;34m)\u001b[0m\u001b[0;34m\u001b[0m\u001b[0;34m\u001b[0m\u001b[0m\n\u001b[0m",
            "\u001b[0;31mAttributeError\u001b[0m: 'Dog' object has no attribute '__class__type'"
          ]
        }
      ]
    },
    {
      "cell_type": "code",
      "source": [],
      "metadata": {
        "id": "_h8iDLJ3kH1W"
      },
      "execution_count": null,
      "outputs": []
    }
  ]
}