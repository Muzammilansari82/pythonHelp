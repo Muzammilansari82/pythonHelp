{
  "nbformat": 4,
  "nbformat_minor": 0,
  "metadata": {
    "colab": {
      "provenance": []
    },
    "kernelspec": {
      "name": "python3",
      "display_name": "Python 3"
    },
    "language_info": {
      "name": "python"
    }
  },
  "cells": [
    {
      "cell_type": "markdown",
      "source": [
        "# **Tuple**"
      ],
      "metadata": {
        "id": "EeP4mJPtFmbL"
      }
    },
    {
      "cell_type": "markdown",
      "source": [
        "# **Functions**\n",
        "\n",
        "\n",
        "count()\tReturns the number of times a specified value occurs in a tuple\n",
        "\n",
        "index()\tSearches the tuple for a specified value and returns the position of where it was found\n",
        "\n",
        "len()\n",
        "\n",
        "type()"
      ],
      "metadata": {
        "id": "ek_ZLSKvPJNX"
      }
    },
    {
      "cell_type": "markdown",
      "source": [
        "**Make a tuple and Use its Functions**"
      ],
      "metadata": {
        "id": "CJVsL_NMQdN4"
      }
    },
    {
      "cell_type": "code",
      "execution_count": null,
      "metadata": {
        "id": "YZ_waumnFkyQ"
      },
      "outputs": [],
      "source": []
    },
    {
      "cell_type": "code",
      "source": [],
      "metadata": {
        "id": "aCLDsiJ_PNz4"
      },
      "execution_count": null,
      "outputs": []
    },
    {
      "cell_type": "code",
      "source": [],
      "metadata": {
        "id": "BwmlLh8HFwzU"
      },
      "execution_count": null,
      "outputs": []
    },
    {
      "cell_type": "markdown",
      "source": [
        "**Tuple Items**\n",
        "\n",
        "Tuple items are **ordered**, **unchangeable,** and a**llow duplicate** values.\n",
        "\n",
        "List items are **indexed**, the first item has index [0], the second item has index [1] etc."
      ],
      "metadata": {
        "id": "N6jUZpjpGWlh"
      }
    },
    {
      "cell_type": "markdown",
      "source": [
        "**Change Tuple Values**\n",
        "Once a **tuple is created, you cannot change its values**. Tuples are unchangeable, or **immutable** as it also is called.\n",
        "\n",
        "But there is a workaround. **You can convert the tuple into a list**, change the list, and convert the list back into a tuple."
      ],
      "metadata": {
        "id": "1zxcmImpUfRw"
      }
    },
    {
      "cell_type": "code",
      "source": [],
      "metadata": {
        "id": "VrFgf1w7GZ_l"
      },
      "execution_count": null,
      "outputs": []
    },
    {
      "cell_type": "markdown",
      "source": [
        "Create Tuple With One Item"
      ],
      "metadata": {
        "id": "BbpfSpXiTzGY"
      }
    },
    {
      "cell_type": "code",
      "source": [
        "thistuple = (\"apple\",)\n",
        "print(type(thistuple))\n",
        "\n",
        "#NOT a tuple\n",
        "thistuple = (\"apple\")\n",
        "print(type(thistuple))"
      ],
      "metadata": {
        "id": "1eExtyV9HBYf"
      },
      "execution_count": null,
      "outputs": []
    },
    {
      "cell_type": "code",
      "source": [
        "# tuple constructor\n",
        "thistuple = tuple((\"apple\", \"banana\", \"cherry\")) # note the double round-brackets\n",
        "print(thistuple)"
      ],
      "metadata": {
        "id": "VloenuXqUFIk"
      },
      "execution_count": null,
      "outputs": []
    },
    {
      "cell_type": "code",
      "source": [],
      "metadata": {
        "id": "ZG9DZcFqUJif"
      },
      "execution_count": null,
      "outputs": []
    },
    {
      "cell_type": "markdown",
      "source": [
        "With Different datatypes"
      ],
      "metadata": {
        "id": "z1oGyDZfUBsz"
      }
    },
    {
      "cell_type": "code",
      "source": [
        "# A tuple with strings, integers and boolean values:\n",
        "\n",
        "tuple1 = (\"abc\", 34, True, 40, \"male\")"
      ],
      "metadata": {
        "id": "aAtFbWcWHNnt"
      },
      "execution_count": null,
      "outputs": []
    },
    {
      "cell_type": "code",
      "source": [],
      "metadata": {
        "id": "D3mE1B77T9qV"
      },
      "execution_count": null,
      "outputs": []
    },
    {
      "cell_type": "markdown",
      "source": [
        "**Access Items through index**\n",
        "\n",
        "positive\n",
        "\n",
        "negative\n",
        "\n",
        "range\n",
        "\n",
        "slicing\n",
        "\n",
        "Check if Item Exists\n",
        "\n",
        "To determine if a specified item is present in a list use the in keyword:"
      ],
      "metadata": {
        "id": "zVGHGC0JHVYL"
      }
    },
    {
      "cell_type": "markdown",
      "source": [
        "**Access list items**\n",
        "\n",
        "list1[1]\n",
        "\n",
        "list1[-1]\n",
        "\n",
        "list1[2:5] #he search will start at index 2 (included) and end at index 5 (not included).\n",
        "\n",
        "list1[:3] #start se 3 tak\n",
        "\n",
        "list1[2:] #2 se end tak\n",
        "\n",
        "list1[-4:-1]"
      ],
      "metadata": {
        "id": "Vu5NhK1pU14E"
      }
    },
    {
      "cell_type": "markdown",
      "source": [
        "# **updates items**"
      ],
      "metadata": {
        "id": "Kq4t-3AUHYSQ"
      }
    },
    {
      "cell_type": "code",
      "source": [],
      "metadata": {
        "id": "rm1bsVNPVN7d"
      },
      "execution_count": null,
      "outputs": []
    },
    {
      "cell_type": "markdown",
      "source": [
        "Since tuples are immutable, they do not have a built-in append() method, but there are other ways to add items to a tuple.\n",
        "\n",
        "1. Convert into a list: Just like the workaround for changing a tuple, you can convert it into a list, add your item(s), and convert it back into a tuple."
      ],
      "metadata": {
        "id": "8OfJZVBfVKY4"
      }
    },
    {
      "cell_type": "code",
      "source": [],
      "metadata": {
        "id": "-D-88emaRa4G"
      },
      "execution_count": null,
      "outputs": []
    },
    {
      "cell_type": "markdown",
      "source": [
        "Add tuple to a tuple"
      ],
      "metadata": {
        "id": "EmBjddg2VbPr"
      }
    },
    {
      "cell_type": "code",
      "source": [],
      "metadata": {
        "id": "hmnOPFycVZR9"
      },
      "execution_count": null,
      "outputs": []
    },
    {
      "cell_type": "markdown",
      "source": [
        "append function\n",
        "\n",
        "insert\n",
        "\n",
        "extend (with list,one word,with set or tuple or dic)"
      ],
      "metadata": {
        "id": "ELvONV2lV3eu"
      }
    },
    {
      "cell_type": "code",
      "source": [],
      "metadata": {
        "id": "InxLC10RVZNb"
      },
      "execution_count": null,
      "outputs": []
    },
    {
      "cell_type": "code",
      "source": [],
      "metadata": {
        "id": "DodiT37AVg4q"
      },
      "execution_count": null,
      "outputs": []
    },
    {
      "cell_type": "code",
      "source": [],
      "metadata": {
        "id": "pBfi1MvgRgyc"
      },
      "execution_count": null,
      "outputs": []
    },
    {
      "cell_type": "code",
      "source": [],
      "metadata": {
        "id": "ad8lbEkuRhSP"
      },
      "execution_count": null,
      "outputs": []
    },
    {
      "cell_type": "code",
      "source": [],
      "metadata": {
        "id": "10VKYhMbRkQI"
      },
      "execution_count": null,
      "outputs": []
    },
    {
      "cell_type": "code",
      "source": [],
      "metadata": {
        "id": "CjZqZ3g9Rkkh"
      },
      "execution_count": null,
      "outputs": []
    },
    {
      "cell_type": "code",
      "source": [],
      "metadata": {
        "id": "tzS8uXjtRkhD"
      },
      "execution_count": null,
      "outputs": []
    },
    {
      "cell_type": "code",
      "source": [],
      "metadata": {
        "id": "t67zbkfePvHk"
      },
      "execution_count": null,
      "outputs": []
    },
    {
      "cell_type": "markdown",
      "source": [
        "# **Remove**"
      ],
      "metadata": {
        "id": "c-_SKzQLJDPO"
      }
    },
    {
      "cell_type": "markdown",
      "source": [
        "remove\n",
        "\n",
        "del\n",
        "\n",
        "\n"
      ],
      "metadata": {
        "id": "zDohVkLfJGD8"
      }
    },
    {
      "cell_type": "code",
      "source": [],
      "metadata": {
        "id": "MVu6HrDgRsjj"
      },
      "execution_count": null,
      "outputs": []
    },
    {
      "cell_type": "markdown",
      "source": [
        "# **loop**\n",
        "\n",
        "for with or wo index\n",
        "while\n"
      ],
      "metadata": {
        "id": "w9rax9zRJZ1w"
      }
    },
    {
      "cell_type": "code",
      "source": [],
      "metadata": {
        "id": "84AEiVS2Ru8f"
      },
      "execution_count": null,
      "outputs": []
    },
    {
      "cell_type": "code",
      "source": [],
      "metadata": {
        "id": "InJVKFQoRu5K"
      },
      "execution_count": null,
      "outputs": []
    },
    {
      "cell_type": "markdown",
      "source": [
        "# **Unpack Tuple**"
      ],
      "metadata": {
        "id": "oczpTkbQV832"
      }
    },
    {
      "cell_type": "code",
      "source": [],
      "metadata": {
        "id": "QNJWxMnKV8ry"
      },
      "execution_count": null,
      "outputs": []
    },
    {
      "cell_type": "markdown",
      "source": [
        "Using asterik*"
      ],
      "metadata": {
        "id": "BO8cctiVWFJ-"
      }
    },
    {
      "cell_type": "code",
      "source": [],
      "metadata": {
        "id": "Yquyz5IHV7sD"
      },
      "execution_count": null,
      "outputs": []
    },
    {
      "cell_type": "markdown",
      "source": [
        "# **Join Tupple**\n",
        "Multiple Tupples"
      ],
      "metadata": {
        "id": "qRE4E-OvO05r"
      }
    },
    {
      "cell_type": "code",
      "source": [],
      "metadata": {
        "id": "W5Df5g9NOhsR"
      },
      "execution_count": null,
      "outputs": []
    },
    {
      "cell_type": "markdown",
      "source": [
        "# **Practice Questions**\n",
        "\n",
        "Write a Python program to find the repeated items of a tuple.\n",
        "What is a Python tuple?\n",
        "How do you create an empty tuple in Python?\n",
        "How do you create a tuple with initial values in Python?\n",
        "Can you modify a tuple once it is created? Why or why not?\n",
        "How do you access an element in a tuple by its index?\n",
        "How do you find the length of a tuple in Python?\n",
        "How do you concatenate two tuples in Python?\n",
        "How do you convert a tuple into a list in Python?\n",
        "How do you check if an element is present in a tuple?\n",
        "How do you unpack a tuple into multiple variables in Python?\n",
        "\n"
      ],
      "metadata": {
        "id": "qdpxD0-EQLje"
      }
    }
  ]
}