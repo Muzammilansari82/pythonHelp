{
  "cells": [
    {
      "cell_type": "code",
      "execution_count": null,
      "metadata": {
        "colab": {
          "base_uri": "https://localhost:8080/"
        },
        "id": "fAYzfWZMJ_z6",
        "outputId": "b2f409a1-de0c-4518-a6f4-c5c669717477"
      },
      "outputs": [
        {
          "name": "stdout",
          "output_type": "stream",
          "text": [
            "SAvera Ansari\n",
            "20\n"
          ]
        }
      ],
      "source": [
        "class Bio:\n",
        "  def __init__(self):\n",
        "    self.a = \"SAvera Ansari\"\n",
        "    self.age = 20\n",
        "\n",
        "def BioData ():\n",
        "  return Bio()\n",
        "\n",
        "b = BioData()\n",
        "print(b.a)\n",
        "print(b.age)"
      ]
    },
    {
      "cell_type": "code",
      "execution_count": null,
      "metadata": {
        "id": "IhLSJRFPYWty"
      },
      "outputs": [],
      "source": []
    },
    {
      "cell_type": "code",
      "execution_count": 1,
      "metadata": {
        "id": "83de8551"
      },
      "outputs": [],
      "source": [
        "class Bio:\n",
        "    def __init__(self,name,classs):\n",
        "        self.n = name\n",
        "        self.c = classs\n",
        "    def displayBio(self):\n",
        "        print(self.n)\n",
        "        print(self.c)\n"
      ]
    },
    {
      "cell_type": "code",
      "execution_count": 2,
      "metadata": {
        "id": "36d47dd6",
        "outputId": "299be853-d112-4ea3-bffe-b2c7954b7ddf"
      },
      "outputs": [],
      "source": [
        "BioData = Bio(\"SAvera\",\"BSC\")\n",
        "# BioData.displayBio()"
      ]
    },
    {
      "cell_type": "code",
      "execution_count": null,
      "metadata": {
        "id": "8SXeH-GvK0tu"
      },
      "outputs": [],
      "source": [
        "class Animal:\n",
        "\n",
        "  a=20\n",
        "  def __init__(self,name):\n",
        "    Animal.a = name\n",
        "    print(\"\")\n",
        "  def eat(self):\n",
        "    print(\"Animals can eat\")\n",
        "class Birds:\n",
        "  def fly(self):\n",
        "    print(\"Birds can fly\")"
      ]
    },
    {
      "cell_type": "code",
      "execution_count": null,
      "metadata": {
        "id": "lyZM7m_-LKld"
      },
      "outputs": [],
      "source": [
        "class Sparrow (Animal,Birds):\n",
        "  def __init__(self):\n",
        "    super(). __init__('jhggf')\n",
        "    print(\"This is  Child Constructor\")\n",
        "\n",
        "  def display(self):\n",
        "      print(\"My name is :\",super().a)\n",
        "\n",
        "  def eat(self):\n",
        "    super().eat()\n",
        "    print(\"Sparrow can also eat\")\n",
        "  def sleep(self):\n",
        "    print(\"THEy can  also \")"
      ]
    },
    {
      "cell_type": "code",
      "execution_count": null,
      "metadata": {
        "colab": {
          "base_uri": "https://localhost:8080/"
        },
        "id": "LbiT3oP2RbVJ",
        "outputId": "95739e80-1b3a-44d9-9f52-31f8686246d8"
      },
      "outputs": [
        {
          "name": "stdout",
          "output_type": "stream",
          "text": [
            "\n",
            "This is  Child Constructor\n",
            "Animals can eat\n",
            "Sparrow can also eat\n",
            "Birds can fly\n",
            "My name is : jhggf\n",
            "THEy can  also \n"
          ]
        }
      ],
      "source": [
        "s = Sparrow()\n",
        "\n",
        "s.eat()\n",
        "s.fly()\n",
        "s.display()\n",
        "\n",
        "s.sleep()"
      ]
    },
    {
      "cell_type": "code",
      "execution_count": null,
      "metadata": {
        "id": "hQ58OVKLS2No"
      },
      "outputs": [],
      "source": []
    }
  ],
  "metadata": {
    "colab": {
      "provenance": []
    },
    "kernelspec": {
      "display_name": "Python 3",
      "name": "python3"
    },
    "language_info": {
      "codemirror_mode": {
        "name": "ipython",
        "version": 3
      },
      "file_extension": ".py",
      "mimetype": "text/x-python",
      "name": "python",
      "nbconvert_exporter": "python",
      "pygments_lexer": "ipython3",
      "version": "3.11.3"
    }
  },
  "nbformat": 4,
  "nbformat_minor": 0
}
