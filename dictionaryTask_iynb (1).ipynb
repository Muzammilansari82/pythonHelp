{
 "cells": [
  {
   "cell_type": "code",
   "execution_count": null,
   "metadata": {
    "colab": {
     "base_uri": "https://localhost:8080/"
    },
    "id": "e7JbkBQKOSKu",
    "outputId": "f46d6180-b295-4bee-aa05-b5315f80d529"
   },
   "outputs": [
    {
     "name": "stdout",
     "output_type": "stream",
     "text": [
      "Ascending Order Dictionary=  ['A', 'B', 'C', 'D']\n",
      "Descending Order Dictionary=  ['D', 'C', 'B', 'A']\n"
     ]
    }
   ],
   "source": [
    "# Write a Python script to sort (ascending and descending) a\n",
    "# dictionary by value.\n",
    "dic = {'A':12,'B':324,'C':34,'D':65}\n",
    "# a = dict({'W':7,'X':3,'Y':2,'Z':1})\n",
    "\n",
    "ascending = sorted(dic)\n",
    "print(\"Ascending Order Dictionary= \",ascending)\n",
    "descending= sorted(dic, reverse = True)\n",
    "print(\"Descending Order Dictionary= \",descending)\n"
   ]
  },
  {
   "cell_type": "code",
   "execution_count": null,
   "metadata": {
    "colab": {
     "base_uri": "https://localhost:8080/"
    },
    "id": "ukxte9mmOcCW",
    "outputId": "04c6ea96-6b27-4f13-f666-5008e2c8d4ea"
   },
   "outputs": [
    {
     "name": "stdout",
     "output_type": "stream",
     "text": [
      "New Dictionary is:  {'A': 12, 'B': 324, 'C': 34, 'D': 65, 'W': 7, 'X': 3, 'Y': 2, 'Z': 1, 'k': 12, 'L': 345, 'M': 4, 'N': 7, 'O': 9, 'P': 34, 'Q': 2}\n",
      "Sorted New Dictionary is :  ['A', 'B', 'C', 'D', 'L', 'M', 'N', 'O', 'P', 'Q', 'W', 'X', 'Y', 'Z', 'k']\n"
     ]
    }
   ],
   "source": [
    "# • Write a Python script to concatenate three dictionaries to create a\n",
    "# new one.\n",
    "\n",
    "\n",
    "dic1 = {'A':12,'B':324,'C':34,'D':65}\n",
    "dic2 = dict({'W':7,'X':3,'Y':2,'Z':1})\n",
    "dic3= {'k':12,'L':345,'M':4,'N':7,'O':9,'P':34,'Q':2}\n",
    "\n",
    "dic1.update(dic2)\n",
    "dic1.update(dic3)\n",
    "final_dic = dic1\n",
    "print(\"New Dictionary is: \",final_dic)\n",
    "print(\"Sorted New Dictionary is : \" ,sorted(final_dic))\n"
   ]
  },
  {
   "cell_type": "code",
   "execution_count": null,
   "metadata": {
    "colab": {
     "base_uri": "https://localhost:8080/"
    },
    "id": "FCBcwVlIOcHW",
    "outputId": "7eb4ee59-8fdd-46b8-83ef-b04d4c89e0d0"
   },
   "outputs": [
    {
     "data": {
      "text/plain": [
       "{'A': 'W', 'B': 'X', 'C': 'Y', 'D': 'Z'}"
      ]
     },
     "execution_count": 7,
     "metadata": {},
     "output_type": "execute_result"
    }
   ],
   "source": [
    "# Write a Python script to merge two Python dictionaries.\n",
    "dic = {'A':12,'B':324,'C':34,'D':65}\n",
    "dic2 = dict({'W':7,'X':3,'Y':2,'Z':1})\n",
    "\n",
    "a= dict(zip(dic,dic2))\n",
    "a"
   ]
  },
  {
   "cell_type": "code",
   "execution_count": null,
   "metadata": {
    "colab": {
     "base_uri": "https://localhost:8080/"
    },
    "id": "XCUm9dq6PO05",
    "outputId": "3044a081-b94d-4993-df4a-dc659e9a011b"
   },
   "outputs": [
    {
     "name": "stdout",
     "output_type": "stream",
     "text": [
      "{1: 1, 2: 4, 3: 9, 4: 16, 5: 25, 6: 36, 7: 49, 8: 64, 9: 81, 10: 100, 11: 121, 12: 144, 13: 169, 14: 196, 15: 225}\n"
     ]
    }
   ],
   "source": [
    "# Write a Python script to create a dictionary where the keys are\n",
    "# numbers between 1 and 15 (both included) and the values are\n",
    "# square of keys.\n",
    "d= dict()\n",
    "for i in range(1,16):\n",
    "  d[i] = i**2\n",
    "print(d)\n"
   ]
  },
  {
   "cell_type": "code",
   "execution_count": null,
   "metadata": {
    "colab": {
     "base_uri": "https://localhost:8080/"
    },
    "id": "HglI12FNSTXV",
    "outputId": "21549550-83bf-4c3b-b6c3-200f85e820a8"
   },
   "outputs": [
    {
     "name": "stdout",
     "output_type": "stream",
     "text": [
      "{12: 4, 23: 6, 4: 3, 6: 22, 8: 5, 3: 4, 2: 55}\n"
     ]
    }
   ],
   "source": [
    "# Write a Python program to map two lists into a dictionary.\n",
    "\n",
    "a = [12,23,4,6,8,3,2]\n",
    "b = [4,6,3,22,5,4,55]\n",
    "c = dict(zip(a,b))\n",
    "\n",
    "print(c)\n"
   ]
  },
  {
   "cell_type": "code",
   "execution_count": null,
   "metadata": {
    "colab": {
     "base_uri": "https://localhost:8080/"
    },
    "id": "-rWtGN2jTWRF",
    "outputId": "48ff2a71-1b6b-434f-a1d6-c13b66a65a83"
   },
   "outputs": [
    {
     "name": "stdout",
     "output_type": "stream",
     "text": [
      "{12: 4, 23: 34, 4: 3, 6: 22, 8: 5, 3: 4, 2: 55}\n"
     ]
    }
   ],
   "source": [
    "# Write a Python program to remove duplicates values from\n",
    "# Dictionary.\n",
    "\n",
    "c={12: 4, 23: 6,23:34, 4: 3, 6: 22, 8: 5, 3: 4, 2: 55}\n",
    "if i in c:\n",
    "  i == c\n",
    "  c.pop(i)\n",
    "print(c)\n"
   ]
  },
  {
   "cell_type": "code",
   "execution_count": null,
   "metadata": {
    "colab": {
     "base_uri": "https://localhost:8080/"
    },
    "id": "IMg8sMd0VoMW",
    "outputId": "b872d6d2-5ec0-4f64-8de8-b89220ca5b76"
   },
   "outputs": [
    {
     "name": "stdout",
     "output_type": "stream",
     "text": [
      "ENter a total number of students2\n",
      "Enter a Student Record firstly enter name,Fname, Batch,Semester,CGPA\n",
      "savera,saas,da,\n",
      "2\n"
     ]
    }
   ],
   "source": [
    "# Write a python program to maintain information about each\n",
    "# student of Bsc-II.\n",
    "std=dict()\n",
    "totalStudent = input(\"ENter a total number of students\")\n",
    "print(\"Enter a Student Record firstly enter name,Fname, Batch,Semester,CGPA\")\n",
    "for i in totalStudent:\n",
    "  std  = input(\"\")\n",
    "print(i)\n",
    "\n"
   ]
  },
  {
   "cell_type": "code",
   "execution_count": null,
   "metadata": {
    "colab": {
     "base_uri": "https://localhost:8080/",
     "height": 252
    },
    "id": "ji_VDBzecoH0",
    "outputId": "8dee63be-8f6e-4b40-8872-77ba39d45dfd"
   },
   "outputs": [
    {
     "name": "stdout",
     "output_type": "stream",
     "text": [
      "Enter a total number of students: 2\n"
     ]
    },
    {
     "ename": "TypeError",
     "evalue": "ignored",
     "output_type": "error",
     "traceback": [
      "\u001b[0;31m---------------------------------------------------------------------------\u001b[0m",
      "\u001b[0;31mTypeError\u001b[0m                                 Traceback (most recent call last)",
      "\u001b[0;32m<ipython-input-36-ed176fe80669>\u001b[0m in \u001b[0;36m<cell line: 5>\u001b[0;34m()\u001b[0m\n\u001b[1;32m      4\u001b[0m \u001b[0;31m# a = dict(\"Name: \",\"fathername: \",\"batch: \",\"cgpa: \")\u001b[0m\u001b[0;34m\u001b[0m\u001b[0;34m\u001b[0m\u001b[0m\n\u001b[1;32m      5\u001b[0m \u001b[0;32mfor\u001b[0m \u001b[0mx\u001b[0m \u001b[0;32min\u001b[0m \u001b[0mrange\u001b[0m\u001b[0;34m(\u001b[0m\u001b[0mtotal_std\u001b[0m \u001b[0;34m)\u001b[0m\u001b[0;34m:\u001b[0m\u001b[0;34m\u001b[0m\u001b[0;34m\u001b[0m\u001b[0m\n\u001b[0;32m----> 6\u001b[0;31m   \u001b[0ma\u001b[0m \u001b[0;34m=\u001b[0m \u001b[0mdict\u001b[0m\u001b[0;34m(\u001b[0m\u001b[0;34m\"Name: \"\u001b[0m\u001b[0;34m,\u001b[0m\u001b[0;34m\"fathername: \"\u001b[0m\u001b[0;34m,\u001b[0m\u001b[0;34m\"batch: \"\u001b[0m\u001b[0;34m,\u001b[0m\u001b[0;34m\"cgpa: \"\u001b[0m\u001b[0;34m)\u001b[0m\u001b[0;34m\u001b[0m\u001b[0;34m\u001b[0m\u001b[0m\n\u001b[0m\u001b[1;32m      7\u001b[0m   \u001b[0mdetail\u001b[0m \u001b[0;34m=\u001b[0m \u001b[0minput\u001b[0m\u001b[0;34m(\u001b[0m\u001b[0;34m\"\"\u001b[0m\u001b[0;34m)\u001b[0m\u001b[0;34m\u001b[0m\u001b[0;34m\u001b[0m\u001b[0m\n\u001b[1;32m      8\u001b[0m   \u001b[0mb\u001b[0m \u001b[0;34m=\u001b[0m \u001b[0mdict\u001b[0m\u001b[0;34m(\u001b[0m\u001b[0mdetail\u001b[0m\u001b[0;34m)\u001b[0m\u001b[0;34m\u001b[0m\u001b[0;34m\u001b[0m\u001b[0m\n",
      "\u001b[0;31mTypeError\u001b[0m: dict expected at most 1 argument, got 4"
     ]
    }
   ],
   "source": [
    "std = dict()\n",
    "std_records = dict()\n",
    "total_std = int(input(\"Enter a total number of students: \"))\n",
    "a = dict[\"Name \",\"fathername \",\"batch \",\"cgpa \"]\n",
    "for x in range(total_std ):\n",
    "  #a = dict(\"Name: \",\"fathername: \",\"batch: \",\"cgpa: \")\n",
    "  detail = input(\"\")\n",
    "  b = dict(detail)\n",
    "  c = zip(a,b)\n",
    "#     //a = str(input(\"Enter a  subjects you wants: \"))\n",
    "#     list.append(a)\n",
    "# print(std)\n",
    "# print(\"Subjects: \")\n",
    "\n"
   ]
  },
  {
   "cell_type": "code",
   "execution_count": null,
   "metadata": {
    "id": "6DCLaF3GVoZL"
   },
   "outputs": [],
   "source": []
  },
  {
   "cell_type": "code",
   "execution_count": null,
   "metadata": {
    "id": "E7POtXJQVoc9"
   },
   "outputs": [],
   "source": []
  }
 ],
 "metadata": {
  "colab": {
   "provenance": []
  },
  "kernelspec": {
   "display_name": "Python 3 (ipykernel)",
   "language": "python",
   "name": "python3"
  },
  "language_info": {
   "codemirror_mode": {
    "name": "ipython",
    "version": 3
   },
   "file_extension": ".py",
   "mimetype": "text/x-python",
   "name": "python",
   "nbconvert_exporter": "python",
   "pygments_lexer": "ipython3",
   "version": "3.11.4"
  }
 },
 "nbformat": 4,
 "nbformat_minor": 1
}
