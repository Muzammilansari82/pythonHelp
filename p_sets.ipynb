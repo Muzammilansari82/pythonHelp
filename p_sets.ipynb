{
  "nbformat": 4,
  "nbformat_minor": 0,
  "metadata": {
    "colab": {
      "provenance": []
    },
    "kernelspec": {
      "name": "python3",
      "display_name": "Python 3"
    },
    "language_info": {
      "name": "python"
    }
  },
  "cells": [
    {
      "cell_type": "markdown",
      "source": [
        "# **SETS**"
      ],
      "metadata": {
        "id": "EeP4mJPtFmbL"
      }
    },
    {
      "cell_type": "markdown",
      "source": [
        "# **Functions**\n",
        "\n",
        "\n",
        "add()\tAdds an element to the set\n",
        "\n",
        "clear()\tRemoves all the elements from the set\n",
        "\n",
        "copy()\tReturns a copy of the set\n",
        "\n",
        "difference()\tReturns a set containing the difference between two or more sets\n",
        "\n",
        "difference_update()\tRemoves the items in this set that are also included in another, specified set\n",
        "\n",
        "discard()\tRemove the specified item\n",
        "\n",
        "intersection()\tReturns a set, that is the intersection of two other sets\n",
        "\n",
        "intersection_update()\tRemoves the items in this set that are not present in other, specified set(s)\n",
        "\n",
        "isdisjoint()\tReturns whether two sets have a intersection or not\n",
        "\n",
        "issubset()\tReturns whether another set contains this set or not\n",
        "\n",
        "issuperset()\tReturns whether this set contains another set or not\n",
        "\n",
        "pop()\tRemoves an element from the set\n",
        "\n",
        "remove()\tRemoves the specified element\n",
        "\n",
        "symmetric_difference()\tReturns a set with the symmetric differences of two sets\n",
        "\n",
        "symmetric_difference_update()\tinserts the symmetric differences from this set and another\n",
        "\n",
        "union()\tReturn a set containing the union of sets\n",
        "\n",
        "update()\tUpdate the set with the union of this set and others\n",
        "\n",
        "len()\n",
        "\n",
        "type()"
      ],
      "metadata": {
        "id": "ek_ZLSKvPJNX"
      }
    },
    {
      "cell_type": "markdown",
      "source": [
        "**Make a Sets and Use its Functions**"
      ],
      "metadata": {
        "id": "CJVsL_NMQdN4"
      }
    },
    {
      "cell_type": "code",
      "execution_count": null,
      "metadata": {
        "id": "YZ_waumnFkyQ"
      },
      "outputs": [],
      "source": []
    },
    {
      "cell_type": "code",
      "source": [],
      "metadata": {
        "id": "aCLDsiJ_PNz4"
      },
      "execution_count": null,
      "outputs": []
    },
    {
      "cell_type": "code",
      "source": [],
      "metadata": {
        "id": "BwmlLh8HFwzU"
      },
      "execution_count": null,
      "outputs": []
    },
    {
      "cell_type": "markdown",
      "source": [
        "**Sets Items**\n",
        "\n",
        "Sets items are **unordered**, **unchangeable,but **you can remove items and add new items** and do not allow duplicate values.**\n",
        "\n",
        "Sets items are **unindexed**"
      ],
      "metadata": {
        "id": "N6jUZpjpGWlh"
      }
    },
    {
      "cell_type": "markdown",
      "source": [
        "Duplicates not allowed"
      ],
      "metadata": {
        "id": "QNzBWEKOYUJt"
      }
    },
    {
      "cell_type": "code",
      "source": [
        "thisset = {\"apple\", \"banana\", \"cherry\", \"apple\"}\n",
        "\n",
        "print(thisset)"
      ],
      "metadata": {
        "id": "yEXtbO6mYTSS"
      },
      "execution_count": null,
      "outputs": []
    },
    {
      "cell_type": "code",
      "source": [],
      "metadata": {
        "id": "8ORQ74SSYbGa"
      },
      "execution_count": null,
      "outputs": []
    },
    {
      "cell_type": "code",
      "source": [
        "# Can work with different datatypes\n",
        "thisset = {\"apple\", \"banana\", \"cherry\", True, 1, 2}\n",
        "\n",
        "print(thisset)\n"
      ],
      "metadata": {
        "id": "VrFgf1w7GZ_l"
      },
      "execution_count": null,
      "outputs": []
    },
    {
      "cell_type": "code",
      "source": [
        "set1 = {\"abc\", 34, True, 40, \"male\"}"
      ],
      "metadata": {
        "id": "xioH_ZnHYmyG"
      },
      "execution_count": null,
      "outputs": []
    },
    {
      "cell_type": "code",
      "source": [
        "# using sets() constructor make a list\n",
        "a = set((\"a\",\"f\",\"sf\"))\n",
        "a"
      ],
      "metadata": {
        "id": "1eExtyV9HBYf"
      },
      "execution_count": null,
      "outputs": []
    },
    {
      "cell_type": "code",
      "source": [],
      "metadata": {
        "id": "aAtFbWcWHNnt"
      },
      "execution_count": null,
      "outputs": []
    },
    {
      "cell_type": "markdown",
      "source": [
        "**Access Items **\n",
        "\n",
        "you cannot access items in a set by referring to an index or a key.\n",
        "\n",
        "But you can loop through the set items using a for loop, or ask if a specified value is present in a set, by using the in keyword.\n"
      ],
      "metadata": {
        "id": "zVGHGC0JHVYL"
      }
    },
    {
      "cell_type": "code",
      "source": [],
      "metadata": {
        "id": "0N-VpTk9Y3IF"
      },
      "execution_count": null,
      "outputs": []
    },
    {
      "cell_type": "markdown",
      "source": [
        "# **Change set Items**\n",
        "\n",
        "Once a set is created, you cannot change its items, but you can add new items"
      ],
      "metadata": {
        "id": "Kq4t-3AUHYSQ"
      }
    },
    {
      "cell_type": "code",
      "source": [],
      "metadata": {
        "id": "-D-88emaRa4G"
      },
      "execution_count": null,
      "outputs": []
    },
    {
      "cell_type": "code",
      "source": [],
      "metadata": {
        "id": "pBfi1MvgRgyc"
      },
      "execution_count": null,
      "outputs": []
    },
    {
      "cell_type": "code",
      "source": [],
      "metadata": {
        "id": "ad8lbEkuRhSP"
      },
      "execution_count": null,
      "outputs": []
    },
    {
      "cell_type": "markdown",
      "source": [
        "# **Add set Items**\n"
      ],
      "metadata": {
        "id": "E30CdU5OIefo"
      }
    },
    {
      "cell_type": "markdown",
      "source": [
        "add()\n",
        "update()\n",
        "\n",
        "\n",
        "\n"
      ],
      "metadata": {
        "id": "XAE5NYFsIjPv"
      }
    },
    {
      "cell_type": "code",
      "source": [],
      "metadata": {
        "id": "10VKYhMbRkQI"
      },
      "execution_count": null,
      "outputs": []
    },
    {
      "cell_type": "code",
      "source": [],
      "metadata": {
        "id": "CjZqZ3g9Rkkh"
      },
      "execution_count": null,
      "outputs": []
    },
    {
      "cell_type": "code",
      "source": [],
      "metadata": {
        "id": "tzS8uXjtRkhD"
      },
      "execution_count": null,
      "outputs": []
    },
    {
      "cell_type": "code",
      "source": [],
      "metadata": {
        "id": "t67zbkfePvHk"
      },
      "execution_count": null,
      "outputs": []
    },
    {
      "cell_type": "markdown",
      "source": [
        "# **Remove**"
      ],
      "metadata": {
        "id": "c-_SKzQLJDPO"
      }
    },
    {
      "cell_type": "markdown",
      "source": [
        "**remove**\n",
        "\n",
        "**discard**  If the item to remove does not exist, discard() will NOT raise an error.\n",
        "\n",
        "**pop**\n",
        "\n",
        "**del**\n",
        "\n",
        "**clear **\n"
      ],
      "metadata": {
        "id": "zDohVkLfJGD8"
      }
    },
    {
      "cell_type": "code",
      "source": [],
      "metadata": {
        "id": "MVu6HrDgRsjj"
      },
      "execution_count": null,
      "outputs": []
    },
    {
      "cell_type": "markdown",
      "source": [
        "# **loop**\n",
        "\n",
        "for\n"
      ],
      "metadata": {
        "id": "w9rax9zRJZ1w"
      }
    },
    {
      "cell_type": "code",
      "source": [],
      "metadata": {
        "id": "84AEiVS2Ru8f"
      },
      "execution_count": null,
      "outputs": []
    },
    {
      "cell_type": "code",
      "source": [],
      "metadata": {
        "id": "InJVKFQoRu5K"
      },
      "execution_count": null,
      "outputs": []
    },
    {
      "cell_type": "markdown",
      "source": [
        "# **Join Sets**\n",
        "\n",
        "union()\n",
        "update()\n",
        "intersection_update()\n",
        "intersection()\n",
        "symmetric_difference_update()"
      ],
      "metadata": {
        "id": "qRE4E-OvO05r"
      }
    },
    {
      "cell_type": "code",
      "source": [],
      "metadata": {
        "id": "QV4YkMVnbpl7"
      },
      "execution_count": null,
      "outputs": []
    },
    {
      "cell_type": "code",
      "source": [],
      "metadata": {
        "id": "W5Df5g9NOhsR"
      },
      "execution_count": null,
      "outputs": []
    },
    {
      "cell_type": "code",
      "source": [],
      "metadata": {
        "id": "rv_Jf6nhb2kt"
      },
      "execution_count": null,
      "outputs": []
    },
    {
      "cell_type": "markdown",
      "source": [
        "# **Practice Questions**\n",
        "\n",
        "What is a Python set?\n",
        "How do you create an empty set in Python?\n",
        "How do you create a set with initial values in Python?\n",
        "What is the difference between a set and a list in Python?\n",
        "How do you add an element to a set in Python?\n",
        "How do you remove an element from a set in Python?\n",
        "How do you check if an element is present in a set?\n",
        "How do you find the union of two sets in Python?\n",
        "How do you find the intersection of two sets in Python?\n",
        "How do you find the difference between two sets in Python?"
      ],
      "metadata": {
        "id": "qdpxD0-EQLje"
      }
    },
    {
      "cell_type": "markdown",
      "source": [
        "slides"
      ],
      "metadata": {
        "id": "UYctfoYpb3bl"
      }
    }
  ]
}