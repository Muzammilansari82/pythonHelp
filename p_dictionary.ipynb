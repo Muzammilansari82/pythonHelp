{
  "nbformat": 4,
  "nbformat_minor": 0,
  "metadata": {
    "colab": {
      "provenance": []
    },
    "kernelspec": {
      "name": "python3",
      "display_name": "Python 3"
    },
    "language_info": {
      "name": "python"
    }
  },
  "cells": [
    {
      "cell_type": "markdown",
      "source": [
        "# **Dictionary**"
      ],
      "metadata": {
        "id": "EeP4mJPtFmbL"
      }
    },
    {
      "cell_type": "markdown",
      "source": [
        "# **Functions**\n",
        "\n",
        "\n",
        "clear()\tRemoves all the elements from the dictionary\n",
        "\n",
        "copy()\tReturns a copy of the dictionary\n",
        "\n",
        "fromkeys()\tReturns a dictionary with the specified keys and value\n",
        "\n",
        "get()\tReturns the value of the specified key\n",
        "\n",
        "items()\tReturns a list containing a tuple for each key value pair\n",
        "\n",
        "keys()\tReturns a list containing the dictionary's keys\n",
        "\n",
        "pop()\tRemoves the element with the specified key\n",
        "\n",
        "popitem()\tRemoves the last inserted key-value pair\n",
        "\n",
        "setdefault()\tReturns the value of the specified key. If the key does not exist: insert the key, with the specified value\n",
        "\n",
        "update()\tUpdates the dictionary with the specified key-value pairs\n",
        "\n",
        "values()\tReturns a list of all the values in the dictionary\n",
        "\n",
        "len()\n",
        "\n",
        "type()"
      ],
      "metadata": {
        "id": "ek_ZLSKvPJNX"
      }
    },
    {
      "cell_type": "markdown",
      "source": [
        "**Make a List and Use its Functions**"
      ],
      "metadata": {
        "id": "CJVsL_NMQdN4"
      }
    },
    {
      "cell_type": "code",
      "execution_count": null,
      "metadata": {
        "id": "YZ_waumnFkyQ"
      },
      "outputs": [],
      "source": []
    },
    {
      "cell_type": "code",
      "source": [],
      "metadata": {
        "id": "aCLDsiJ_PNz4"
      },
      "execution_count": null,
      "outputs": []
    },
    {
      "cell_type": "code",
      "source": [],
      "metadata": {
        "id": "BwmlLh8HFwzU"
      },
      "execution_count": null,
      "outputs": []
    },
    {
      "cell_type": "markdown",
      "source": [
        "# **Dict **\n",
        "\n",
        "Dictionaries are used to store data values in **key:value pairs**.\n",
        "\n",
        "Dict items are **ordered**, **changeable,** and **dont allow duplicate** values.\n",
        "\n",
        "referred to by using the key name.\n",
        "\n"
      ],
      "metadata": {
        "id": "N6jUZpjpGWlh"
      }
    },
    {
      "cell_type": "code",
      "source": [
        "# Can work with different datatypes\n",
        "thisdict = {\n",
        "  \"brand\": \"Ford\",\n",
        "  \"model\": \"Mustang\",\n",
        "  \"year\": 1964\n",
        "}\n",
        "print(type(thisdict))\n"
      ],
      "metadata": {
        "id": "VrFgf1w7GZ_l"
      },
      "execution_count": null,
      "outputs": []
    },
    {
      "cell_type": "code",
      "source": [
        "# Using the dict() method to make a dictionary:\n",
        "thisdict = dict(name = \"John\", age = 36, country = \"Norway\")\n",
        "print(thisdict)"
      ],
      "metadata": {
        "id": "1eExtyV9HBYf"
      },
      "execution_count": null,
      "outputs": []
    },
    {
      "cell_type": "code",
      "source": [],
      "metadata": {
        "id": "aAtFbWcWHNnt"
      },
      "execution_count": null,
      "outputs": []
    },
    {
      "cell_type": "markdown",
      "source": [
        "# **Access Items **\n",
        "\n",
        "by referring to its key name, inside square brackets:\n",
        "\n",
        "get()\n",
        "keys()\n",
        "values()\n",
        "items()\n",
        "\n",
        "can update\n",
        "\n",
        "if in\n",
        "\n"
      ],
      "metadata": {
        "id": "zVGHGC0JHVYL"
      }
    },
    {
      "cell_type": "markdown",
      "source": [
        "# **Change Dict Values or add**\n",
        "\n",
        "update()"
      ],
      "metadata": {
        "id": "Kq4t-3AUHYSQ"
      }
    },
    {
      "cell_type": "code",
      "source": [],
      "metadata": {
        "id": "-D-88emaRa4G"
      },
      "execution_count": null,
      "outputs": []
    },
    {
      "cell_type": "code",
      "source": [],
      "metadata": {
        "id": "pBfi1MvgRgyc"
      },
      "execution_count": null,
      "outputs": []
    },
    {
      "cell_type": "code",
      "source": [],
      "metadata": {
        "id": "ad8lbEkuRhSP"
      },
      "execution_count": null,
      "outputs": []
    },
    {
      "cell_type": "code",
      "source": [],
      "metadata": {
        "id": "tzS8uXjtRkhD"
      },
      "execution_count": null,
      "outputs": []
    },
    {
      "cell_type": "code",
      "source": [],
      "metadata": {
        "id": "t67zbkfePvHk"
      },
      "execution_count": null,
      "outputs": []
    },
    {
      "cell_type": "markdown",
      "source": [
        "# **Remove**"
      ],
      "metadata": {
        "id": "c-_SKzQLJDPO"
      }
    },
    {
      "cell_type": "markdown",
      "source": [
        "\n",
        "pop()\n",
        "\n",
        "popitem()\n",
        "\n",
        "del\n",
        "\n",
        "clear\n"
      ],
      "metadata": {
        "id": "zDohVkLfJGD8"
      }
    },
    {
      "cell_type": "code",
      "source": [],
      "metadata": {
        "id": "MVu6HrDgRsjj"
      },
      "execution_count": null,
      "outputs": []
    },
    {
      "cell_type": "markdown",
      "source": [
        "# **loop**\n",
        "\n",
        "values()\n",
        "\n",
        "keys()\n",
        "\n",
        "items()\n",
        "\n",
        "for with or wo index\n",
        "while\n"
      ],
      "metadata": {
        "id": "w9rax9zRJZ1w"
      }
    },
    {
      "cell_type": "code",
      "source": [],
      "metadata": {
        "id": "84AEiVS2Ru8f"
      },
      "execution_count": null,
      "outputs": []
    },
    {
      "cell_type": "code",
      "source": [],
      "metadata": {
        "id": "InJVKFQoRu5K"
      },
      "execution_count": null,
      "outputs": []
    },
    {
      "cell_type": "markdown",
      "source": [
        "# **Copy Dict**"
      ],
      "metadata": {
        "id": "0yFYTosmOiGl"
      }
    },
    {
      "cell_type": "code",
      "source": [],
      "metadata": {
        "id": "IDJ8nbcdes9U"
      },
      "execution_count": null,
      "outputs": []
    },
    {
      "cell_type": "markdown",
      "source": [
        "# **Nested Dictionary**\n",
        "\n"
      ],
      "metadata": {
        "id": "7eZP_VR2ethg"
      }
    },
    {
      "cell_type": "code",
      "source": [],
      "metadata": {
        "id": "0S3-GpsNe2n-"
      },
      "execution_count": null,
      "outputs": []
    },
    {
      "cell_type": "markdown",
      "source": [
        "# **Practice Questions**\n",
        "\n"
      ],
      "metadata": {
        "id": "qdpxD0-EQLje"
      }
    }
  ]
}